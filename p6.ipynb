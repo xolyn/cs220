{
 "cells": [
  {
   "cell_type": "code",
   "execution_count": 1,
   "id": "0cb8f079",
   "metadata": {
    "deletable": false,
    "editable": false
   },
   "outputs": [],
   "source": [
    "# Initialize Otter\n",
    "import otter\n",
    "grader = otter.Notebook(\"p6.ipynb\")"
   ]
  },
  {
   "cell_type": "code",
   "execution_count": 2,
   "id": "cf8f4503",
   "metadata": {},
   "outputs": [],
   "source": [
    "import p6_test"
   ]
  },
  {
   "cell_type": "markdown",
   "id": "3116a04d",
   "metadata": {},
   "source": [
    "# Project 6: Airbnb"
   ]
  },
  {
   "cell_type": "markdown",
   "id": "fc4a993d",
   "metadata": {},
   "source": [
    "## Learning Objectives:\n",
    "\n",
    "In this project, you will demonstrate how to:\n",
    "\n",
    "* access and utilize data in CSV files,\n",
    "* process real world datasets,\n",
    "* use string methods and sorting function / method to order data.\n",
    "\n",
    "Please go through [lab-p6](https://git.doit.wisc.edu/cdis/cs/courses/cs220/cs220-f22-projects/-/tree/main/lab-p6) before working on this project. The lab introduces some useful techniques related to this project."
   ]
  },
  {
   "cell_type": "markdown",
   "id": "4b7d3514",
   "metadata": {},
   "source": [
    "## Testing your code:\n",
    "\n",
    "Along with this notebook, you must have downloaded the file `p6_test.py`. If you are curious about how we test your code, you can explore this file, and specifically the value of the variable `expected_json`, to understand the expected answers to the questions."
   ]
  },
  {
   "cell_type": "markdown",
   "id": "c8befadb",
   "metadata": {},
   "source": [
    "## Project Description:\n",
    "\n",
    "Data Science can help us understand user behavior on online platform services. This project is about the rooms listed on Airbnb. Since 2008, guests and hosts have used Airbnb to expand on traveling possibilities and present a more unique, personalized way of experiencing the world. `airbnb.csv` has data of nearly 50,000 listings on Airbnb from New York City, NY from the year 2019. This file includes a lot of information about the hosts, geographical availability of the listings, and other necessary metrics to make predictions and draw conclusions. You will be using various string manipulation methods that come with Python as well as creating some of your own functions to solve the problems posed. Happy coding!"
   ]
  },
  {
   "cell_type": "markdown",
   "id": "4f0aee24",
   "metadata": {},
   "source": [
    "## Dataset:\n",
    "\n",
    "A small portion of the dataset `airbnb.csv` you will be working with for this project is reproduced here:"
   ]
  },
  {
   "cell_type": "markdown",
   "id": "54c0f066",
   "metadata": {},
   "source": [
    "room_id|name|host_id|host_name|neighborhood_group|neighborhood|latitude|longitude|room_type|price|minimum_nights|number_of_reviews|last_review|reviews_per_month|calculated_host_listings_count|availability_365\n",
    "------|------|------|------|------|------|------|------|------|------|------|------|------|------|------|------|\n",
    "2539|Clean & quiet apt home by the park|2787|John|Brooklyn|Kensington|40.64749000000001|-73.97237|Private room|149|1|9|2018-10-19|0.21|6|365\n",
    "2595|Skylit Midtown Castle|2845|Jennifer|Manhattan|Midtown|40.75362|-73.98376999999998|Entire home/apt|225|1|45|2019-05-21|0.38|2|355\n",
    "3647|THE VILLAGE OF HARLEM....NEW YORK !|4632|Elisabeth|Manhattan|Harlem|40.80902|-73.9419|Private room|150|3|0|||1|365\n",
    "3831|Cozy Entire Floor of Brownstone|4869|LisaRoxanne|Brooklyn|Clinton Hill|40.68514|-73.95976|Entire home/apt|89|1|270|2019-07-05|4.64|1|194\n",
    "5022|Entire Apt: Spacious Studio/Loft by central park|7192|Laura|Manhattan|East Harlem|40.79851|-73.94399|Entire home/apt|80|10|9|2018-11-19|0.1|1|0\n",
    "5099|Large Cozy 1 BR Apartment In Midtown East|7322|Chris|Manhattan|Murray Hill|40.74767|-73.975|Entire home/apt|200|3|74|2019-06-22|0.59|1|129"
   ]
  },
  {
   "cell_type": "markdown",
   "id": "028bb42a",
   "metadata": {},
   "source": [
    "You can find more details on the dataset in [lab-p6](https://git.doit.wisc.edu/cdis/cs/courses/cs220/cs220-f22-projects/-/tree/main/lab-p6)."
   ]
  },
  {
   "cell_type": "markdown",
   "id": "6e3421eb",
   "metadata": {},
   "source": [
    "## Questions and Functions:\n",
    "\n",
    "Let us start by importing all the modules we will need for this project."
   ]
  },
  {
   "cell_type": "code",
   "execution_count": 3,
   "id": "49d20857",
   "metadata": {
    "tags": []
   },
   "outputs": [],
   "source": [
    "# it is considered a good coding practice to place all import statements at the top of the notebook\n",
    "# please place all your import statements in this cell if you need to import any more modules for this project\n",
    "import csv\n",
    "# just in case:\n",
    "import math"
   ]
  },
  {
   "cell_type": "markdown",
   "id": "b7e60768",
   "metadata": {},
   "source": [
    "#### Now, copy and paste the `process_csv` and `cell` functions from your [lab-p6](https://git.doit.wisc.edu/cdis/cs/courses/cs220/cs220-f22-projects/-/tree/main/lab-p6) notebook to the cell below.\n",
    "\n",
    "You are expected to call the `process_csv` function correctly, and read the data on `airbnb.csv`. After reading the file, define the `csv_header`, and `csv_rows` variables as in [lab-p6](https://git.doit.wisc.edu/cdis/cs/courses/cs220/cs220-f22-projects/-/tree/main/lab-p6), and define the `cell` function.\n",
    "\n",
    "**Important:** You **must** only use the `cell` function to extract data from the dataset. If you extract any data without explicitly using this function, you will **lose points** during manual review. It is recommended but **optional** that you use the `cell` function defined in lab-p6. However, you **must** rename the function to `cell` in your p6 notebook. "
   ]
  },
  {
   "cell_type": "code",
   "execution_count": 4,
   "id": "3c1cdda2",
   "metadata": {
    "tags": []
   },
   "outputs": [],
   "source": [
    "def process_csv(filename):\n",
    "    example_file = open(filename, encoding=\"utf-8\")\n",
    "    example_reader = csv.reader(example_file)\n",
    "    example_data = list(example_reader)\n",
    "    example_file.close()\n",
    "    return example_data\n",
    "\n",
    "csv_data=process_csv(\"airbnb.csv\")\n",
    "csv_header=csv_data[0]\n",
    "csv_rows=csv_data[1:]\n",
    "\n",
    "\n",
    "\n",
    "def cell(row_idx, col_name):\n",
    "    col_idx = csv_header.index(col_name)\n",
    "    val = csv_rows[row_idx][col_idx]\n",
    "    if val == \"\":\n",
    "        return None\n",
    "    elif col_name == 'price':\n",
    "        val = int(val)\n",
    "    elif col_name == 'reviews_per_month':\n",
    "        val = float(val)\n",
    "    return val\n"
   ]
  },
  {
   "cell_type": "markdown",
   "id": "0e714104",
   "metadata": {},
   "source": [
    "**Question 1:** What **unique** `neighborhood_groups` are included in the dataset?\n",
    "\n",
    "Your output **must** be a *list* which stores all the **unique** neighborhood groups (i.e., without any duplicates). The order **does not** matter."
   ]
  },
  {
   "cell_type": "code",
   "execution_count": 5,
   "id": "2beafa70",
   "metadata": {
    "tags": []
   },
   "outputs": [
    {
     "data": {
      "text/plain": [
       "['Brooklyn', 'Manhattan', 'Queens', 'Staten Island', 'Bronx']"
      ]
     },
     "execution_count": 5,
     "metadata": {},
     "output_type": "execute_result"
    }
   ],
   "source": [
    "# compute and store the answer in the variable 'neighborhood_groups', then display it\n",
    "\n",
    "neighborhood_groups=[]\n",
    "for i in range(len(csv_rows)):\n",
    "    if cell(i,\"neighborhood_group\") in neighborhood_groups:\n",
    "        continue\n",
    "    else:\n",
    "        neighborhood_groups.append(cell(i,\"neighborhood_group\"))\n",
    "        \n",
    "neighborhood_groups"
   ]
  },
  {
   "cell_type": "code",
   "execution_count": 6,
   "id": "14176f10",
   "metadata": {
    "deletable": false,
    "editable": false
   },
   "outputs": [
    {
     "data": {
      "text/html": [
       "<p><strong><pre style='display: inline;'>q1</pre></strong> passed!</p>"
      ],
      "text/plain": [
       "q1 results: All test cases passed!"
      ]
     },
     "execution_count": 6,
     "metadata": {},
     "output_type": "execute_result"
    }
   ],
   "source": [
    "grader.check(\"q1\")"
   ]
  },
  {
   "cell_type": "markdown",
   "id": "b785fff1",
   "metadata": {},
   "source": [
    "**Question 2:** What is the **average** `price` of rooms in the dataset?"
   ]
  },
  {
   "cell_type": "code",
   "execution_count": 7,
   "id": "c6528c6a",
   "metadata": {
    "tags": []
   },
   "outputs": [
    {
     "data": {
      "text/plain": [
       "152.7206871868289"
      ]
     },
     "execution_count": 7,
     "metadata": {},
     "output_type": "execute_result"
    }
   ],
   "source": [
    "# compute and store the answer in the variable 'avg_price', then display it\n",
    "ttl_price=0\n",
    "for i in range(0,len(csv_rows)):\n",
    "    ttl_price+=cell(i,\"price\")\n",
    "avg_price=ttl_price/len(csv_rows)\n",
    "avg_price"
   ]
  },
  {
   "cell_type": "code",
   "execution_count": 8,
   "id": "233c68fe",
   "metadata": {
    "deletable": false,
    "editable": false
   },
   "outputs": [
    {
     "data": {
      "text/html": [
       "<p><strong><pre style='display: inline;'>q2</pre></strong> passed!</p>"
      ],
      "text/plain": [
       "q2 results: All test cases passed!"
      ]
     },
     "execution_count": 8,
     "metadata": {},
     "output_type": "execute_result"
    }
   ],
   "source": [
    "grader.check(\"q2\")"
   ]
  },
  {
   "cell_type": "markdown",
   "id": "2cbddd95",
   "metadata": {},
   "source": [
    "**Question 3:** How many rooms are in the `neighborhood` of *SoHo*?"
   ]
  },
  {
   "cell_type": "code",
   "execution_count": 9,
   "id": "3276b660",
   "metadata": {
    "tags": []
   },
   "outputs": [
    {
     "data": {
      "text/plain": [
       "358"
      ]
     },
     "execution_count": 9,
     "metadata": {},
     "output_type": "execute_result"
    }
   ],
   "source": [
    "# compute and store the answer in the variable 'count_soho', then display it\n",
    "from itertools import count\n",
    "\n",
    "\n",
    "count_soho=0\n",
    "for i in range(0,len(csv_rows)):\n",
    "    if cell(i,\"neighborhood\")==\"SoHo\":\n",
    "        count_soho+=1\n",
    "\n",
    "count_soho"
   ]
  },
  {
   "cell_type": "code",
   "execution_count": 10,
   "id": "e1179043",
   "metadata": {
    "deletable": false,
    "editable": false
   },
   "outputs": [
    {
     "data": {
      "text/html": [
       "<p><strong><pre style='display: inline;'>q3</pre></strong> passed!</p>"
      ],
      "text/plain": [
       "q3 results: All test cases passed!"
      ]
     },
     "execution_count": 10,
     "metadata": {},
     "output_type": "execute_result"
    }
   ],
   "source": [
    "grader.check(\"q3\")"
   ]
  },
  {
   "cell_type": "markdown",
   "id": "a655178b",
   "metadata": {},
   "source": [
    "### Function 1: `find_room_names(phrase)`\n",
    "\n",
    "We require you to complete the below function to answer the next several questions (this is a **requirement**, and you will **lose points** if you do not implement this function)."
   ]
  },
  {
   "cell_type": "code",
   "execution_count": 11,
   "id": "7290e8d6",
   "metadata": {
    "tags": []
   },
   "outputs": [],
   "source": [
    "def find_room_names(phrase):\n",
    "    rmnm=[]\n",
    "    \"\"\"\n",
    "    find_room_names(phrase) returns a list of all the room names that contain the \n",
    "    substring (case insensitive match) `phrase`.\n",
    "    \"\"\"\n",
    "    for i in range(len(csv_rows)):\n",
    "        if cell(i,\"name\")==None:\n",
    "            continue\n",
    "        elif phrase.upper() in cell(i,\"name\").upper():\n",
    "            rmnm.append(cell(i,\"name\"))\n",
    "    return rmnm\n",
    "    # replace with your code    \n",
    "    # TODO: create a list\n",
    "    # TODO: ignore rooms that do not have data entry for name, as indicated by a value of None\n",
    "    # TODO: check if the room name string contains phrase (case insensitive match)\n",
    "    # TODO: if so, add these room names to the list (the room names should be as in the dataset)\n",
    "    # TODO: return your list of room names"
   ]
  },
  {
   "cell_type": "markdown",
   "id": "b8d252c1",
   "metadata": {},
   "source": [
    "**Question 4:** Find all room `names` that contain the string `\"CBG\"`.\n",
    "    \n",
    "Your output **must** be a *list*. The order **does not** matter. You **must** call the `find_room_names` function to answer this question."
   ]
  },
  {
   "cell_type": "code",
   "execution_count": 12,
   "id": "5a9596cf",
   "metadata": {
    "tags": []
   },
   "outputs": [
    {
     "data": {
      "text/plain": [
       "['CBG CtyBGd HelpsHaiti rm#1:1-4',\n",
       " 'CBG Helps Haiti Room#2.5',\n",
       " 'CBG Helps Haiti Rm #2',\n",
       " 'CBG# 4Tiny room w/ huge window/AC',\n",
       " 'CBG Helps Haiti Rm #3',\n",
       " 'CBG HelpsHaiti #5 Suite']"
      ]
     },
     "execution_count": 12,
     "metadata": {},
     "output_type": "execute_result"
    }
   ],
   "source": [
    "# compute and store the answer in the variable 'rooms_contain_cbg', then display it\n",
    "rooms_contain_cbg=find_room_names(\"CBG\")\n",
    "rooms_contain_cbg "
   ]
  },
  {
   "cell_type": "code",
   "execution_count": 13,
   "id": "7037bdef",
   "metadata": {
    "deletable": false,
    "editable": false
   },
   "outputs": [
    {
     "data": {
      "text/html": [
       "<p><strong><pre style='display: inline;'>q4</pre></strong> passed!</p>"
      ],
      "text/plain": [
       "q4 results: All test cases passed!"
      ]
     },
     "execution_count": 13,
     "metadata": {},
     "output_type": "execute_result"
    }
   ],
   "source": [
    "grader.check(\"q4\")"
   ]
  },
  {
   "cell_type": "markdown",
   "id": "af8bfbfd",
   "metadata": {},
   "source": [
    "**Question 5:** Find all room `names` that contain **either** `\"cinema\"` **or** `\"film\"`.\n",
    "\n",
    "Your output **must** be a *list*. The order **does not** matter, but if a room's `name` contains **both** `\"cinema\"` and `\"film\"`, then the room must be included **only once** in your list. You **must** call the `find_room_names` function to answer this question."
   ]
  },
  {
   "cell_type": "code",
   "execution_count": 14,
   "id": "130785c0",
   "metadata": {},
   "outputs": [],
   "source": [
    "# For personal test only:\n",
    "# print(find_room_names(\"cinema\"))\n",
    "# print(\"\\n\")\n",
    "# print(find_room_names(\"film\"))"
   ]
  },
  {
   "cell_type": "code",
   "execution_count": 15,
   "id": "96f285bd",
   "metadata": {},
   "outputs": [],
   "source": [
    "# For personal note only:\n",
    "# a=[0,1,1,2]\n",
    "# b=[2,2,3]\n",
    "# u=list(set(a) | set(b)) #union or .union()\n",
    "# i=list(set(a) & set(b)) #intersection or .intersection()\n",
    "# u,i"
   ]
  },
  {
   "cell_type": "code",
   "execution_count": 16,
   "id": "59ca038d",
   "metadata": {
    "tags": []
   },
   "outputs": [
    {
     "data": {
      "text/plain": [
       "['Victorian Film location',\n",
       " \"Downtown Filmmaker's Loft by WTC\",\n",
       " 'Cinema + gym included with room',\n",
       " 'Stunning Chelsea 1BR w/ Gym, W/D, Doorman, Sundeck, Cinema, by Blueground',\n",
       " 'Music Recording Mixing Film Photography Art',\n",
       " 'Cool apartment in Brooklyn with free cinema & gym',\n",
       " 'WoodyAllen FilmSet-Like Digs (Apt)',\n",
       " 'Shoot. Film. Sleep. Unique Loft Space in Brooklyn.',\n",
       " 'Sunny private room featured in film',\n",
       " 'Brooklyn townhouse for filming',\n",
       " 'Clean music/film themed bedroom',\n",
       " 'The Otheroom Bar/Event/Filming Space -read details',\n",
       " 'Modern Townhouse for Photo, Film &  Daytime Events',\n",
       " 'Cinema Studio on Duplex Apt.',\n",
       " 'Film / photography location in unique apartment',\n",
       " 'TV-PHOTO-FILM-CINEMA-ART GALLERY-MUSIC STUDIO-LOFT',\n",
       " 'HUGE LUX 2FLOOR 2 BDRMSOHO LOFTw/HOME CINEMA',\n",
       " 'Premium Chelsea 1BR w/ Gym, W/D, Doorman, Sundeck, Cinema, by Blueground',\n",
       " 'Film Location',\n",
       " 'WoodyAllen FilmSet-Like Digs (Room)']"
      ]
     },
     "execution_count": 16,
     "metadata": {},
     "output_type": "execute_result"
    }
   ],
   "source": [
    "# compute and store the answer in the variable 'rooms_contain_cinema_film', then display it\n",
    "rooms_contain_cinema=find_room_names(\"cinema\")\n",
    "rooms_contain_film=find_room_names(\"film\")\n",
    "# rooms_contain_cinema_len=len(rooms_contain_cinema)\n",
    "# rooms_contain_film_len=len(rooms_contain_film)\n",
    "\n",
    "# for i in range(rooms_contain_cinema_len):\n",
    "#     for j in range(rooms_contain_film_len):\n",
    "# #         print(i,j)\n",
    "#         if rooms_contain_cinema[i]==rooms_contain_film[j]:\n",
    "#             rooms_contain_film.pop(j)\n",
    "#             rooms_contain_film_len=len(rooms_contain_film)\n",
    "#             print(rooms_contain_film_len)\n",
    "rooms_contain_cinema_film=list(set(rooms_contain_cinema).union(set(rooms_contain_film)))\n",
    "rooms_contain_cinema_film\n"
   ]
  },
  {
   "cell_type": "code",
   "execution_count": 17,
   "id": "d7dc2aa0",
   "metadata": {
    "deletable": false,
    "editable": false
   },
   "outputs": [
    {
     "data": {
      "text/html": [
       "<p><strong><pre style='display: inline;'>q5</pre></strong> passed!</p>"
      ],
      "text/plain": [
       "q5 results: All test cases passed!"
      ]
     },
     "execution_count": 17,
     "metadata": {},
     "output_type": "execute_result"
    }
   ],
   "source": [
    "grader.check(\"q5\")"
   ]
  },
  {
   "cell_type": "markdown",
   "id": "39758383",
   "metadata": {},
   "source": [
    "**Question 6:** Find the **longest** room `name` that contains the word `\"fun\"`.\n",
    "\n",
    "There is a **unique** such room with the longest `name`, so you **do not** have to worry about breaking ties. You **must** call the `find_room_names` function to answer this question."
   ]
  },
  {
   "cell_type": "code",
   "execution_count": 18,
   "id": "df10f226",
   "metadata": {
    "tags": []
   },
   "outputs": [
    {
     "data": {
      "text/plain": [
       "'Homey 1BR in Fun, Central West Village w/ Doorman by Blueground'"
      ]
     },
     "execution_count": 18,
     "metadata": {},
     "output_type": "execute_result"
    }
   ],
   "source": [
    "# compute and store the answer in the variable 'funnest_room', then display it\n",
    "frlist=find_room_names(\"fun\")\n",
    "funnest_room=\"\"\n",
    "funnest_room_len=0\n",
    "for item in frlist:\n",
    "    if funnest_room_len==0:\n",
    "        funnest_room_len=len(item)\n",
    "        funnest_room=item\n",
    "    else:\n",
    "        if len(item)>funnest_room_len:\n",
    "            funnest_room_len=len(item)\n",
    "            funnest_room=item\n",
    "funnest_room\n"
   ]
  },
  {
   "cell_type": "code",
   "execution_count": 19,
   "id": "149fd1f6",
   "metadata": {
    "deletable": false,
    "editable": false
   },
   "outputs": [
    {
     "data": {
      "text/html": [
       "<p><strong><pre style='display: inline;'>q6</pre></strong> passed!</p>"
      ],
      "text/plain": [
       "q6 results: All test cases passed!"
      ]
     },
     "execution_count": 19,
     "metadata": {},
     "output_type": "execute_result"
    }
   ],
   "source": [
    "grader.check(\"q6\")"
   ]
  },
  {
   "cell_type": "markdown",
   "id": "3b449f7b",
   "metadata": {},
   "source": [
    "**Question 7:** Find all the `names` of the rooms which have `price` *0* and have **more than** *30* `reviews`.\n",
    "\n",
    "Your output **must** be a *list*. The names **must** be sorted in **ascending (alphabetical) order**."
   ]
  },
  {
   "cell_type": "code",
   "execution_count": 20,
   "id": "560ffc64",
   "metadata": {
    "tags": []
   },
   "outputs": [
    {
     "data": {
      "text/plain": [
       "['Contemporary bedroom in brownstone with nice view',\n",
       " 'Cozy yet spacious private brownstone bedroom',\n",
       " 'Spacious comfortable master bedroom with nice view',\n",
       " '★Hostel Style Room | Ideal Traveling Buddies★']"
      ]
     },
     "execution_count": 20,
     "metadata": {},
     "output_type": "execute_result"
    }
   ],
   "source": [
    "# compute and store the answer in the variable 'no_cost_rooms', then display it\n",
    "no_cost_rooms=[]\n",
    "for i in range(len(csv_rows)):\n",
    "    if cell(i,\"price\")==0 and int(cell(i,\"number_of_reviews\"))>30:\n",
    "        no_cost_rooms.append(cell(i,\"name\"))\n",
    "    else:\n",
    "        continue\n",
    "no_cost_rooms.sort()\n",
    "no_cost_rooms\n",
    "\n"
   ]
  },
  {
   "cell_type": "code",
   "execution_count": 21,
   "id": "ab4e1521",
   "metadata": {
    "deletable": false,
    "editable": false
   },
   "outputs": [
    {
     "data": {
      "text/html": [
       "<p><strong><pre style='display: inline;'>q7</pre></strong> passed!</p>"
      ],
      "text/plain": [
       "q7 results: All test cases passed!"
      ]
     },
     "execution_count": 21,
     "metadata": {},
     "output_type": "execute_result"
    }
   ],
   "source": [
    "grader.check(\"q7\")"
   ]
  },
  {
   "cell_type": "markdown",
   "id": "6143b4f2",
   "metadata": {},
   "source": [
    "**Question 8:**  What `neighborhoods` are the rooms that have `prices` greater than *9999* located in?\n",
    "\n",
    "Your output **must** be a *list* of **unique** neighborhoods (i.e., without any duplicates). The names **must** be sorted in **descending (reverse-alphabetical) order**."
   ]
  },
  {
   "cell_type": "code",
   "execution_count": 22,
   "id": "a75c710d",
   "metadata": {
    "tags": []
   },
   "outputs": [
    {
     "data": {
      "text/plain": [
       "['Upper West Side', 'Greenpoint', 'Astoria']"
      ]
     },
     "execution_count": 22,
     "metadata": {},
     "output_type": "execute_result"
    }
   ],
   "source": [
    "# compute and store the answer in the variable 'pricey_neighborhoods', then display it\n",
    "pricey_neighborhoods=[]\n",
    "for i in range(len(csv_rows)):\n",
    "    if cell(i,\"price\")>9999:\n",
    "        if not (cell(i,\"neighborhood\") in pricey_neighborhoods):\n",
    "            pricey_neighborhoods.append(cell(i,\"neighborhood\"))\n",
    "pricey_neighborhoods.sort(reverse=True)\n",
    "pricey_neighborhoods"
   ]
  },
  {
   "cell_type": "code",
   "execution_count": 23,
   "id": "b971371d",
   "metadata": {
    "deletable": false,
    "editable": false
   },
   "outputs": [
    {
     "data": {
      "text/html": [
       "<p><strong><pre style='display: inline;'>q8</pre></strong> passed!</p>"
      ],
      "text/plain": [
       "q8 results: All test cases passed!"
      ]
     },
     "execution_count": 23,
     "metadata": {},
     "output_type": "execute_result"
    }
   ],
   "source": [
    "grader.check(\"q8\")"
   ]
  },
  {
   "cell_type": "markdown",
   "id": "895f7490",
   "metadata": {},
   "source": [
    "**Question 9:** How many rooms received their `last_review` in or before *2015*?\n",
    "\n",
    "You should **ignore** rooms for which the `last_review` data is missing.\n",
    "\n",
    "**Hint:** You can find the date of the last review in the `last_review` column."
   ]
  },
  {
   "cell_type": "code",
   "execution_count": 24,
   "id": "fefd654e",
   "metadata": {
    "tags": []
   },
   "outputs": [
    {
     "data": {
      "text/plain": [
       "1672"
      ]
     },
     "execution_count": 24,
     "metadata": {},
     "output_type": "execute_result"
    }
   ],
   "source": [
    "# compute and store the answer in the variable 'last_review_before_2015', then display it\n",
    "last_review_before_2015=0\n",
    "for i in range(len(csv_rows)):\n",
    "    if cell(i,\"last_review\")==None:\n",
    "        continue\n",
    "    elif int(cell(i,\"last_review\")[:4])<=2015:\n",
    "        last_review_before_2015+=1\n",
    "        \n",
    "last_review_before_2015"
   ]
  },
  {
   "cell_type": "code",
   "execution_count": 25,
   "id": "11a617ea",
   "metadata": {
    "deletable": false,
    "editable": false
   },
   "outputs": [
    {
     "data": {
      "text/html": [
       "<p><strong><pre style='display: inline;'>q9</pre></strong> passed!</p>"
      ],
      "text/plain": [
       "q9 results: All test cases passed!"
      ]
     },
     "execution_count": 25,
     "metadata": {},
     "output_type": "execute_result"
    }
   ],
   "source": [
    "grader.check(\"q9\")"
   ]
  },
  {
   "cell_type": "markdown",
   "id": "fffea252",
   "metadata": {},
   "source": [
    "### Function 2: `avg_price_per_room_type(room_type, neighborhood)`\n",
    "\n",
    "We require you to complete the below function to answer the next several questions (this is a **requirement**, and you will **lose points** if you do not implement this function)."
   ]
  },
  {
   "cell_type": "code",
   "execution_count": 26,
   "id": "1200df6c",
   "metadata": {
    "tags": []
   },
   "outputs": [],
   "source": [
    "def avg_price_per_room_type(room_type, neighborhood):\n",
    "    '''\n",
    "    avg_price_per_room_type(room_type, neighborhood) returns the average price of \n",
    "    rooms of the type `room_type` in the given `neighborhood`; if there are no\n",
    "    rooms of the type `room_type` in the given `neighborhood`, it returns `None`\n",
    "    '''\n",
    "    tpoct=0\n",
    "    counter=0\n",
    "    for i in range(len(csv_rows)): \n",
    "        if cell(i,\"neighborhood\")==None:\n",
    "            continue\n",
    "        elif(cell(i,\"neighborhood\")==neighborhood and cell(i,\"room_type\")==room_type):\n",
    "            \n",
    "            counter+=1\n",
    "            tpoct+=cell(i,\"price\")\n",
    "    if counter==0:\n",
    "        return None\n",
    "    else:\n",
    "        avgprice=(tpoct/counter)\n",
    "        return avgprice\n",
    "        \n",
    "        "
   ]
  },
  {
   "cell_type": "markdown",
   "id": "9fa0cd52",
   "metadata": {},
   "source": [
    "**Question 10:** What is the  **average** cost of a *Private room* in the`neighborhood` *Little Neck*?\n",
    "\n",
    "You **must** call the `avg_price_per_room_type` function to answer this question.\n",
    "\n",
    "**Hint:** To help you debug your code in case you run into any bugs, we have reproduced in the cell below, **all** the rows in the dataset from the `neighborhood` *Little Neck*. If you run into bugs with `avg_price_per_room_type`, it is recommended that you go through your code and verify that it does what it is supposed to, for this tiny dataset."
   ]
  },
  {
   "cell_type": "markdown",
   "id": "53e5a8f7",
   "metadata": {},
   "source": [
    "room_id|name|host_id|host_name|neighborhood_group|neighborhood|latitude|longitude|room_type|price|minimum_nights|number_of_reviews|last_review|reviews_per_month|calculated_host_listings_count|availability_365\n",
    "------|------|------|------|------|------|------|------|------|------|------|------|------|------|------|------|\n",
    "20227428|Douglaston Apartment Room A|18996093|Leonard|Queens|Little Neck|40.75794000000001|-73.72955999999998|Private room|45|1|12|2019-06-22|0.55|5|133\n",
    "21025083|Douglaston (apt 2) Room one\\n(Largest room)|18996093|Leonard|Queens|Little Neck|40.75777|-73.72949|Private room|50|1|6|2018-12-16|0.31|5|94\n",
    "30325639|Cozy shared studio in a safe neighborhood|21495656|Ramy|Queens|Little Neck|40.76212|-73.71928|Shared room|32|3|1|2018-12-04|0.14|1|88\n",
    "31553066|Near major transportation|41090359|Abi|Queens|Little Neck|40.77122|-73.738|Private room|100|1|0|||1|88\n",
    "35515780|30-min to Manhattan Quiet Big House in Great Neck|31859704|Vincent|Queens|Little Neck|40.77444000000001|-73.73373000000002|Entire home/apt|149|3|0|||1|3"
   ]
  },
  {
   "cell_type": "code",
   "execution_count": 27,
   "id": "2a0e2bdc",
   "metadata": {
    "tags": []
   },
   "outputs": [
    {
     "data": {
      "text/plain": [
       "65.0"
      ]
     },
     "execution_count": 27,
     "metadata": {},
     "output_type": "execute_result"
    }
   ],
   "source": [
    "# compute and store the answer in the variable 'pvt_room_little_neck', then display it\n",
    "pvt_room_little_neck=avg_price_per_room_type(\"Private room\",\"Little Neck\")\n",
    "pvt_room_little_neck"
   ]
  },
  {
   "cell_type": "code",
   "execution_count": 28,
   "id": "0667f9cd",
   "metadata": {
    "deletable": false,
    "editable": false
   },
   "outputs": [
    {
     "data": {
      "text/html": [
       "<p><strong><pre style='display: inline;'>q10</pre></strong> passed!</p>"
      ],
      "text/plain": [
       "q10 results: All test cases passed!"
      ]
     },
     "execution_count": 28,
     "metadata": {},
     "output_type": "execute_result"
    }
   ],
   "source": [
    "grader.check(\"q10\")"
   ]
  },
  {
   "cell_type": "markdown",
   "id": "61cffaaa",
   "metadata": {},
   "source": [
    "**Question 11:** How much more expensive is a *Entire home/apt* than a *Private room* in the `neighborhood` *Astoria*?\n",
    "\n",
    "You **must** call the `avg_price_per_room_type` function to answer this question."
   ]
  },
  {
   "cell_type": "code",
   "execution_count": 29,
   "id": "87968123",
   "metadata": {
    "tags": []
   },
   "outputs": [
    {
     "data": {
      "text/plain": [
       "46.02133741379495"
      ]
     },
     "execution_count": 29,
     "metadata": {},
     "output_type": "execute_result"
    }
   ],
   "source": [
    "# compute and store the answer in the variable 'home_pvt_room_astoria_diff', then display it\n",
    "astoria_eh=avg_price_per_room_type(\"Entire home/apt\",\"Astoria\")\n",
    "astoria_p=avg_price_per_room_type(\"Private room\",\"Astoria\")\n",
    "home_pvt_room_astoria_diff=astoria_eh-astoria_p\n",
    "home_pvt_room_astoria_diff"
   ]
  },
  {
   "cell_type": "code",
   "execution_count": 30,
   "id": "2746b67f",
   "metadata": {
    "deletable": false,
    "editable": false
   },
   "outputs": [
    {
     "data": {
      "text/html": [
       "<p><strong><pre style='display: inline;'>q11</pre></strong> passed!</p>"
      ],
      "text/plain": [
       "q11 results: All test cases passed!"
      ]
     },
     "execution_count": 30,
     "metadata": {},
     "output_type": "execute_result"
    }
   ],
   "source": [
    "grader.check(\"q11\")"
   ]
  },
  {
   "cell_type": "markdown",
   "id": "17498e25",
   "metadata": {},
   "source": [
    "### Function 3: `find_prices_within(lat_min, lat_max, long_min, long_max)` \n",
    "\n",
    "We require you to complete the below function to answer the next several questions (this is a **requirement**, and you will **lose points** if you do not implement this function)."
   ]
  },
  {
   "cell_type": "code",
   "execution_count": 31,
   "id": "71f869cd",
   "metadata": {
    "tags": []
   },
   "outputs": [],
   "source": [
    "def find_prices_within(lat_min, lat_max, long_min, long_max):\n",
    "    \"\"\"\n",
    "    find_prices_within(lat_min, lat_max, long_min, long_max) returns an unordered \n",
    "    list of prices of all the rooms within the geographical location between and including\n",
    "    the latitudes lat_min and lat_max and longitudes long_min and long_max.\n",
    "    \"\"\"\n",
    "    price_geo_restr=[]\n",
    "    for i in range(len(csv_rows)):\n",
    "        if lat_min<=float(cell(i,\"latitude\"))<=lat_max:\n",
    "            if long_min<=float(cell(i,\"longitude\"))<=long_max:\n",
    "                price_geo_restr.append(cell(i,\"price\"))\n",
    "    return price_geo_restr\n",
    "                "
   ]
  },
  {
   "cell_type": "markdown",
   "id": "9875b5ad",
   "metadata": {},
   "source": [
    "**Question 12:** What is the **lowest** `price` room near *NYU* (`40.729 <= latitude <= 40.73, -74.01 <= longitude <= -74.00`)?\n",
    "\n",
    "You **must** call the `find_prices_within` function to answer this question."
   ]
  },
  {
   "cell_type": "code",
   "execution_count": 32,
   "id": "d169db65",
   "metadata": {
    "tags": []
   },
   "outputs": [
    {
     "data": {
      "text/plain": [
       "75"
      ]
     },
     "execution_count": 32,
     "metadata": {},
     "output_type": "execute_result"
    }
   ],
   "source": [
    "# compute and store the answer in the variable 'min_price_nyu', then display it\n",
    "price_nyu=find_prices_within(40.729,40.73,-74.01,-74.00)\n",
    "min_price_nyu=min(price_nyu)\n",
    "min_price_nyu"
   ]
  },
  {
   "cell_type": "code",
   "execution_count": 33,
   "id": "44395227",
   "metadata": {
    "deletable": false,
    "editable": false
   },
   "outputs": [
    {
     "data": {
      "text/html": [
       "<p><strong><pre style='display: inline;'>q12</pre></strong> passed!</p>"
      ],
      "text/plain": [
       "q12 results: All test cases passed!"
      ]
     },
     "execution_count": 33,
     "metadata": {},
     "output_type": "execute_result"
    }
   ],
   "source": [
    "grader.check(\"q12\")"
   ]
  },
  {
   "cell_type": "markdown",
   "id": "4a68871e",
   "metadata": {},
   "source": [
    "### Function 4: `median(items)` \n",
    "\n",
    "We require you to complete the below function to answer the next several questions (this is a **requirement**, and you will **lose points** if you do not implement this function)."
   ]
  },
  {
   "cell_type": "code",
   "execution_count": 34,
   "id": "fafd6aef",
   "metadata": {
    "tags": []
   },
   "outputs": [],
   "source": [
    "def median(items):\n",
    "    items_local=items\n",
    "    items_local.sort()\n",
    "    if len(items_local)%2!=0:\n",
    "        median_odd=items[(len(items_local)+1)//2 -1]\n",
    "        return median_odd\n",
    "    elif len(items_local)%2==0:\n",
    "        median1=items_local[len(items_local)//2 -1]\n",
    "        median2=items_local[len(items_local)//2]\n",
    "        median_even=(median1+median2)/2\n",
    "        return median_even\n",
    "    \n",
    "    \n",
    "    \"\"\"\n",
    "    median(items) returns the median of the list `items`\n",
    "    \"\"\"\n",
    "    # you may copy/paste this function from your lab-p6 notebook"
   ]
  },
  {
   "cell_type": "code",
   "execution_count": 35,
   "id": "3e415515",
   "metadata": {},
   "outputs": [],
   "source": [
    "# personal test only:\n",
    "# print(median([3,6,7,3,5,1]))\n",
    "# median([3,6,7,3,5])"
   ]
  },
  {
   "cell_type": "markdown",
   "id": "f1dfbc53",
   "metadata": {},
   "source": [
    "**Question 13:** What is the **median** `price` of the rooms near *Columbia University* (`40.79 <= latitude <= 40.80, -73.96 <= longitude <= -73.95`)?\n",
    "\n",
    "You **must** call the `find_prices_within` function to answer this question."
   ]
  },
  {
   "cell_type": "code",
   "execution_count": 36,
   "id": "426c2346",
   "metadata": {
    "tags": []
   },
   "outputs": [
    {
     "data": {
      "text/plain": [
       "100"
      ]
     },
     "execution_count": 36,
     "metadata": {},
     "output_type": "execute_result"
    }
   ],
   "source": [
    "# compute and store the answer in the variable 'median_price_columbia', then display it\n",
    "median_price_columbia=median(find_prices_within(40.79,40.80,-73.96,-73.95))\n",
    "median_price_columbia"
   ]
  },
  {
   "cell_type": "code",
   "execution_count": 37,
   "id": "368b96eb",
   "metadata": {
    "deletable": false,
    "editable": false
   },
   "outputs": [
    {
     "data": {
      "text/html": [
       "<p><strong><pre style='display: inline;'>q13</pre></strong> passed!</p>"
      ],
      "text/plain": [
       "q13 results: All test cases passed!"
      ]
     },
     "execution_count": 37,
     "metadata": {},
     "output_type": "execute_result"
    }
   ],
   "source": [
    "grader.check(\"q13\")"
   ]
  },
  {
   "cell_type": "markdown",
   "id": "bdd2571a",
   "metadata": {},
   "source": [
    "**Question 14:** What **percentage** of rooms near *Rockefeller Center* (`40.749 <= latitude <= 40.75, -73.98 <= longitude <= -73.97`) have a `price` **more than** *100*?\n",
    "\n",
    "Your answer **must** be a *float* value between *0* and *100*. You **must** call the `find_prices_within` function to answer this question."
   ]
  },
  {
   "cell_type": "code",
   "execution_count": 38,
   "id": "ccdee937",
   "metadata": {
    "tags": []
   },
   "outputs": [
    {
     "data": {
      "text/plain": [
       "93.10344827586206"
      ]
     },
     "execution_count": 38,
     "metadata": {},
     "output_type": "execute_result"
    }
   ],
   "source": [
    "# compute and store the answer in the variable 'pct_price_over_hundred', then display it\n",
    "rnrc=find_prices_within(40.749,40.75,-73.98,-73.97)\n",
    "rnrc.sort()\n",
    "first_more_than_100_index=0\n",
    "\n",
    "#Get the position of the first >100 data:\n",
    "for i in range(len(rnrc)):\n",
    "    if rnrc[i]>100:\n",
    "        first_more_than_100_index=i\n",
    "        break\n",
    "\n",
    "larger_100=rnrc[first_more_than_100_index:] \n",
    "pct_price_over_hundred=100*(len(larger_100)/len(rnrc))\n",
    "pct_price_over_hundred"
   ]
  },
  {
   "cell_type": "code",
   "execution_count": 39,
   "id": "8668e977",
   "metadata": {
    "deletable": false,
    "editable": false
   },
   "outputs": [
    {
     "data": {
      "text/html": [
       "<p><strong><pre style='display: inline;'>q14</pre></strong> passed!</p>"
      ],
      "text/plain": [
       "q14 results: All test cases passed!"
      ]
     },
     "execution_count": 39,
     "metadata": {},
     "output_type": "execute_result"
    }
   ],
   "source": [
    "grader.check(\"q14\")"
   ]
  },
  {
   "cell_type": "markdown",
   "id": "59fa206d",
   "metadata": {},
   "source": [
    "### Function 5: `review_avail_ratio(neighborhood)` \n",
    "\n",
    "We require you to complete the below function to answer the next several questions (this is a **requirement**, and you will **lose points** if you do not implement this function)."
   ]
  },
  {
   "cell_type": "markdown",
   "id": "b9363a6a",
   "metadata": {},
   "source": [
    "You should ignore rooms that have `availability_365` data of 0. You should also ignore rooms for which the ratio cannot be computed due to missing data.\n",
    "\n",
    "1.  The denominator is the availability of a room (`availability_365` column). The numerator is the number of reviews of a room (`number_of_reviews column`). \n",
    "2.  Be careful! You need to compute the ratio for each room in the given neighborhood, then take the average of those ratios. Simply dividing the sum of reviews by the sum of availability will calculate the wrong answer.\n"
   ]
  },
  {
   "cell_type": "code",
   "execution_count": 40,
   "id": "843d5d36",
   "metadata": {},
   "outputs": [],
   "source": [
    "#For personal test only:\n",
    "# io=0\n",
    "# ioi=0\n",
    "# for i in range(len(csv_rows)):\n",
    "#     if(cell(i,\"availability_365\")==None):\n",
    "#         io=i\n",
    "#     elif(cell(i,\"number_of_reviews\")==None):\n",
    "#         ioi=1\n",
    "# io,ioi"
   ]
  },
  {
   "cell_type": "code",
   "execution_count": 41,
   "id": "10165bad",
   "metadata": {
    "tags": []
   },
   "outputs": [],
   "source": [
    "def review_avail_ratio(neighborhood):\n",
    "    \"\"\"\n",
    "    review_avail_ratio(neighborhood) returns the \n",
    "    average of the \n",
    "                    ratios of \n",
    "                                number of \n",
    "                                            reviews to availability of\n",
    "                                                                        all rooms in the `neighborhood`\n",
    "    \"\"\"\n",
    "    ratio_sum=0\n",
    "    counter=0\n",
    "    for i in range(len(csv_rows)):\n",
    "        if float(cell(i,\"availability_365\"))==0 or cell(i,\"availability_365\")==None or cell(i,\"number_of_reviews\")==None:\n",
    "            continue\n",
    "        else:\n",
    "            if cell(i,\"neighborhood\")==neighborhood:\n",
    "            \n",
    "                counter+=1\n",
    "                ratio_sum+=(float(cell(i,\"number_of_reviews\"))/float(cell(i,\"availability_365\")))\n",
    "\n",
    "    \n",
    "    if counter==0:\n",
    "        return 0\n",
    "    else:\n",
    "        avg_ratio=ratio_sum/counter\n",
    "        return avg_ratio\n",
    "\n",
    "    # TODO: you should **ignore** rooms that have `availability_365` data of 0\n",
    "    # TODO: you should **ignore** rooms for which the ratio cannot be computed due to missing data\n",
    "    # Hint: the numerator is the number of reviews of a room (`number_of_reviews column`)\n",
    "    # Hint: the denominator is the availability of a room (`availability_365` column)\n",
    "    # Hint: note that you need to compute the average of the ratios, **not** the ratio of the averages.\n",
    "    #       you must compute the ratio for each room in the `neighborhood`, then take the average of those ratios.\n",
    "    #       simply dividing the sum of reviews by the sum of availability will calculate the wrong answer."
   ]
  },
  {
   "cell_type": "markdown",
   "id": "e6dca681",
   "metadata": {},
   "source": [
    "**Question 15:** What is the **average of the ratios** of the `number_of_reviews` to `availability_365` in the `neighborhood` *Bushwick*?\n",
    "\n",
    "You **must** call the `review_avail_ratio` function to answer this question."
   ]
  },
  {
   "cell_type": "code",
   "execution_count": 42,
   "id": "b4afd95a",
   "metadata": {
    "tags": []
   },
   "outputs": [
    {
     "data": {
      "text/plain": [
       "0.9856466156705752"
      ]
     },
     "execution_count": 42,
     "metadata": {},
     "output_type": "execute_result"
    }
   ],
   "source": [
    "# compute and store the answer in the variable 'bushwick_avg_ratio', then display it\n",
    "bushwick_avg_ratio=review_avail_ratio(\"Bushwick\")\n",
    "bushwick_avg_ratio"
   ]
  },
  {
   "cell_type": "code",
   "execution_count": 43,
   "id": "2aa4c910",
   "metadata": {
    "deletable": false,
    "editable": false
   },
   "outputs": [
    {
     "data": {
      "text/html": [
       "<p><strong><pre style='display: inline;'>q15</pre></strong> passed!</p>"
      ],
      "text/plain": [
       "q15 results: All test cases passed!"
      ]
     },
     "execution_count": 43,
     "metadata": {},
     "output_type": "execute_result"
    }
   ],
   "source": [
    "grader.check(\"q15\")"
   ]
  },
  {
   "cell_type": "markdown",
   "id": "e716f7f4",
   "metadata": {},
   "source": [
    "**Question 16:** What is the **average of the ratios** of the `number_of_reviews` to `availability_365` in the `neighborhood` *Manhattan Beach*?\n",
    "\n",
    "You **must** call the `review_avail_ratio` function to answer this question."
   ]
  },
  {
   "cell_type": "code",
   "execution_count": 44,
   "id": "b168d4de",
   "metadata": {
    "tags": []
   },
   "outputs": [
    {
     "data": {
      "text/plain": [
       "0.27323293295076073"
      ]
     },
     "execution_count": 44,
     "metadata": {},
     "output_type": "execute_result"
    }
   ],
   "source": [
    "# compute and store the answer in the variable 'manhattan_beach_avg_ratio', then display it\n",
    "manhattan_beach_avg_ratio=review_avail_ratio(\"Manhattan Beach\")\n",
    "manhattan_beach_avg_ratio"
   ]
  },
  {
   "cell_type": "code",
   "execution_count": 45,
   "id": "a7d3a2a5",
   "metadata": {
    "deletable": false,
    "editable": false
   },
   "outputs": [
    {
     "data": {
      "text/html": [
       "<p><strong><pre style='display: inline;'>q16</pre></strong> passed!</p>"
      ],
      "text/plain": [
       "q16 results: All test cases passed!"
      ]
     },
     "execution_count": 45,
     "metadata": {},
     "output_type": "execute_result"
    }
   ],
   "source": [
    "grader.check(\"q16\")"
   ]
  },
  {
   "cell_type": "markdown",
   "id": "dcfb9f21",
   "metadata": {},
   "source": [
    "**Question 17:** Which `neighborhood` in the `neighborhood_group` *Staten Island* has the **highest average of ratios** of the `number_of_reviews` to `availability_365`?\n",
    "\n",
    "**Clarification:** Don't worry about it if this cell takes around 10 seconds to run, that is expected. If it takes much longer (i.e., more than 30 seconds), you **must** optimize your code. Attend office hours if you are unable to get your code to run faster.\n",
    "\n",
    "**Hint:** You do not need to compute the average of ratios for the **same** `neighborhood` more than once. Make a list of the **unique** neighborhoods in *Staten Island* first, and then find the **highest average of ratios** among those `neighborhoods`."
   ]
  },
  {
   "cell_type": "code",
   "execution_count": 46,
   "id": "5076061e",
   "metadata": {
    "tags": []
   },
   "outputs": [
    {
     "data": {
      "text/plain": [
       "'Arden Heights'"
      ]
     },
     "execution_count": 46,
     "metadata": {},
     "output_type": "execute_result"
    }
   ],
   "source": [
    "# compute and store the answer in the variable 'max_nbhd_staten_island', then display it\n",
    "nb_in_si=[]\n",
    "max_nbhd_staten_island_rat=None\n",
    "max_nbhd_staten_island=None\n",
    "for i in range(len(csv_rows)):\n",
    "    if cell(i,\"neighborhood_group\")==None or cell(i,\"neighborhood\")==None:\n",
    "        continue\n",
    "    elif(cell(i,\"neighborhood_group\")==\"Staten Island\") and not(cell(i,\"neighborhood\") in nb_in_si):\n",
    "        nb_in_si.append(cell(i,\"neighborhood\"))\n",
    "        \n",
    "for loc in nb_in_si:\n",
    "    if max_nbhd_staten_island_rat==None and max_nbhd_staten_island==None:\n",
    "        max_nbhd_staten_island_rat=review_avail_ratio(loc)\n",
    "        max_nbhd_staten_island=loc\n",
    "    else:\n",
    "        if(review_avail_ratio(loc)>max_nbhd_staten_island_rat):\n",
    "            max_nbhd_staten_island_rat=review_avail_ratio(loc)\n",
    "            max_nbhd_staten_island=loc\n",
    "            \n",
    "max_nbhd_staten_island\n",
    "            \n"
   ]
  },
  {
   "cell_type": "code",
   "execution_count": 47,
   "id": "f142c802",
   "metadata": {
    "deletable": false,
    "editable": false
   },
   "outputs": [
    {
     "data": {
      "text/html": [
       "<p><strong><pre style='display: inline;'>q17</pre></strong> passed!</p>"
      ],
      "text/plain": [
       "q17 results: All test cases passed!"
      ]
     },
     "execution_count": 47,
     "metadata": {},
     "output_type": "execute_result"
    }
   ],
   "source": [
    "grader.check(\"q17\")"
   ]
  },
  {
   "cell_type": "markdown",
   "id": "a6085a9f",
   "metadata": {},
   "source": [
    "### Function 6: `secondary_word_in_found_rooms(find_room_word, secondary_word)`\n",
    "\n",
    "\n",
    "We require you to complete the below function to answer the next several questions (this is a **requirement**, and you will **lose points** if you do not implement this function).\n",
    "\n",
    "`secondary_word_in_found_rooms` function definition **must** invoke the function `find_room_names`. **We'll manually deduct points** if you don't use `find_room_names`."
   ]
  },
  {
   "cell_type": "code",
   "execution_count": 48,
   "id": "87e29aaf",
   "metadata": {
    "tags": []
   },
   "outputs": [],
   "source": [
    "def secondary_word_in_found_rooms(find_room_word, secondary_word):\n",
    "    \"\"\"\n",
    "    secondary_word_in_found_rooms(find_room_word, secondary_word) returns \n",
    "    the percentage of names containing the word `find_room_word` (case insensitive match)\n",
    "    that also contains the word `secondary_word` (case insensitive match).\n",
    "    \"\"\"    \n",
    "# For personal note only:\n",
    "# a=[0,1,1,2]\n",
    "# b=[2,2,3]\n",
    "# u=list(set(a) | set(b)) #union\n",
    "# i=list(set(a) & set(b)) #intersection\n",
    "\n",
    "#     for i in range(len(csv_rows)):\n",
    "    hasword1=find_room_names(find_room_word)\n",
    "    hasword2=find_room_names(secondary_word)\n",
    "    hasboth=list(set(hasword1) & set(hasword2))\n",
    "    pct=len(hasboth)/len(hasword1)*100\n",
    "    return pct\n",
    "    # Hint: the denominator is the number of rooms with `find_room_word` in their name.\n",
    "    # Hint: the numerator is the number of rooms that have **both** `find_room_word` and `secondary_word` in their name."
   ]
  },
  {
   "cell_type": "markdown",
   "id": "7526d52e",
   "metadata": {},
   "source": [
    "**Question 18:** What **percentage** of rooms whose `names` contain the word `\"downtown\"` **also** contain the word `\"spacious\"`?\n",
    "\n",
    "Your answer **must** be a *float* value between *0* and *100*. You **must** call the `secondary_word_in_found_rooms` function to answer this question."
   ]
  },
  {
   "cell_type": "code",
   "execution_count": 49,
   "id": "1345be1a",
   "metadata": {
    "tags": []
   },
   "outputs": [
    {
     "data": {
      "text/plain": [
       "5.541561712846348"
      ]
     },
     "execution_count": 49,
     "metadata": {},
     "output_type": "execute_result"
    }
   ],
   "source": [
    "# compute and store the answer in the variable 'downtown_and_spacious', then display it\n",
    "downtown_and_spacious=secondary_word_in_found_rooms(\"downtown\",\"spacious\")\n",
    "downtown_and_spacious"
   ]
  },
  {
   "cell_type": "code",
   "execution_count": 50,
   "id": "22281790",
   "metadata": {
    "deletable": false,
    "editable": false
   },
   "outputs": [
    {
     "data": {
      "text/html": [
       "<p><strong><pre style='display: inline;'>q18</pre></strong> passed!</p>"
      ],
      "text/plain": [
       "q18 results: All test cases passed!"
      ]
     },
     "execution_count": 50,
     "metadata": {},
     "output_type": "execute_result"
    }
   ],
   "source": [
    "grader.check(\"q18\")"
   ]
  },
  {
   "cell_type": "markdown",
   "id": "960e302e",
   "metadata": {},
   "source": [
    "**Question 19:** What **percentage** of rooms whose `names` contain the word `\"university\"` **also** contain the word `\"studio\"`?\n",
    "\n",
    "Your answer **must** be a *float* value between *0* and *100*. You **must** call the `secondary_word_in_found_rooms` function to answer this question."
   ]
  },
  {
   "cell_type": "code",
   "execution_count": 51,
   "id": "52be0ff8",
   "metadata": {
    "tags": []
   },
   "outputs": [
    {
     "data": {
      "text/plain": [
       "6.837606837606838"
      ]
     },
     "execution_count": 51,
     "metadata": {},
     "output_type": "execute_result"
    }
   ],
   "source": [
    "# compute and store the answer in the variable 'university_and_studio', then display it\n",
    "university_and_studio=secondary_word_in_found_rooms(\"university\",\"studio\")\n",
    "university_and_studio"
   ]
  },
  {
   "cell_type": "code",
   "execution_count": 52,
   "id": "cce2b96a",
   "metadata": {
    "deletable": false,
    "editable": false
   },
   "outputs": [
    {
     "data": {
      "text/html": [
       "<p><strong><pre style='display: inline;'>q19</pre></strong> passed!</p>"
      ],
      "text/plain": [
       "q19 results: All test cases passed!"
      ]
     },
     "execution_count": 52,
     "metadata": {},
     "output_type": "execute_result"
    }
   ],
   "source": [
    "grader.check(\"q19\")"
   ]
  },
  {
   "cell_type": "markdown",
   "id": "e5e9df6d",
   "metadata": {},
   "source": [
    "**Question 20:** On a trip to NYC, you need to stay for *3* days in *Queens*, and then *4* days in *Brooklyn*. What is the **minimum** amount of money you need to spend on this trip?\n",
    "\n",
    "Note that:\n",
    "1. The price of each room is for each day.\n",
    "2. The total cost = (lowest price in Queens) * 3 + (lowest price in Brooklyn) * 4.\n",
    "3. You'll need to **skip** those rooms that don't have enough availability.\n",
    "\n",
    "\n",
    "**Hint:** You might want to define a helper function to compute the **minimum** daily `price` of a room in a given `neighborhood_group` among rooms whose `availability_365` is equal to or larger than the number of days one will be staying in that neighborhood group."
   ]
  },
  {
   "cell_type": "code",
   "execution_count": 53,
   "id": "70e3cc8e",
   "metadata": {
    "tags": []
   },
   "outputs": [
    {
     "data": {
      "text/plain": [
       "30"
      ]
     },
     "execution_count": 53,
     "metadata": {},
     "output_type": "execute_result"
    }
   ],
   "source": [
    "# compute and store the answer in the variable 'min_cost_trip', then display it\n",
    "def q20helper (location,span):\n",
    "    price20=[]\n",
    "    for i in range(len(csv_rows)):\n",
    "        if cell(i,\"neighborhood_group\")==None or cell(i,\"availability_365\")==None:\n",
    "            continue\n",
    "        elif cell(i,\"neighborhood_group\")==location and int(cell(i,\"availability_365\"))>=span: #and int(cell(i,\"price\")>0)\n",
    "            price20.append(cell(i,\"price\"))\n",
    "    return min(price20)\n",
    "# print(q20helper(\"Queens\",3))\n",
    "# print(q20helper(\"Brooklyn\",4))\n",
    "min_cost_trip=q20helper(\"Queens\",3)*3+q20helper(\"Brooklyn\",4)*4\n",
    "min_cost_trip\n"
   ]
  },
  {
   "cell_type": "code",
   "execution_count": 54,
   "id": "3ef260be",
   "metadata": {
    "deletable": false,
    "editable": false
   },
   "outputs": [
    {
     "data": {
      "text/html": [
       "<p><strong><pre style='display: inline;'>q20</pre></strong> passed!</p>"
      ],
      "text/plain": [
       "q20 results: All test cases passed!"
      ]
     },
     "execution_count": 54,
     "metadata": {},
     "output_type": "execute_result"
    }
   ],
   "source": [
    "grader.check(\"q20\")"
   ]
  },
  {
   "cell_type": "markdown",
   "id": "d205702b",
   "metadata": {
    "deletable": false,
    "editable": false
   },
   "source": [
    "## Submission\n",
    "\n",
    "Make sure you have run all cells in your notebook in order before running the cell below, so that all images/graphs appear in the output. The cell below will generate a zip file for you to submit. **Please save before exporting!**\n",
    "\n",
    "**SUBMISSION INSTRUCTIONS**: 1. **Save** the notebook file **now (before you run the next cell of code)**. 2. **Upload** the zipfile to Gradescope. 3. Check **Gradescope otter** results as soon as the auto-grader execution gets completed. Don't worry about the score showing up as -/100.0. You only need to check that the test cases passed."
   ]
  },
  {
   "cell_type": "code",
   "execution_count": 55,
   "id": "ae4e418c",
   "metadata": {
    "deletable": false,
    "editable": false
   },
   "outputs": [],
   "source": [
    "#Save your notebook first, then run this cell to export your submission.\n",
    "grader.export(pdf=False, run_tests=True)"
   ]
  },
  {
   "cell_type": "markdown",
   "id": "4b3d53d9",
   "metadata": {},
   "source": [
    " "
   ]
  }
 ],
 "metadata": {
  "kernelspec": {
   "display_name": "Python 3.9.12 ('base')",
   "language": "python",
   "name": "python3"
  },
  "language_info": {
   "codemirror_mode": {
    "name": "ipython",
    "version": 3
   },
   "file_extension": ".py",
   "mimetype": "text/x-python",
   "name": "python",
   "nbconvert_exporter": "python",
   "pygments_lexer": "ipython3",
   "version": "3.9.12"
  },
  "otter": {
   "OK_FORMAT": true,
   "tests": {
    "q1": {
     "name": "q1",
     "points": 5,
     "suites": [
      {
       "cases": [
        {
         "code": ">>> p6_test.check(\"q1\", neighborhood_groups)\nTrue",
         "hidden": false,
         "locked": false
        }
       ],
       "scored": true,
       "setup": "",
       "teardown": "",
       "type": "doctest"
      }
     ]
    },
    "q10": {
     "name": "q10",
     "points": 5,
     "suites": [
      {
       "cases": [
        {
         "code": ">>> p6_test.check(\"q10\", pvt_room_little_neck)\nTrue",
         "hidden": false,
         "locked": false
        }
       ],
       "scored": true,
       "setup": "",
       "teardown": "",
       "type": "doctest"
      }
     ]
    },
    "q11": {
     "name": "q11",
     "points": 5,
     "suites": [
      {
       "cases": [
        {
         "code": ">>> p6_test.check(\"q11\", home_pvt_room_astoria_diff)\nTrue",
         "hidden": false,
         "locked": false
        }
       ],
       "scored": true,
       "setup": "",
       "teardown": "",
       "type": "doctest"
      }
     ]
    },
    "q12": {
     "name": "q12",
     "points": 5,
     "suites": [
      {
       "cases": [
        {
         "code": ">>> p6_test.check(\"q12\", min_price_nyu)\nTrue",
         "hidden": false,
         "locked": false
        }
       ],
       "scored": true,
       "setup": "",
       "teardown": "",
       "type": "doctest"
      }
     ]
    },
    "q13": {
     "name": "q13",
     "points": 5,
     "suites": [
      {
       "cases": [
        {
         "code": ">>> p6_test.check(\"q13\", median_price_columbia)\nTrue",
         "hidden": false,
         "locked": false
        }
       ],
       "scored": true,
       "setup": "",
       "teardown": "",
       "type": "doctest"
      }
     ]
    },
    "q14": {
     "name": "q14",
     "points": 5,
     "suites": [
      {
       "cases": [
        {
         "code": ">>> p6_test.check(\"q14\", pct_price_over_hundred)\nTrue",
         "hidden": false,
         "locked": false
        }
       ],
       "scored": true,
       "setup": "",
       "teardown": "",
       "type": "doctest"
      }
     ]
    },
    "q15": {
     "name": "q15",
     "points": 5,
     "suites": [
      {
       "cases": [
        {
         "code": ">>> p6_test.check(\"q15\", bushwick_avg_ratio)\nTrue",
         "hidden": false,
         "locked": false
        }
       ],
       "scored": true,
       "setup": "",
       "teardown": "",
       "type": "doctest"
      }
     ]
    },
    "q16": {
     "name": "q16",
     "points": 5,
     "suites": [
      {
       "cases": [
        {
         "code": ">>> p6_test.check(\"q16\", manhattan_beach_avg_ratio)\nTrue",
         "hidden": false,
         "locked": false
        }
       ],
       "scored": true,
       "setup": "",
       "teardown": "",
       "type": "doctest"
      }
     ]
    },
    "q17": {
     "name": "q17",
     "points": 5,
     "suites": [
      {
       "cases": [
        {
         "code": ">>> p6_test.check(\"q17\", max_nbhd_staten_island)\nTrue",
         "hidden": false,
         "locked": false
        }
       ],
       "scored": true,
       "setup": "",
       "teardown": "",
       "type": "doctest"
      }
     ]
    },
    "q18": {
     "name": "q18",
     "points": 5,
     "suites": [
      {
       "cases": [
        {
         "code": ">>> p6_test.check(\"q18\", downtown_and_spacious)\nTrue",
         "hidden": false,
         "locked": false
        }
       ],
       "scored": true,
       "setup": "",
       "teardown": "",
       "type": "doctest"
      }
     ]
    },
    "q19": {
     "name": "q19",
     "points": 5,
     "suites": [
      {
       "cases": [
        {
         "code": ">>> p6_test.check(\"q19\", university_and_studio)\nTrue",
         "hidden": false,
         "locked": false
        }
       ],
       "scored": true,
       "setup": "",
       "teardown": "",
       "type": "doctest"
      }
     ]
    },
    "q2": {
     "name": "q2",
     "points": 5,
     "suites": [
      {
       "cases": [
        {
         "code": ">>> p6_test.check(\"q2\", avg_price)\nTrue",
         "hidden": false,
         "locked": false
        }
       ],
       "scored": true,
       "setup": "",
       "teardown": "",
       "type": "doctest"
      }
     ]
    },
    "q20": {
     "name": "q20",
     "points": 5,
     "suites": [
      {
       "cases": [
        {
         "code": ">>> p6_test.check(\"q20\", min_cost_trip)\nTrue",
         "hidden": false,
         "locked": false
        }
       ],
       "scored": true,
       "setup": "",
       "teardown": "",
       "type": "doctest"
      }
     ]
    },
    "q3": {
     "name": "q3",
     "points": 5,
     "suites": [
      {
       "cases": [
        {
         "code": ">>> p6_test.check(\"q3\", count_soho)\nTrue",
         "hidden": false,
         "locked": false
        }
       ],
       "scored": true,
       "setup": "",
       "teardown": "",
       "type": "doctest"
      }
     ]
    },
    "q4": {
     "name": "q4",
     "points": 5,
     "suites": [
      {
       "cases": [
        {
         "code": ">>> p6_test.check(\"q4\", rooms_contain_cbg)\nTrue",
         "hidden": false,
         "locked": false
        }
       ],
       "scored": true,
       "setup": "",
       "teardown": "",
       "type": "doctest"
      }
     ]
    },
    "q5": {
     "name": "q5",
     "points": 5,
     "suites": [
      {
       "cases": [
        {
         "code": ">>> p6_test.check(\"q5\", rooms_contain_cinema_film)\nTrue",
         "hidden": false,
         "locked": false
        }
       ],
       "scored": true,
       "setup": "",
       "teardown": "",
       "type": "doctest"
      }
     ]
    },
    "q6": {
     "name": "q6",
     "points": 5,
     "suites": [
      {
       "cases": [
        {
         "code": ">>> p6_test.check(\"q6\", funnest_room)\nTrue",
         "hidden": false,
         "locked": false
        }
       ],
       "scored": true,
       "setup": "",
       "teardown": "",
       "type": "doctest"
      }
     ]
    },
    "q7": {
     "name": "q7",
     "points": 5,
     "suites": [
      {
       "cases": [
        {
         "code": ">>> p6_test.check(\"q7\", no_cost_rooms)\nTrue",
         "hidden": false,
         "locked": false
        }
       ],
       "scored": true,
       "setup": "",
       "teardown": "",
       "type": "doctest"
      }
     ]
    },
    "q8": {
     "name": "q8",
     "points": 5,
     "suites": [
      {
       "cases": [
        {
         "code": ">>> p6_test.check(\"q8\", pricey_neighborhoods)\nTrue",
         "hidden": false,
         "locked": false
        }
       ],
       "scored": true,
       "setup": "",
       "teardown": "",
       "type": "doctest"
      }
     ]
    },
    "q9": {
     "name": "q9",
     "points": 5,
     "suites": [
      {
       "cases": [
        {
         "code": ">>> p6_test.check(\"q9\", last_review_before_2015)\nTrue",
         "hidden": false,
         "locked": false
        }
       ],
       "scored": true,
       "setup": "",
       "teardown": "",
       "type": "doctest"
      }
     ]
    }
   }
  },
  "vscode": {
   "interpreter": {
    "hash": "79096726cbabd175b414b154fd74f86e5e826c01a8fc002374b79612a9b70ee8"
   }
  }
 },
 "nbformat": 4,
 "nbformat_minor": 5
}
