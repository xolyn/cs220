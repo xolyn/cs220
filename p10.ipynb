{
 "cells": [
  {
   "cell_type": "code",
   "execution_count": 132,
   "id": "823d2b54",
   "metadata": {
    "cell_type": "code",
    "deletable": false,
    "editable": false
   },
   "outputs": [],
   "source": [
    "import otter\n",
    "# nb_name should be the name of your notebook without the .ipynb extension\n",
    "nb_name = \"p10\"\n",
    "py_filename = nb_name + \".py\"\n",
    "grader = otter.Notebook(nb_name + \".ipynb\")"
   ]
  },
  {
   "cell_type": "code",
   "execution_count": 133,
   "id": "ff087ed4",
   "metadata": {
    "deletable": false,
    "editable": false
   },
   "outputs": [],
   "source": [
    "import p10_test"
   ]
  },
  {
   "cell_type": "markdown",
   "id": "30d663bd",
   "metadata": {
    "deletable": false,
    "editable": false
   },
   "source": [
    "# Project 10: Stars and Planets"
   ]
  },
  {
   "cell_type": "markdown",
   "id": "2ba07d7c",
   "metadata": {
    "deletable": false,
    "editable": false
   },
   "source": [
    "## Learning Objectives:\n",
    "\n",
    "In this project, you will demonstrate how to:\n",
    "\n",
    "* use `os` module to get information of files in a directory,\n",
    "* use `os` module to get paths of files,\n",
    "* look up data between JSON and CSV files using unique keys,\n",
    "* read JSON and CSV files to store data to `namedTuple` objects,\n",
    "* clean up missing values and handle cases when the file is too corrupt to parse,\n",
    "\n",
    "**Please go through [lab-p10](https://git.doit.wisc.edu/cdis/cs/courses/cs220/cs220-f22-projects/-/tree/main/lab-p10) before working on this project.** The lab introduces some important techniques related to this project."
   ]
  },
  {
   "cell_type": "markdown",
   "id": "2afc750e",
   "metadata": {
    "deletable": false,
    "editable": false
   },
   "source": [
    "## Note on Academic Misconduct:\n",
    "\n",
    "**IMPORTANT**: p10 and p11 are two parts of the same data analysis. You **cannot** switch project partners between these two projects. That is if you partner up with someone for p10, you have to sustain that partnership until end of p11. Now may be a good time to review [our course policies](https://cs220.cs.wisc.edu/f22/syllabus.html)."
   ]
  },
  {
   "cell_type": "markdown",
   "id": "63ead371",
   "metadata": {
    "deletable": false,
    "editable": false
   },
   "source": [
    "## Testing your code:\n",
    "\n",
    "Along with this notebook, you must have downloaded the file `p10_test.py`. If you are curious about how we test your code, you can explore this file, and specifically the value of the variable `expected_json`, to understand the expected answers to the questions."
   ]
  },
  {
   "cell_type": "markdown",
   "id": "7a1a6c51",
   "metadata": {
    "deletable": false,
    "editable": false
   },
   "source": [
    "## Setup:\n",
    "\n",
    "Before proceeding much further, download `data.zip` and extract it to a directory on your\n",
    "computer (using [Mac directions](http://osxdaily.com/2017/11/05/how-open-zip-file-mac/) or\n",
    "[Windows directions](https://support.microsoft.com/en-us/help/4028088/windows-zip-and-unzip-files)).\n",
    "\n",
    "You need to make sure that the project files are stored in the following structure:\n",
    "\n",
    "```\n",
    "+-- p10.ipynb\n",
    "+-- p10_test.py\n",
    "+-- data\n",
    "|   +-- .DS_Store\n",
    "|   +-- .ipynb_checkpoints\n",
    "|   +-- mapping_1.json\n",
    "|   +-- mapping_2.json\n",
    "|   +-- mapping_3.json\n",
    "|   +-- mapping_4.json\n",
    "|   +-- mapping_5.json\n",
    "|   +-- planets_1.csv\n",
    "|   +-- planets_2.csv\n",
    "|   +-- planets_3.csv\n",
    "|   +-- planets_4.csv\n",
    "|   +-- planets_5.csv\n",
    "|   +-- stars_1.csv\n",
    "|   +-- stars_2.csv\n",
    "|   +-- stars_3.csv\n",
    "|   +-- stars_4.csv\n",
    "|   +-- stars_5.csv\n",
    "```\n",
    "\n",
    "Make sure that the files inside `data.zip` are inside the `data` directory. If you place your files inside some other directory, then there is a possibility that your code will **fail on Gradescope** even after passing local tests."
   ]
  },
  {
   "cell_type": "markdown",
   "id": "f677746a",
   "metadata": {
    "deletable": false,
    "editable": false
   },
   "source": [
    "## Project Description:\n",
    "\n",
    "Cleaning data is an important part of a data scientist's work cycle. As you have already seen, the data we will be analyzing in p10 and p11 has been split up into 15 different files of different formats. Even worse, as you shall see later in this project, some of these files have been corrupted, and lots of data is missing. Unfortunately, in the real world, a lot of data that you will come across will be in rough shape, and it is your job to clean it up before you can analyze it. In p10, you will combine the data in these different files to create a few manageable data structures, which can be easily analyzed. In the process, you will also have to deal with broken CSV files (by skipping rows with broken data), and broken JSON files (by skipping the files entirely).\n",
    "\n",
    "After you create these data structures, in p11, you will dive deeper by analyzing this data and arrive at some exciting conclusions about various planets and stars outside our Solar System."
   ]
  },
  {
   "cell_type": "markdown",
   "id": "3bfc44be",
   "metadata": {
    "deletable": false,
    "editable": false
   },
   "source": [
    "## The Data:\n",
    "\n",
    "In p10 and p11, you will be studying stars and planets outside our Solar System using this dataset from the [NASA Exoplanet Archive](https://exoplanetarchive.ipac.caltech.edu/cgi-bin/TblView/nph-tblView?app=ExoTbls&config=PSCompPars). You will use Python to ask some interesting questions about the laws of the universe and explore the habitability of other planets in our universe. The raw data from the [NASA Exoplanet Archive](https://exoplanetarchive.ipac.caltech.edu/cgi-bin/TblView/nph-tblView?app=ExoTbls&config=PSCompPars) has been parsed and stored in multiple different files of different formats. You can find these files inside `data.zip`.\n",
    "\n",
    "You can open each of these files using Microsoft Excel or some other Spreadsheet viewing software to see how the data is stored. For example, these are the first three rows of the file `stars_1.csv`:\n",
    "\n",
    "|Name|Spectral Type|Stellar Effective Temperature [K]|Stellar Radius [Solar Radius]|Stellar Mass [Solar mass]|Stellar Luminosity [log(Solar)]|Stellar Surface Gravity [log10(cm/s**2)]|Stellar Age [Gyr]|\n",
    "|----|-------------|---------------------------------|-----------------------------|-------------------------|-------------------------------|----------------------------------------|-----------------|\n",
    "|11 Com|G8 III|4742.00|19.00|2.70|2.243|2.31||\n",
    "|11 UMi|K4 III|4213.00|29.79|2.78|2.430|1.93|1.560|\n",
    "|14 And|K0 III|4813.00|11.00|2.20|1.763|2.63|4.500|\n",
    "\n",
    "As you might have already guessed, this file contains data on a number of *stars* outside our solar system along with some important statistics about these stars. The columns here are as follows:\n",
    "\n",
    "- `Name`: The name given to the star by the International Astronomical Union,\n",
    "- `Spectral Type`: The Spectral Classification of the star as per the Morgan–Keenan (MK) system,\n",
    "- `Stellar Effective Temperature [K]`: The temperature of a black body (in units of Kelvin) that would emit the observed radiation of the star,\n",
    "- `Stellar Radius [Solar Radius]`: The radius of the star (in units of the radius of the Sun),\n",
    "- `Stellar Mass [Solar mass]`: The mass of the star (in units of the mass of the Sun),\n",
    "- `Stellar Luminosity [log(Solar)]`: The total amount of energy radiated by the star each second (represented by the logarithm of the energy radiated by the Sun in each second),\n",
    "- `Stellar Surface Gravity [log10(cm/s**2)]`: The acceleration due to the gravity of the Star at its surface (represented by the logarithm of the acceleration measured in centimeters per second squared),\n",
    "- `Stellar Age [Gyr]`: The total age of the star (in units of Giga years, i.e., billions of years).\n",
    "\n",
    "The four other files `stars_2.csv`, `stars_3.csv`, `stars_4.csv`, and `stars_5.csv` also store similar data in the same format. At this stage of the project, it is alright if you do not understand what these columns mean - they will be explained to you when they become necessary (in p11).\n",
    "\n",
    "On the other hand, here are the first three rows of the file `planets_1.csv`:\n",
    "\n",
    "|Planet Name|Discovery Method|Discovery Year|Controversial Flag|Orbital Period [days]|Planet Radius [Earth Radius]|Planet Mass [Earth Mass]|Orbit Semi-Major Axis [au]|Eccentricity|Equilibrium Temperature [K]|Insolation Flux [Earth Flux]|\n",
    "|-----------|----------------|--------------|------------------|---------------------|----------------------------|------------------------|---------------------------|------------|---------------------------|----------------------------|\n",
    "|11 Com b|Radial Velocity|2007|0|326.03|12.1|6165.6|1.29|0.231|||\n",
    "|11 UMi b|Radial Velocity|2009|0|516.21997|12.3|4684.8142|1.53|0.08|||\n",
    "|14 And b|Radial Velocity|2008|0|185.84|12.9|1525.5|0.83|0|||\n",
    "\n",
    "This file contains data on a number of *planets* outside our solar system along with some important statistics about these planets. The columns here are as follows:\n",
    "\n",
    "- `Planet Name`: The name given to the planet by the International Astronomical Union,\n",
    "- `Discovery Method`: The method by which the planet was discovered,\n",
    "- `Discovery Year`: The year in which the planet was discovered,\n",
    "- `Controversial Flag`: Indicates whether the status of the discovered object as a planet was disputed at the time of discovery, \n",
    "- `Orbital Period [days]`: The amount of time (in units of days) it takes for the planet to complete one orbit around its star,\n",
    "- `Planet Radius [Earth Radius]`: The radius of the planet (in units of the radius of the Earth),\n",
    "- `Planet Mass [Earth Mass]`: The mass of the planet (in units of the mass of the Earth),\n",
    "- `Orbit Semi-Major Axis [au]`: The semi-major axis of the planet's elliptical orbit around its host star (in units of Astronomical Units),\n",
    "- `Eccentricity`: The eccentricity of the planet's orbit around its host star,\n",
    "- `Equilibrium Temperature [K]`: The temperature of the planet (in units of Kelvin) if it were a black body heated only by its host star,\n",
    "- `Insolation Flux [Earth Flux]`:  The amount of radiation the planet receives from its host star per unit of area (in units of the Insolation Flux of the Earth from the Sun).\n",
    "\n",
    "The four other files `planets_2.csv`, `planets_3.csv`, `planets_4.csv`, and `planets_5.csv` also store similar data in the same format. At this stage of the project, it is alright if you do not understand what these columns mean - they will be explained to you when they become necessary (in p11).\n",
    "\n",
    "\n",
    "Finally, if you take a look at `mapping_1.json` (you can open json files using any Text Editor), you will see that the first three entries look like this:\n",
    "\n",
    "```\n",
    "{\"11 Com b\": \"11 Com\", \"11 UMi b\": \"11 UMi\", \"14 And b\": \"14 And\", ...}\n",
    "```\n",
    "\n",
    "This file contains a *mapping* from each *planet* in `planets_1.csv` to the *star* in `stars_1.csv` that the planet orbits. Similarly, `mapping_2.json` contains a *mapping* from each *planet* in `planets_2.csv` to the *star* in `stars_2.csv` that the planet orbits. The pattern also holds true for `mapping_3.json`, `mapping_4.json`, and `mapping_5.json`."
   ]
  },
  {
   "cell_type": "markdown",
   "id": "472dfac2",
   "metadata": {
    "deletable": false,
    "editable": false
   },
   "source": [
    "## Project Requirements:\n",
    "\n",
    "You **may not** hardcode indices in your code, unless the question explicitly. If you open your `.csv` files with Excel, manually count through the rows and use this number to loop through the dataset, this is also considered as hardcoding. We'll **manually deduct** points from your autograder score on Gradescope during code review.\n",
    "\n",
    "**Store** your final answer for each question in the **variable specified for each question**. This step is important because Otter grades your work by comparing the value of this variable against the correct answer.\n",
    "\n",
    "For some of the questions, we'll ask you to write (then use) a function to compute the answer. If you compute the answer **without** creating the function we ask you to write, we'll **manually deduct** points from your autograder score on Gradescope, even if the way you did it produced the correct answer.\n",
    "\n",
    "Required Functions:\n",
    "- `star_cell`\n",
    "- `get_stars`\n",
    "- `planet_cell`\n",
    "- `get_planets`\n",
    "\n",
    "In this project, you will also be required to define certain **data structures**. If you do not create these data structures exactly as specified, we'll **manually deduct** points from your autograder score on Gradescope, even if the way you did it produced the correct answer.\n",
    "\n",
    "Required Data Structures:\n",
    "- `Star` (**namedtuple**)\n",
    "- `stars_dict` (**dictionary** mapping **strings** to `Star` objects)\n",
    "- `Planet` (**namedtuple**)\n",
    "- `planets_list` (**list** of `Planet` objects)\n",
    "\n",
    "In addition, you are also **required** to follow the requirements below:\n",
    "\n",
    "* You **must** never use the output of the `os.listdir` function directly. You **must** always first remove all files and directories that start with `\".\"`, and sort the list before doing anything with it.\n",
    "* You are **not** allowed to use *bare* `try/except` blocks. In other words, you can **not** use `try/except` without explicitly specifying the type of exceptions that you want to catch.\n",
    "* You are **only** allowed to use Python commands and concepts that have been taught in the course prior to the release of p10. In particular, this means that you are **not** allowed to use **modules** like `pandas` to answer the questions in this project.\n",
    "\n",
    "You are also **required** to follow good coding practices, such as the following:\n",
    "\n",
    "* Do **not** use meaningless names for variables or functions (e.g. uuu = \"my name\").\n",
    "* Do **not** write the exact same code in multiple places. Instead, wrap this code into a function and call that function whenever the code should be used.\n",
    "* Avoid **inappropriate** use of data structures. For example, using a for loop to search for a corresponding value in a dictionary with a given key instead of using dictname[key] directly.\n",
    "* Do **not** name variables or functions as python keywords or built-in functions. Bad example: str = \"23\".\n",
    "* Do **not** define multiple functions with the same name or define multiple versions of one function with different names. Just keep the best version.\n",
    "* Do **not** leave in irrelevant output or test code that we didn't ask for.\n",
    "\n",
    "We will **manually deduct** points if you do **not** follow these guidelines.\n",
    "\n",
    "For more details on what will cause you to lose points during code review and specific requirements, please take a look at the [Grading rubric](https://git.doit.wisc.edu/cdis/cs/courses/cs220/cs220-f22-projects/-/blob/main/p10/rubric.md)."
   ]
  },
  {
   "cell_type": "markdown",
   "id": "381d4939",
   "metadata": {
    "deletable": false,
    "editable": false,
    "lines_to_next_cell": 0
   },
   "source": [
    "## Questions and Functions:\n",
    "\n",
    "Let us start by importing all the modules we will need for this project."
   ]
  },
  {
   "cell_type": "code",
   "execution_count": 134,
   "id": "fc356f2a",
   "metadata": {
    "lines_to_next_cell": 0,
    "tags": []
   },
   "outputs": [],
   "source": [
    "# it is considered a good coding practice to place all import statements at the top of the notebook\n",
    "# please place all your import statements in this cell if you need to import any more modules for this project\n",
    "from collections import namedtuple\n",
    "import csv\n",
    "import math\n",
    "import os\n",
    "import json\n",
    "# import copy"
   ]
  },
  {
   "cell_type": "markdown",
   "id": "6f8ad69e",
   "metadata": {
    "deletable": false,
    "editable": false
   },
   "source": [
    "### File handling:\n",
    "\n",
    "In the next questions, you will be using functions in the `os` module to make **lists** of files and paths in the `data` directory. All your **lists** **must** satisfy the following conditions:\n",
    "\n",
    "* Any files with names beginning with `\".\"` **must** be **excluded**.\n",
    "* The list **must** be **explicitly** sorted in **alphabetical** order.\n",
    "\n",
    "You may consider writing a single function to answer several questions, but this is **not required**. If you want to define such a function, you can insert a new cell in your notebook under this cell, and define the function there.\n",
    "\n",
    "**Hint**: Things that change for different questions can often be represented with parameters."
   ]
  },
  {
   "cell_type": "markdown",
   "id": "450180ff",
   "metadata": {
    "deletable": false,
    "editable": false
   },
   "source": [
    "**Question 1:** What are the **names** of the files present in the `data` directory\n",
    "\n",
    "Your output **must** be a **list** of **strings** representing the **names** of the files."
   ]
  },
  {
   "cell_type": "code",
   "execution_count": 135,
   "id": "828825d6",
   "metadata": {
    "lines_to_next_cell": 0,
    "tags": []
   },
   "outputs": [
    {
     "data": {
      "text/plain": [
       "['mapping_1.json',\n",
       " 'mapping_2.json',\n",
       " 'mapping_3.json',\n",
       " 'mapping_4.json',\n",
       " 'mapping_5.json',\n",
       " 'planets_1.csv',\n",
       " 'planets_2.csv',\n",
       " 'planets_3.csv',\n",
       " 'planets_4.csv',\n",
       " 'planets_5.csv',\n",
       " 'stars_1.csv',\n",
       " 'stars_2.csv',\n",
       " 'stars_3.csv',\n",
       " 'stars_4.csv',\n",
       " 'stars_5.csv']"
      ]
     },
     "execution_count": 135,
     "metadata": {},
     "output_type": "execute_result"
    }
   ],
   "source": [
    "# compute and store the answer in the variable 'files_in_data', then display it\n",
    "# path=\".\"\n",
    "# datadir=os.path.join(path,\"data\")\n",
    "files_in_data=os.listdir(\"data\")\n",
    "rec=[]\n",
    "for index in range(len(files_in_data)):\n",
    "    if files_in_data[index][0]==\".\":\n",
    "        rec.append(files_in_data[index])\n",
    "\n",
    "for xcpt in rec:\n",
    "    files_in_data.pop(files_in_data.index(xcpt))\n",
    "\n",
    "files_in_data.sort()\n",
    "files_in_data"
   ]
  },
  {
   "cell_type": "code",
   "execution_count": 136,
   "id": "5263007c",
   "metadata": {
    "deletable": false,
    "editable": false
   },
   "outputs": [
    {
     "data": {
      "text/html": [
       "<p><strong><pre style='display: inline;'>q1</pre></strong> passed!</p>"
      ],
      "text/plain": [
       "q1 results: All test cases passed!"
      ]
     },
     "execution_count": 136,
     "metadata": {},
     "output_type": "execute_result"
    }
   ],
   "source": [
    "grader.check(\"q1\")"
   ]
  },
  {
   "cell_type": "markdown",
   "id": "bdc3629d",
   "metadata": {
    "deletable": false,
    "editable": false
   },
   "source": [
    "**Question 2:** What are the **relative paths** of all the files in the `data` directory?\n",
    "\n",
    "Your output **must** be a **list** of **strings** representing the **paths** of the files.\n",
    "\n",
    "**Warning:** Please **do not hardcode** `\"/\"` or `\"\\\"` in your path because doing so will cause your function to **fail** on a computer that's not using the same operating system as yours. This may result in your code failing on Gradescope."
   ]
  },
  {
   "cell_type": "code",
   "execution_count": 137,
   "id": "344bfe95",
   "metadata": {
    "lines_to_next_cell": 0,
    "tags": []
   },
   "outputs": [
    {
     "data": {
      "text/plain": [
       "['data\\\\mapping_1.json',\n",
       " 'data\\\\mapping_2.json',\n",
       " 'data\\\\mapping_3.json',\n",
       " 'data\\\\mapping_4.json',\n",
       " 'data\\\\mapping_5.json',\n",
       " 'data\\\\planets_1.csv',\n",
       " 'data\\\\planets_2.csv',\n",
       " 'data\\\\planets_3.csv',\n",
       " 'data\\\\planets_4.csv',\n",
       " 'data\\\\planets_5.csv',\n",
       " 'data\\\\stars_1.csv',\n",
       " 'data\\\\stars_2.csv',\n",
       " 'data\\\\stars_3.csv',\n",
       " 'data\\\\stars_4.csv',\n",
       " 'data\\\\stars_5.csv']"
      ]
     },
     "execution_count": 137,
     "metadata": {},
     "output_type": "execute_result"
    }
   ],
   "source": [
    "# compute and store the answer in the variable 'file_paths', then display it\n",
    "file_paths=files_in_data[:]\n",
    "# print(file_paths)\n",
    "for i in range(len(file_paths)):\n",
    "    file_paths[i]=os.path.join(\"data\",file_paths[i])\n",
    "\n",
    "# NOTE HERE WE CAN USE .sort() DIRECTLY INSTEAD OF .sort(key= lambda x: os.path.basename(x)) BECAUSE WE KNOW ALL FILES ARE IN THE SAME DIRECTORY.\n",
    "# DO NOT DEDUCT MY POINT HERE BECAUSE OF NOT USING .sort(key= lambda x: os.path.basename(x))\n",
    "file_paths.sort()\n",
    "file_paths"
   ]
  },
  {
   "cell_type": "code",
   "execution_count": 138,
   "id": "8fca30cc",
   "metadata": {
    "deletable": false,
    "editable": false
   },
   "outputs": [
    {
     "data": {
      "text/html": [
       "<p><strong><pre style='display: inline;'>q2</pre></strong> passed!</p>"
      ],
      "text/plain": [
       "q2 results: All test cases passed!"
      ]
     },
     "execution_count": 138,
     "metadata": {},
     "output_type": "execute_result"
    }
   ],
   "source": [
    "grader.check(\"q2\")"
   ]
  },
  {
   "cell_type": "markdown",
   "id": "9e1079d8",
   "metadata": {
    "deletable": false,
    "editable": false
   },
   "source": [
    "**Question 3:** What are the **relative paths** of all the **JSON files** present in `data` directory?\n",
    "\n",
    "Your output **must** be filtered to **only** include files ending in `.json`.\n",
    "\n",
    "**Warning:** Please **do not hardcode** `\"/\"` or `\"\\\"` in your path because doing so will cause your function to **fail** on a computer that's not using the same operating system as yours. This may result in your code failing on Gradescope."
   ]
  },
  {
   "cell_type": "code",
   "execution_count": 139,
   "id": "7bc1d9dc",
   "metadata": {
    "lines_to_next_cell": 0,
    "tags": []
   },
   "outputs": [
    {
     "data": {
      "text/plain": [
       "['data\\\\mapping_1.json',\n",
       " 'data\\\\mapping_2.json',\n",
       " 'data\\\\mapping_3.json',\n",
       " 'data\\\\mapping_4.json',\n",
       " 'data\\\\mapping_5.json']"
      ]
     },
     "execution_count": 139,
     "metadata": {},
     "output_type": "execute_result"
    }
   ],
   "source": [
    "# compute and store the answer in the variable 'json_file_paths', then display it\n",
    "json_file_paths=[]\n",
    "for item in file_paths:\n",
    "    if item[-5:]==\".json\":\n",
    "        json_file_paths.append(item)\n",
    "\n",
    "json_file_paths.sort()\n",
    "json_file_paths"
   ]
  },
  {
   "cell_type": "code",
   "execution_count": 140,
   "id": "1772cb9c",
   "metadata": {
    "deletable": false,
    "editable": false
   },
   "outputs": [
    {
     "data": {
      "text/html": [
       "<p><strong><pre style='display: inline;'>q3</pre></strong> passed!</p>"
      ],
      "text/plain": [
       "q3 results: All test cases passed!"
      ]
     },
     "execution_count": 140,
     "metadata": {},
     "output_type": "execute_result"
    }
   ],
   "source": [
    "grader.check(\"q3\")"
   ]
  },
  {
   "cell_type": "markdown",
   "id": "6c943ff1",
   "metadata": {
    "deletable": false,
    "editable": false
   },
   "source": [
    "**Question 4:** What are the **relative paths** of all the files present in `data` directory, that **begin** with the phrase `'stars'`?\n",
    "\n",
    "Your output **must** be filtered to **only** include files start with `stars`.\n",
    "\n",
    "**Warning:** Please **do not hardcode** `\"/\"` or `\"\\\"` in your path because doing so will cause your function to **fail** on a computer that's not using the same operating system as yours. This may result in your code failing on Gradescope."
   ]
  },
  {
   "cell_type": "code",
   "execution_count": 141,
   "id": "c1473255",
   "metadata": {
    "lines_to_next_cell": 0,
    "tags": []
   },
   "outputs": [
    {
     "data": {
      "text/plain": [
       "['data\\\\stars_1.csv',\n",
       " 'data\\\\stars_2.csv',\n",
       " 'data\\\\stars_3.csv',\n",
       " 'data\\\\stars_4.csv',\n",
       " 'data\\\\stars_5.csv']"
      ]
     },
     "execution_count": 141,
     "metadata": {},
     "output_type": "execute_result"
    }
   ],
   "source": [
    "# compute and store the answer in the variable 'stars_paths', then display it\n",
    "a=os.path.join(\"0\",\"\")\n",
    "stars_paths=[]\n",
    "for item in file_paths:\n",
    "    iteml=item.split(a[1:])\n",
    "    if iteml[1][:5]==\"stars\":\n",
    "        stars_paths.append(item)\n",
    "stars_paths.sort(key= lambda x: os.path.basename(x))\n",
    "stars_paths\n"
   ]
  },
  {
   "cell_type": "code",
   "execution_count": 142,
   "id": "0d972bda",
   "metadata": {
    "deletable": false,
    "editable": false
   },
   "outputs": [
    {
     "data": {
      "text/html": [
       "<p><strong><pre style='display: inline;'>q4</pre></strong> passed!</p>"
      ],
      "text/plain": [
       "q4 results: All test cases passed!"
      ]
     },
     "execution_count": 142,
     "metadata": {},
     "output_type": "execute_result"
    }
   ],
   "source": [
    "grader.check(\"q4\")"
   ]
  },
  {
   "cell_type": "markdown",
   "id": "efefa619",
   "metadata": {
    "deletable": false,
    "editable": false
   },
   "source": [
    "### Data Structure 1: namedtuple `Star`\n",
    "\n",
    "You will be using namedtuples to store the data in the `stars_1.csv`, ..., `stars_5.csv` files. Before you start reading these files however, you **must** create a new `Star` type (using namedtuple). It **must** have the following attributes:\n",
    "\n",
    "* `spectral_type`\n",
    "* `stellar_effective_temperature`\n",
    "* `stellar_radius`\n",
    "* `stellar_mass`\n",
    "* `stellar_luminosity`\n",
    "* `stellar_surface_gravity`\n",
    "* `stellar_age`"
   ]
  },
  {
   "cell_type": "code",
   "execution_count": 143,
   "id": "1b72fded",
   "metadata": {
    "lines_to_next_cell": 0,
    "tags": []
   },
   "outputs": [],
   "source": [
    "# define the namedtuple 'Star' here\n",
    "\n",
    "star_attributes = ['spectral_type',\n",
    "                  'stellar_effective_temperature',\n",
    "                  'stellar_radius',\n",
    "                  'stellar_mass',\n",
    "                  'stellar_luminosity',\n",
    "                  'stellar_surface_gravity',\n",
    "                  'stellar_age']\n",
    "\n",
    "# create the namedtuple type 'Star' with the correct attributes\n",
    "Star = namedtuple(\"Star\", star_attributes)"
   ]
  },
  {
   "cell_type": "code",
   "execution_count": 144,
   "id": "08d17370",
   "metadata": {
    "tags": []
   },
   "outputs": [
    {
     "data": {
      "text/plain": [
       "Star(spectral_type='G2 V', stellar_effective_temperature=5780.0, stellar_radius=1.0, stellar_mass=1.0, stellar_luminosity=0.0, stellar_surface_gravity=4.44, stellar_age=4.6)"
      ]
     },
     "execution_count": 144,
     "metadata": {},
     "output_type": "execute_result"
    }
   ],
   "source": [
    "# run this following cell to initialize and test an example Star object\n",
    "# if this cell fails to execute, you have likely not defined the namedtuple 'Star' correctly\n",
    "\n",
    "sun = Star('G2 V', 5780.0, 1.0, 1.0, 0.0, 4.44, 4.6)\n",
    "\n",
    "sun"
   ]
  },
  {
   "cell_type": "code",
   "execution_count": 145,
   "id": "38e3af94",
   "metadata": {
    "deletable": false,
    "editable": false
   },
   "outputs": [
    {
     "data": {
      "text/html": [
       "<p><strong><pre style='display: inline;'>star_object</pre></strong> passed!</p>"
      ],
      "text/plain": [
       "star_object results: All test cases passed!"
      ]
     },
     "execution_count": 145,
     "metadata": {},
     "output_type": "execute_result"
    }
   ],
   "source": [
    "grader.check(\"star_object\")"
   ]
  },
  {
   "cell_type": "markdown",
   "id": "d2974353",
   "metadata": {
    "deletable": false,
    "editable": false
   },
   "source": [
    "### Creating `Star` objects\n",
    "\n",
    "Now that we have created the `Star` namedtuple, our next objective will be to read the files `stars_1.csv`, ..., `stars_5.csv` and create `Star` objects out of all the stars in there. In order to process the CSV files, you will first need to copy/paste the `process_csv` function you have been using since p6."
   ]
  },
  {
   "cell_type": "code",
   "execution_count": 146,
   "id": "4863d7b5",
   "metadata": {
    "tags": []
   },
   "outputs": [],
   "source": [
    "# copy & paste the process_csv file from previous projects here\n",
    "def process_csv(filename):\n",
    "    example_file = open(filename, encoding=\"utf-8\")\n",
    "    example_reader = csv.reader(example_file)\n",
    "    example_data = list(example_reader)\n",
    "    example_file.close()\n",
    "    return example_data"
   ]
  },
  {
   "cell_type": "markdown",
   "id": "129c08de",
   "metadata": {
    "deletable": false,
    "editable": false
   },
   "source": [
    "You are now ready to read the data in `stars_1.csv` using `process_csv` and convert the data into `Star` objects. In the cell below, you **must** read the data in `stars_1.csv` and extract the **header** and the non-header **rows** of the file.\n",
    "\n",
    "**Warning:** You **must** use the **relative path** of the file to read the file. If you **hardcode** the **absolute path**, your code will pass on your computer, but **fail** on the testing computer."
   ]
  },
  {
   "cell_type": "code",
   "execution_count": 147,
   "id": "2aed6340",
   "metadata": {
    "tags": []
   },
   "outputs": [],
   "source": [
    "# replace the ... with your code\n",
    "temppath=os.path.join(\"data\",\"stars_1.csv\")\n",
    "stars_1_csv =  process_csv(temppath)\n",
    "stars_header = stars_1_csv[0]\n",
    "stars_rows = stars_1_csv[1:]\n",
    "\n",
    "# len(stars_rows)"
   ]
  },
  {
   "cell_type": "markdown",
   "id": "5d29b354",
   "metadata": {
    "deletable": false,
    "editable": false
   },
   "source": [
    "If you wish to **verify** that you have read the file and defined the variables correctly, you can check that `stars_header` has the value:\n",
    "\n",
    "```python\n",
    "['Name', 'Spectral Type', 'Stellar Effective Temperature [K]', 'Stellar Radius [Solar Radius]',\n",
    " 'Stellar Mass [Solar mass]', 'Stellar Luminosity [log(Solar)]', \n",
    " 'Stellar Surface Gravity [log10(cm/s**2)]', 'Stellar Age [Gyr]']\n",
    "```\n",
    "\n",
    "and that `stars_rows` has **1508** rows of which the **first three** are:\n",
    "\n",
    "```python\n",
    "[['11 Com', 'G8 III', '4742.00', '19.00', '2.70', '2.243', '2.31', ''],\n",
    " ['11 UMi', 'K4 III', '4213.00', '29.79', '2.78', '2.430', '1.93', '1.560'],\n",
    " ['14 And', 'K0 III', '4813.00', '11.00', '2.20', '1.763', '2.63', '4.500']]\n",
    "```"
   ]
  },
  {
   "cell_type": "markdown",
   "id": "208dd21b",
   "metadata": {
    "deletable": false,
    "editable": false
   },
   "source": [
    "### Function 1: `star_cell(row_idx, col_name, stars_rows, header=stars_header)`\n",
    "\n",
    "This function **must** read the **list** of **lists** `stars_rows`, and extract the value at **row** index `row_idx` and **column** name `col_name`. The function **must** typecast the value based on `col_name`. If the value in `stars_rows` is **missing** (i.e., it is `''`), then the value returned **must** be `None`.\n",
    "\n",
    "The **column** of `stars_rows` where the value should be obtained from, and the correct **data type** for the value are listed in the table below:\n",
    "\n",
    "|Column of `stars_rows`|Data Type|\n",
    "|------|---------|\n",
    "|Spectral Type|**string**|\n",
    "|Stellar Effective Temperature [K]|**float**|\n",
    "|Stellar Radius [Solar Radius]|**float**|\n",
    "|Stellar Mass [Solar mass]|**float**|\n",
    "|Stellar Luminosity [log(Solar)]|**float**|\n",
    "|Stellar Surface Gravity [log10(cm/s**2)]|**float**|\n",
    "|Stellar Age [Gyr]|**float**|"
   ]
  },
  {
   "cell_type": "code",
   "execution_count": 148,
   "id": "32eb9c3e",
   "metadata": {
    "tags": []
   },
   "outputs": [],
   "source": [
    "# copy/paste the 'star_cell' function from lab-p10 here\n",
    "def star_cell(row_idx,col_name,stars_rows,header=stars_header):\n",
    "    col_idx=header.index(col_name)\n",
    "    if stars_rows[row_idx][col_idx]==\"\":\n",
    "        return None\n",
    "    else:\n",
    "        if col_name not in [\"Spectral Type\",\"Name\"] :\n",
    "            return float(stars_rows[row_idx][col_idx])\n",
    "        else:\n",
    "            return stars_rows[row_idx][col_idx]\n",
    "\n",
    "# star_cell(0,\"Stellar Mass [Solar mass]\",stars_rows)"
   ]
  },
  {
   "cell_type": "markdown",
   "id": "e8c8ac4d",
   "metadata": {
    "deletable": false,
    "editable": false
   },
   "source": [
    "**Question 5:** Create a `Star` object for the **third** star in `\"stars_1.csv\"`.\n",
    "\n",
    "You **must** access the values in `stars_1.csv` using the `star_cell` function. Note that the third star would be at **index** 2.\n",
    "\n",
    "The **attribute** of the `Star` namedtuple object, the corresponding **column** of the `stars_1.csv` file where the value should be obtained from, and the correct **data type** for the value are listed in the table below:\n",
    "\n",
    "|Attribute of `Star` object|Column of `stars_1.csv`|Data Type|\n",
    "|---------|------|---------|\n",
    "|`spectral_type`|Spectral Type|**string**|\n",
    "|`stellar_effective_temperature`|Stellar Effective Temperature [K]|**float**|\n",
    "|`stellar_radius`|Stellar Radius [Solar Radius]|**float**|\n",
    "|`stellar_mass`|Stellar Mass [Solar mass]|**float**|\n",
    "|`stellar_luminosity`|Stellar Luminosity [log(Solar)]|**float**|\n",
    "|`stellar_surface_gravity`|Stellar Surface Gravity [log10(cm/s**2)]|**float**|\n",
    "|`stellar_age`|Stellar Age [Gyr]|**float**|"
   ]
  },
  {
   "cell_type": "code",
   "execution_count": 149,
   "id": "264c79f9",
   "metadata": {
    "lines_to_next_cell": 0,
    "tags": []
   },
   "outputs": [
    {
     "data": {
      "text/plain": [
       "Star(spectral_type='K0 III', stellar_effective_temperature=4813.0, stellar_radius=11.0, stellar_mass=2.2, stellar_luminosity=1.763, stellar_surface_gravity=2.63, stellar_age=4.5)"
      ]
     },
     "execution_count": 149,
     "metadata": {},
     "output_type": "execute_result"
    }
   ],
   "source": [
    "\n",
    "# compute and store the answer in the variable 'third_star', then display it\n",
    "'''\n",
    "templ=[]\n",
    "for attributes in stars_header:\n",
    "    templ.append(star_cell(2,attributes,stars_rows))\n",
    "# templ\n",
    "\n",
    "# third_star=Star(tuple(templ[1:]))\n",
    "tuple(templ[1:])\n",
    "\n",
    "sun = Star('G2 V', 5780.0, 1.0, 1.0, 0.0, 4.44, 4.6)\n",
    "'''\n",
    "\n",
    "rows_idx=2\n",
    "\n",
    "spectral_type = star_cell(rows_idx,'Spectral Type',stars_rows)\n",
    "stellar_effective_temperature = star_cell(rows_idx,'Stellar Effective Temperature [K]',stars_rows)\n",
    "stellar_radius = star_cell(rows_idx,'Stellar Radius [Solar Radius]',stars_rows) \n",
    "stellar_mass = star_cell(rows_idx,'Stellar Mass [Solar mass]',stars_rows) \n",
    "stellar_luminosity = star_cell(rows_idx,'Stellar Luminosity [log(Solar)]',stars_rows) \n",
    "stellar_surface_gravity = star_cell(rows_idx,'Stellar Surface Gravity [log10(cm/s**2)]',stars_rows) \n",
    "stellar_age = star_cell(rows_idx,'Stellar Age [Gyr]',stars_rows) \n",
    "\n",
    "third_star = Star(spectral_type, stellar_effective_temperature, stellar_radius, \\\n",
    "                  stellar_mass, stellar_luminosity, \\\n",
    "                  stellar_surface_gravity, stellar_age)\n",
    "\n",
    "third_star\n"
   ]
  },
  {
   "cell_type": "code",
   "execution_count": 150,
   "id": "8de7fd74",
   "metadata": {
    "deletable": false,
    "editable": false
   },
   "outputs": [
    {
     "data": {
      "text/html": [
       "<p><strong><pre style='display: inline;'>q5</pre></strong> passed!</p>"
      ],
      "text/plain": [
       "q5 results: All test cases passed!"
      ]
     },
     "execution_count": 150,
     "metadata": {},
     "output_type": "execute_result"
    }
   ],
   "source": [
    "grader.check(\"q5\")"
   ]
  },
  {
   "cell_type": "markdown",
   "id": "426e2330",
   "metadata": {
    "deletable": false,
    "editable": false
   },
   "source": [
    "### Function 2:  `get_stars(star_file)`\n",
    "\n",
    "This function **must** take in as its input, the **relative path** of a CSV file `star_file` which contains data on stars in the same format as `stars_1.csv`. It **must** return a **dictionary** mapping the `Name` of each star in `star_file` to a `Star` object containing all the other details of the star.\n",
    "\n",
    "You **must** access the values in `stars_1.csv` using the `star_cell` function.\n",
    "\n",
    "Once again, as a reminder, the attributes of the `Star` objects should be obtained from the **rows** of `star_file` and stored as follows:\n",
    "\n",
    "|Attribute of `Star` object|Column of `star_file`|Data Type|\n",
    "|---------|------|---------|\n",
    "|`spectral_type`|Spectral Type|**string**|\n",
    "|`stellar_effective_temperature`|Stellar Effective Temperature [K]|**float**|\n",
    "|`stellar_radius`|Stellar Radius [Solar Radius]|**float**|\n",
    "|`stellar_mass`|Stellar Mass [Solar mass]|**float**|\n",
    "|`stellar_luminosity`|Stellar Luminosity [log(Solar)]|**float**|\n",
    "|`stellar_surface_gravity`|Stellar Surface Gravity [log10(cm/s**2)]|**float**|\n",
    "|`stellar_age`|Stellar Age [Gyr]|**float**|\n",
    "\n",
    "In case any data in `star_file` is **missing**, the corresponding value should be `None`.\n",
    "\n",
    "For example, when this function is called with the file `stars_1.csv` as the input, the **dictionary** returned should look like:\n",
    "\n",
    "```python\n",
    "{'11 Com': Star(spectral_type='G8 III', stellar_effective_temperature=4742.0, \n",
    "                stellar_radius=19.0, stellar_mass=2.7, stellar_luminosity=2.243, \n",
    "                stellar_surface_gravity=2.31, stellar_age=None),\n",
    " '11 UMi': Star(spectral_type='K4 III', stellar_effective_temperature=4213.0, \n",
    "                stellar_radius=29.79, stellar_mass=2.78, stellar_luminosity=2.43, \n",
    "                stellar_surface_gravity=1.93, stellar_age=1.56),\n",
    " '14 And': Star(spectral_type='K0 III', stellar_effective_temperature=4813.0, \n",
    "                stellar_radius=11.0, stellar_mass=2.2, stellar_luminosity=1.763, \n",
    "                stellar_surface_gravity=2.63, stellar_age=4.5),\n",
    " ...\n",
    "}\n",
    "```"
   ]
  },
  {
   "cell_type": "code",
   "execution_count": 151,
   "id": "bb7cbd91",
   "metadata": {
    "tags": []
   },
   "outputs": [
    {
     "data": {
      "text/plain": [
       "'\\n    TODO: read star_file to a list of lists\\n    TODO: extract the header and rows from star_file\\n    TODO: loop through each row in star_file\\n    TODO: create a Star object (namedTuple) for each row\\n    TODO: add each Star objet to a dictionary\\n    TODO: return the dictionary at the end of the loop\\n    replace with your code\\n    END PROPMT\\n'"
      ]
     },
     "execution_count": 151,
     "metadata": {},
     "output_type": "execute_result"
    }
   ],
   "source": [
    "# define the function 'get_stars' here\n",
    "\n",
    "def get_stars(star_file):\n",
    "    try:\n",
    "        file=process_csv(star_file)\n",
    "        iheader=file[0]\n",
    "        starinfo=file[1:]\n",
    "        starinfodict={}\n",
    "        for index in range(len(starinfo)):\n",
    "            rows_idx=index\n",
    "            spectral_type = star_cell(rows_idx,'Spectral Type',starinfo)\n",
    "            stellar_effective_temperature = star_cell(rows_idx,'Stellar Effective Temperature [K]',starinfo)\n",
    "            stellar_radius = star_cell(rows_idx,'Stellar Radius [Solar Radius]',starinfo) \n",
    "            stellar_mass = star_cell(rows_idx,'Stellar Mass [Solar mass]',starinfo) \n",
    "            stellar_luminosity = star_cell(rows_idx,'Stellar Luminosity [log(Solar)]',starinfo) \n",
    "            stellar_surface_gravity = star_cell(rows_idx,'Stellar Surface Gravity [log10(cm/s**2)]',starinfo) \n",
    "            stellar_age = star_cell(rows_idx,'Stellar Age [Gyr]',starinfo) \n",
    "        \n",
    "            thisstar=Star(spectral_type, stellar_effective_temperature, stellar_radius,stellar_mass, stellar_luminosity, stellar_surface_gravity, stellar_age)\n",
    "            starinfodict[star_cell(rows_idx,'Name',starinfo)]=thisstar\n",
    "            \n",
    "        return starinfodict\n",
    "\n",
    "    except(FileExistsError,FileNotFoundError) as e:\n",
    "        return None\n",
    "'''\n",
    "    TODO: read star_file to a list of lists\n",
    "    TODO: extract the header and rows from star_file\n",
    "    TODO: loop through each row in star_file\n",
    "    TODO: create a Star object (namedTuple) for each row\n",
    "    TODO: add each Star objet to a dictionary\n",
    "    TODO: return the dictionary at the end of the loop\n",
    "    replace with your code\n",
    "    END PROPMT\n",
    "'''"
   ]
  },
  {
   "cell_type": "code",
   "execution_count": 152,
   "id": "2f920138",
   "metadata": {
    "tags": []
   },
   "outputs": [],
   "source": [
    "# you can now use 'get_stars' to read the data in 'stars_1.csv' but DO NOT display\n",
    "\n",
    "stars_1_dict = get_stars(os.path.join(\"data\",\"stars_1.csv\"))"
   ]
  },
  {
   "cell_type": "markdown",
   "id": "bd1f23df",
   "metadata": {
    "deletable": false,
    "editable": false
   },
   "source": [
    "**Question 6:** What is the `Star` object of the star (in `stars_1.csv`) named *DP Leo*?\n",
    "\n",
    "You **must** access the `Star` object in `stars_1_dict` **dictionary** defined above to answer this question."
   ]
  },
  {
   "cell_type": "code",
   "execution_count": 153,
   "id": "c5b0ce59",
   "metadata": {
    "lines_to_next_cell": 0,
    "tags": []
   },
   "outputs": [
    {
     "data": {
      "text/plain": [
       "Star(spectral_type=None, stellar_effective_temperature=13500.0, stellar_radius=0.01, stellar_mass=0.69, stellar_luminosity=-2.4, stellar_surface_gravity=None, stellar_age=None)"
      ]
     },
     "execution_count": 153,
     "metadata": {},
     "output_type": "execute_result"
    }
   ],
   "source": [
    "# compute and store the answer in the variable 'dp_leo', then display it\n",
    "dp_leo=stars_1_dict[\"DP Leo\"]\n",
    "dp_leo"
   ]
  },
  {
   "cell_type": "code",
   "execution_count": 154,
   "id": "d397687d",
   "metadata": {
    "deletable": false,
    "editable": false
   },
   "outputs": [
    {
     "data": {
      "text/html": [
       "<p><strong><pre style='display: inline;'>q6</pre></strong> passed!</p>"
      ],
      "text/plain": [
       "q6 results: All test cases passed!"
      ]
     },
     "execution_count": 154,
     "metadata": {},
     "output_type": "execute_result"
    }
   ],
   "source": [
    "grader.check(\"q6\")"
   ]
  },
  {
   "cell_type": "markdown",
   "id": "eee50d46",
   "metadata": {
    "deletable": false,
    "editable": false
   },
   "source": [
    "**Question 7:** What's the **average** `stellar_luminosity` of **all** the stars in the `star_1.csv` file?\n",
    "\n",
    "You **must** use the `stars_1_dict` **dictionary** defined above to answer this question.\n",
    "\n",
    "To find the average, you **must** first **add** up the `stellar_luminosity` value of all the stars and **divide** by the total **number** of stars. You **must skip** stars which don't have the `stellar_luminosity` data. Such stars should not contribute to either the sum of `stellar_luminosity` or to the number of stars."
   ]
  },
  {
   "cell_type": "code",
   "execution_count": 155,
   "id": "19b731ac",
   "metadata": {
    "lines_to_next_cell": 0,
    "tags": []
   },
   "outputs": [
    {
     "data": {
      "text/plain": [
       "0.016741496598639403"
      ]
     },
     "execution_count": 155,
     "metadata": {},
     "output_type": "execute_result"
    }
   ],
   "source": [
    "# compute and store the answer in the variable 'avg_lum_stars_1', then display it\n",
    "avg_lum_stars_1=0\n",
    "count=0\n",
    "for keys in stars_1_dict:\n",
    "    if (stars_1_dict[keys].stellar_luminosity)==None:\n",
    "        continue\n",
    "    else:\n",
    "        count+=1\n",
    "        avg_lum_stars_1+=(stars_1_dict[keys].stellar_luminosity)\n",
    "avg_lum_stars_1/=count\n",
    "avg_lum_stars_1\n",
    "    "
   ]
  },
  {
   "cell_type": "code",
   "execution_count": 156,
   "id": "6f6d3f17",
   "metadata": {
    "deletable": false,
    "editable": false
   },
   "outputs": [
    {
     "data": {
      "text/html": [
       "<p><strong><pre style='display: inline;'>q7</pre></strong> passed!</p>"
      ],
      "text/plain": [
       "q7 results: All test cases passed!"
      ]
     },
     "execution_count": 156,
     "metadata": {},
     "output_type": "execute_result"
    }
   ],
   "source": [
    "grader.check(\"q7\")"
   ]
  },
  {
   "cell_type": "markdown",
   "id": "65596001",
   "metadata": {
    "deletable": false,
    "editable": false
   },
   "source": [
    "**Question 8:** What is the **average** `stellar_age` of **all** the stars in the `stars_2.csv` file?\n",
    "\n",
    "You **must** use the function `get_stars(csv_file)` to read the data in `stars_2.csv`. Your output **must** be a **float** representing the `stellar_age` in units of *gigayears*. You **must** skip stars which have missing `stellar_age` data."
   ]
  },
  {
   "cell_type": "code",
   "execution_count": 157,
   "id": "1c2e298d",
   "metadata": {
    "lines_to_next_cell": 0,
    "tags": []
   },
   "outputs": [
    {
     "data": {
      "text/plain": [
       "4.290235955056181"
      ]
     },
     "execution_count": 157,
     "metadata": {},
     "output_type": "execute_result"
    }
   ],
   "source": [
    "# compute and store the answer in the variable 'avg_age_stars_2', then display it\n",
    "\n",
    "stars_2_dict = get_stars(os.path.join(\"data\",\"stars_2.csv\"))\n",
    "\n",
    "avg_age_stars_2=0\n",
    "count=0\n",
    "\n",
    "for keys in stars_2_dict:\n",
    "    if (stars_2_dict[keys].stellar_age)==None:\n",
    "        continue\n",
    "    else:\n",
    "        count+=1\n",
    "        avg_age_stars_2+=(stars_2_dict[keys].stellar_age)\n",
    "avg_age_stars_2/=count\n",
    "avg_age_stars_2"
   ]
  },
  {
   "cell_type": "code",
   "execution_count": 158,
   "id": "b59d6856",
   "metadata": {
    "deletable": false,
    "editable": false
   },
   "outputs": [
    {
     "data": {
      "text/html": [
       "<p><strong><pre style='display: inline;'>q8</pre></strong> passed!</p>"
      ],
      "text/plain": [
       "q8 results: All test cases passed!"
      ]
     },
     "execution_count": 158,
     "metadata": {},
     "output_type": "execute_result"
    }
   ],
   "source": [
    "grader.check(\"q8\")"
   ]
  },
  {
   "cell_type": "markdown",
   "id": "af1b9ba5",
   "metadata": {
    "deletable": false,
    "editable": false
   },
   "source": [
    "### Data Structure 2: `stars_dict`\n",
    "\n",
    "You are now ready to read all the data about the stars stored in the `data` directory. You **must** now create a **dictionary** mapping the `Name` of each star in the `data` directory (inside the files `stars_1.csv`, ..., `stars_5.csv`) to the `Star` object containing all the other details about the star.\n",
    "\n",
    "You **must not** hardcode the files/paths of the files `stars_1.csv`, ..., `stars_5.csv` to answer this question. Instead, you **must** use the `os` module to find all the files in the `data` directory that begin with `'stars'`, and use the `get_stars` function on each of those files to create `stars_dict`.\n",
    "\n",
    "**Hints:** You may use the `stars_paths` variable defined earlier in q4 to get the list of paths needed for this question. You can use the `update` dictionary **method** to combine two **dictionaries**."
   ]
  },
  {
   "cell_type": "code",
   "execution_count": 159,
   "id": "ad991901",
   "metadata": {
    "tags": []
   },
   "outputs": [],
   "source": [
    "# define the variable 'stars_dict' here,\n",
    "# but do NOT display the variable at the end\n",
    "stars_dict={}\n",
    "for paths in stars_paths:\n",
    "    stars_dict.update(get_stars(paths))\n",
    "\n",
    "# len(stars_dict)\n"
   ]
  },
  {
   "cell_type": "markdown",
   "id": "0004a50a",
   "metadata": {
    "deletable": false,
    "editable": false
   },
   "source": [
    "If you wish to **verify** that you have read the files and defined `stars_dict` correctly, you can check that `stars_dict` has **3879** key/value pairs in it."
   ]
  },
  {
   "cell_type": "markdown",
   "id": "50f7d2e9",
   "metadata": {
    "deletable": false,
    "editable": false
   },
   "source": [
    "**Question 9:** What is the `stellar_effective_temperature` of the star *Kepler-220*?\n",
    "\n",
    "You **must** access the correct `Star` object in the `stars_dict` **dictionary** defined above to answer this question."
   ]
  },
  {
   "cell_type": "code",
   "execution_count": 160,
   "id": "dd77d1a7",
   "metadata": {
    "lines_to_next_cell": 0,
    "tags": []
   },
   "outputs": [
    {
     "data": {
      "text/plain": [
       "4632.0"
      ]
     },
     "execution_count": 160,
     "metadata": {},
     "output_type": "execute_result"
    }
   ],
   "source": [
    "# compute and store the answer in the variable 'kepler_220_temp', then display it\n",
    "kepler_220_temp=stars_dict[\"Kepler-220\"].stellar_effective_temperature\n",
    "kepler_220_temp"
   ]
  },
  {
   "cell_type": "code",
   "execution_count": 161,
   "id": "4667f51a",
   "metadata": {
    "deletable": false,
    "editable": false
   },
   "outputs": [
    {
     "data": {
      "text/html": [
       "<p><strong><pre style='display: inline;'>q9</pre></strong> passed!</p>"
      ],
      "text/plain": [
       "q9 results: All test cases passed!"
      ]
     },
     "execution_count": 161,
     "metadata": {},
     "output_type": "execute_result"
    }
   ],
   "source": [
    "grader.check(\"q9\")"
   ]
  },
  {
   "cell_type": "markdown",
   "id": "da1992b0",
   "metadata": {
    "deletable": false,
    "editable": false
   },
   "source": [
    "**Question 10:** Find the **name** of the **largest** star (in terms of `stellar_radius`) in the `stars_dict` **dictionary**.\n",
    "\n",
    "Your output **must** be a **string**. You do **not** need to worry about any ties. You **must** skip any stars with **missing** `stellar_radius` data."
   ]
  },
  {
   "cell_type": "code",
   "execution_count": 162,
   "id": "7d492df4",
   "metadata": {
    "tags": []
   },
   "outputs": [
    {
     "data": {
      "text/plain": [
       "'HD 81817'"
      ]
     },
     "execution_count": 162,
     "metadata": {},
     "output_type": "execute_result"
    }
   ],
   "source": [
    "# compute and store the answer in the variable 'biggest_star', then display it\n",
    "maxr=0\n",
    "biggest_star=\"\"\n",
    "for keys in stars_dict:\n",
    "    if stars_dict[keys].stellar_radius==None:\n",
    "        continue\n",
    "    else:\n",
    "        if stars_dict[keys].stellar_radius>maxr:\n",
    "            maxr=stars_dict[keys].stellar_radius\n",
    "            biggest_star=keys\n",
    "\n",
    "biggest_star"
   ]
  },
  {
   "cell_type": "code",
   "execution_count": 163,
   "id": "36f1eb95",
   "metadata": {
    "deletable": false,
    "editable": false
   },
   "outputs": [
    {
     "data": {
      "text/html": [
       "<p><strong><pre style='display: inline;'>q10</pre></strong> passed!</p>"
      ],
      "text/plain": [
       "q10 results: All test cases passed!"
      ]
     },
     "execution_count": 163,
     "metadata": {},
     "output_type": "execute_result"
    }
   ],
   "source": [
    "grader.check(\"q10\")"
   ]
  },
  {
   "cell_type": "markdown",
   "id": "962a19b7",
   "metadata": {
    "deletable": false,
    "editable": false
   },
   "source": [
    "**Question 11:** What is the **average** `stellar_age` (in *gigayears*) of **all** the stars in the `stars_dict` **dictionary** whose names **start with** `\"Kepler\"`?\n",
    "\n",
    "Your output **must** be a **float**. You **must** skip all stars with **missing** `stellar_age` data."
   ]
  },
  {
   "cell_type": "code",
   "execution_count": 164,
   "id": "642cc569",
   "metadata": {
    "tags": []
   },
   "outputs": [
    {
     "data": {
      "text/plain": [
       "4.217130505709642"
      ]
     },
     "execution_count": 164,
     "metadata": {},
     "output_type": "execute_result"
    }
   ],
   "source": [
    "# compute and store the answer in the variable 'avg_age_kepler', then display it\n",
    "avg_age_kepler=0\n",
    "count=0\n",
    "for keys in stars_dict:\n",
    "    if keys.startswith(\"Kepler\") and stars_dict[keys].stellar_age!=None:\n",
    "        avg_age_kepler+=stars_dict[keys].stellar_age\n",
    "        count+=1\n",
    "\n",
    "avg_age_kepler=avg_age_kepler/count\n",
    "avg_age_kepler"
   ]
  },
  {
   "cell_type": "code",
   "execution_count": 165,
   "id": "86c6f990",
   "metadata": {
    "deletable": false,
    "editable": false
   },
   "outputs": [
    {
     "data": {
      "text/html": [
       "<p><strong><pre style='display: inline;'>q11</pre></strong> passed!</p>"
      ],
      "text/plain": [
       "q11 results: All test cases passed!"
      ]
     },
     "execution_count": 165,
     "metadata": {},
     "output_type": "execute_result"
    }
   ],
   "source": [
    "grader.check(\"q11\")"
   ]
  },
  {
   "cell_type": "markdown",
   "id": "7485a097",
   "metadata": {
    "deletable": false,
    "editable": false
   },
   "source": [
    "### Data Structure 3: namedtuple `Planet`\n",
    "\n",
    "Just as you did with the stars, you will be using namedtuples to store the data about the planets in the `planets_1.csv`, ..., `planets_5.csv` files. Before you start reading these files however, you **must** create a new `Planet` type (using namedtuple). It **must** have the following attributes:\n",
    "\n",
    "* `planet_name`\n",
    "* `host_name`\n",
    "* `discovery_method`\n",
    "* `discovery_year`\n",
    "* `controversial_flag`\n",
    "* `orbital_period`\n",
    "* `planet_radius`\n",
    "* `planet_mass`\n",
    "* `semi_major_radius`\n",
    "* `eccentricity`\n",
    "* `equilibrium_temperature`\n",
    "* `insolation_flux`"
   ]
  },
  {
   "cell_type": "code",
   "execution_count": 166,
   "id": "33a70ada",
   "metadata": {
    "lines_to_next_cell": 0,
    "tags": []
   },
   "outputs": [],
   "source": [
    "# define the namedtuple 'Planet' here\n",
    "planet_attributes = ['planet_name', 'host_name', 'discovery_method', 'discovery_year', 'controversial_flag', \n",
    "                     'orbital_period', 'planet_radius', 'planet_mass', 'semi_major_radius', 'eccentricity',\n",
    "                     'equilibrium_temperature', 'insolation_flux']\n",
    "\n",
    "Planet = namedtuple(\"Planet\", planet_attributes)"
   ]
  },
  {
   "cell_type": "code",
   "execution_count": 167,
   "id": "cfcaac26",
   "metadata": {
    "tags": []
   },
   "outputs": [
    {
     "data": {
      "text/plain": [
       "Planet(planet_name='Jupiter', host_name='Sun', discovery_method='Imaging', discovery_year=1610, controversial_flag=False, orbital_period=4333.0, planet_radius=11.209, planet_mass=317.828, semi_major_radius=5.2038, eccentricity=0.0489, equilibrium_temperature=110, insolation_flux=0.0345)"
      ]
     },
     "execution_count": 167,
     "metadata": {},
     "output_type": "execute_result"
    }
   ],
   "source": [
    "# run this following cell to initialize and test an example Planet object\n",
    "# if this cell fails to execute, you have likely not defined the namedtuple 'Star' correctly\n",
    "jupiter = Planet('Jupiter', 'Sun', 'Imaging', 1610, False, 4333.0, 11.209, 317.828, 5.2038, 0.0489, 110, 0.0345)\n",
    "\n",
    "jupiter"
   ]
  },
  {
   "cell_type": "code",
   "execution_count": 168,
   "id": "89a49e74",
   "metadata": {
    "deletable": false,
    "editable": false
   },
   "outputs": [
    {
     "data": {
      "text/html": [
       "<p><strong><pre style='display: inline;'>planet_object</pre></strong> passed!</p>"
      ],
      "text/plain": [
       "planet_object results: All test cases passed!"
      ]
     },
     "execution_count": 168,
     "metadata": {},
     "output_type": "execute_result"
    }
   ],
   "source": [
    "grader.check(\"planet_object\")"
   ]
  },
  {
   "cell_type": "markdown",
   "id": "db876580",
   "metadata": {
    "deletable": false,
    "editable": false
   },
   "source": [
    "### Creating `Planet` objects\n",
    "\n",
    "We are now ready to read the files in the `data` directory and create `Planet` objects. Creating `Planet` objects however, is going to be more difficult than creating `Star` objects, because the data required to create a single `Planet` object is split up into different files.\n",
    "\n",
    "The `planets_1.csv`, ..., `planets_5.csv` files contain all the data required to create `Planet` objects **except** for the `host_name`. The `host_name` for each planet is to be found in the `mapping_1.json`, ..., `mapping_5.json` files."
   ]
  },
  {
   "cell_type": "markdown",
   "id": "4ac20400",
   "metadata": {
    "deletable": false,
    "editable": false
   },
   "source": [
    "First, let us read the data in `planets_1.csv`. Since this is a CSV file, you can use the `process_csv` function from above to read this file. In the cell below, you **must** read the data in `planets_1.csv` and extract the **header** and the non-header **rows** of the file."
   ]
  },
  {
   "cell_type": "code",
   "execution_count": 169,
   "id": "f52e9eac",
   "metadata": {
    "tags": []
   },
   "outputs": [],
   "source": [
    "# replace the ... with your code\n",
    "\n",
    "planets_1_csv = process_csv(os.path.join(\"data\",\"planets_1.csv\")) # read the data in 'planets_1.csv'\n",
    "planets_header = planets_1_csv[0]\n",
    "planets_rows = planets_1_csv[1:]\n",
    "\n",
    "# print(planets_header)\n",
    "# len(planets_rows)"
   ]
  },
  {
   "cell_type": "markdown",
   "id": "8f5b8055",
   "metadata": {
    "deletable": false,
    "editable": false
   },
   "source": [
    "If you wish to **verify** that you have read the file and defined the variables correctly, you can check that `planets_header` has the value:\n",
    "\n",
    "```python\n",
    "['Planet Name', 'Discovery Method', 'Discovery Year', 'Controversial Flag', 'Orbital Period [days]',\n",
    " 'Planet Radius [Earth Radius]', 'Planet Mass [Earth Mass]', 'Orbit Semi-Major Axis [au]',\n",
    " 'Eccentricity', 'Equilibrium Temperature [K]', 'Insolation Flux [Earth Flux]']\n",
    "```\n",
    "\n",
    "and that `planets_rows` has **1508** rows of which the **first three** are:\n",
    "\n",
    "```python\n",
    "[['11 Com b', 'Radial Velocity', '2007', '0', '326.03', '12.1', '6165.6', '1.29', '0.231', '', ''],\n",
    " ['11 UMi b', 'Radial Velocity', '2009', '0', '516.21997', '12.3', '4684.8142', '1.53', '0.08', '', ''],\n",
    " ['14 And b', 'Radial Velocity', '2008', '0', '185.84', '12.9', '1525.5', '0.83', '0', '', '']]\n",
    "```"
   ]
  },
  {
   "cell_type": "markdown",
   "id": "02946505",
   "metadata": {
    "deletable": false,
    "editable": false
   },
   "source": [
    "Now, you are ready to read the data in `mapping_1.json`. Since this is a JSON file, you will need to copy/paste the `read_json` function lab-p10, and use it to read the file."
   ]
  },
  {
   "cell_type": "code",
   "execution_count": 170,
   "id": "6badd534",
   "metadata": {
    "tags": []
   },
   "outputs": [],
   "source": [
    "# copy & paste the read_json file from lab-p10\n",
    "def read_json(path):\n",
    "    with open(path, encoding=\"utf-8\") as f:\n",
    "        return json.load(f)"
   ]
  },
  {
   "cell_type": "code",
   "execution_count": 171,
   "id": "c5dad7de",
   "metadata": {
    "tags": []
   },
   "outputs": [],
   "source": [
    "# now use the read_json function to read 'mapping_1.json'\n",
    "\n",
    "mapping_1_json = read_json(os.path.join(\"data\",\"mapping_1.json\"))\n",
    "# mapping_1_json"
   ]
  },
  {
   "cell_type": "markdown",
   "id": "d1fb3b33",
   "metadata": {
    "deletable": false,
    "editable": false
   },
   "source": [
    "If you wish to **verify** that you have read the file correctly, you can check that `mapping_1_json` has the value:\n",
    "\n",
    "```python\n",
    "{'11 Com b': '11 Com',\n",
    " '11 UMi b': '11 UMi',\n",
    " '14 And b': '14 And',\n",
    " ...\n",
    " }\n",
    "```\n",
    "\n",
    "Now that we have read `planets_1.csv` and `mapping_1.json`, we are now ready to combine these two files to create `Planet` objects."
   ]
  },
  {
   "cell_type": "markdown",
   "id": "2559eabd",
   "metadata": {
    "deletable": false,
    "editable": false
   },
   "source": [
    "### Function 3: `planet_cell(row_idx, col_name, planets_rows, header=planets_header)`\n",
    "\n",
    "This function **must** read the **list** of **lists** `planets_rows`, and extract the value at **row** index `row_idx` and **column** index `col_idx`. The function **must** typecast the value based on `col_name`. If the value in `stars_rows` is **missing** (i.e., it is `''`), then the value returned **must** be `None`.\n",
    "\n",
    "The **column** of `planets_rows` where the value should be obtained from, and the correct **data type** for the value are listed in the table below:\n",
    "\n",
    "|Column of `planets_rows`|Data Type|\n",
    "|------|---------|\n",
    "|Planet Name|**string**|\n",
    "|Discovery Year|**int**|\n",
    "|Discovery Method|**string**|\n",
    "|Controversial Flag|**bool**|\n",
    "|Orbital Period [days]|**float**|\n",
    "|Planet Radius [Earth Radius]|**float**|\n",
    "|Planet Mass [Earth Mass]|**float**|\n",
    "|Orbit Semi-Major Axis [au]|**float**|\n",
    "|Eccentricity|**float**|\n",
    "|Equilibrium Temperature [K]|**float**|\n",
    "|Insolation Flux [Earth Flux]|**float**|\n",
    "\n",
    "**Important Hint:** While computing the value of the attribute `controversial_flag`, note that the `Controversial Flag` column of `planets_1.csv` represents `True` with `'1'` and `False` with `'0'`. You **must** be careful with typecasting **strings** to **booleans**."
   ]
  },
  {
   "cell_type": "code",
   "execution_count": 172,
   "id": "cfef28f6",
   "metadata": {
    "tags": []
   },
   "outputs": [],
   "source": [
    "# copy/paste the function 'planet_cell' from lab-p10 here\n",
    "def planet_cell(row_idx, col_name, planets_rows, header=planets_header):\n",
    "    col_idx = header.index(col_name)# extract col_idx from col_name and header\n",
    "    val = planets_rows[row_idx][col_idx] # extract the value at row_idx and col_idx\n",
    "    if val == '':\n",
    "        return None\n",
    "    elif col_name in [\"Controversial Flag\"]:\n",
    "        if val == \"1\":\n",
    "            return True\n",
    "        else:\n",
    "            return False\n",
    "    elif col_name in [\"Planet Name\",\"Discovery Method\"]:\n",
    "        return val\n",
    "    elif col_name in [\"Discovery Year\"]:\n",
    "        return int(val)\n",
    "    else:\n",
    "        return float(val)"
   ]
  },
  {
   "cell_type": "markdown",
   "id": "017f11c9",
   "metadata": {
    "deletable": false,
    "editable": false
   },
   "source": [
    "**Question 12:** Create a `Planet` object for the **fifth** planet in the `planets_1.csv` file.\n",
    "\n",
    "You **must** access the values in `planets_1.csv` using the `planet_cell` function. Note that the ninth star would be at **index** 4.\n",
    "\n",
    "The **attribute** of the `Planet` namedtuple object, the corresponding **column** of the `planets_1.csv` file where the value should be obtained from, and the correct **data type** for the value are listed in the table below:\n",
    "\n",
    "|Attribute of `Planet` object|Column of `planets_1.csv`|Data Type|\n",
    "|---------|------|---------|\n",
    "|`planet_name`|Planet Name|**string**|\n",
    "|`host_name`| - |**string**|\n",
    "|`discovery_method`|Discovery Method|**string**|\n",
    "|`discovery_year`|Discovery Year|**int**|\n",
    "|`controversial_flag`|Controversial Flag|**bool**|\n",
    "|`orbital_period`|Orbital Period [days]|**float**|\n",
    "|`planet_radius`|Planet Radius [Earth Radius]|**float**|\n",
    "|`planet_mass`|Planet Mass [Earth Mass]|**float**|\n",
    "|`semi_major_radius`|Orbit Semi-Major Axis [au]|**float**|\n",
    "|`eccentricity`|Eccentricity|**float**|\n",
    "|`equilibrium_temperature`|Equilibrium Temperature [K]|**float**|\n",
    "|`insolation_flux`|Insolation Flux [Earth Flux]|**float**|\n",
    "\n",
    "\n",
    "The value of the `host_name` attribute is found in `mapping_1.json`."
   ]
  },
  {
   "cell_type": "code",
   "execution_count": 173,
   "id": "5d8625e1",
   "metadata": {
    "tags": []
   },
   "outputs": [
    {
     "data": {
      "text/plain": [
       "Planet(planet_name='17 Sco b', host_name='17 Sco', discovery_method='Radial Velocity', discovery_year=2020, controversial_flag=False, orbital_period=578.38, planet_radius=12.9, planet_mass=1373.01872, semi_major_radius=1.45, eccentricity=0.06, equilibrium_temperature=None, insolation_flux=None)"
      ]
     },
     "execution_count": 173,
     "metadata": {},
     "output_type": "execute_result"
    }
   ],
   "source": [
    "# compute and store the answer in the variable 'fifth_planet', then display it]\n",
    "row_idx=4\n",
    "\n",
    "planet_name = planet_cell(row_idx, 'Planet Name', planets_rows)\n",
    "host_name = mapping_1_json[planet_name]\n",
    "discovery_method = planet_cell(row_idx, 'Discovery Method', planets_rows)\n",
    "discovery_year = planet_cell(row_idx, 'Discovery Year', planets_rows)\n",
    "controversial_flag = planet_cell(row_idx, 'Controversial Flag', planets_rows)\n",
    "orbital_period = planet_cell(row_idx, 'Orbital Period [days]', planets_rows)\n",
    "planet_radius = planet_cell(row_idx, 'Planet Radius [Earth Radius]', planets_rows)\n",
    "planet_mass = planet_cell(row_idx, 'Planet Mass [Earth Mass]', planets_rows)\n",
    "semi_major_radius = planet_cell(row_idx, 'Orbit Semi-Major Axis [au]', planets_rows)\n",
    "eccentricity = planet_cell(row_idx, 'Eccentricity', planets_rows)\n",
    "equilibrium_temperature = planet_cell(row_idx, 'Equilibrium Temperature [K]', planets_rows)\n",
    "insolation_flux = planet_cell(row_idx, 'Insolation Flux [Earth Flux]', planets_rows) \n",
    "\n",
    "fifth_planet=Planet(planet_name, host_name, discovery_method, discovery_year,\\\n",
    "                  controversial_flag, orbital_period, planet_radius, planet_mass,\\\n",
    "                  semi_major_radius, eccentricity, equilibrium_temperature, insolation_flux)\n",
    "\n",
    "fifth_planet"
   ]
  },
  {
   "cell_type": "code",
   "execution_count": 174,
   "id": "91817571",
   "metadata": {
    "deletable": false,
    "editable": false
   },
   "outputs": [
    {
     "data": {
      "text/html": [
       "<p><strong><pre style='display: inline;'>q12</pre></strong> passed!</p>"
      ],
      "text/plain": [
       "q12 results: All test cases passed!"
      ]
     },
     "execution_count": 174,
     "metadata": {},
     "output_type": "execute_result"
    }
   ],
   "source": [
    "grader.check(\"q12\")"
   ]
  },
  {
   "cell_type": "markdown",
   "id": "435565ea",
   "metadata": {
    "deletable": false,
    "editable": false
   },
   "source": [
    "### Function 4: `get_planets(planet_file, mapping_file)`: \n",
    "\n",
    "This function **must** take in as its input, a CSV file `planet_file` which contains data on planets in the same format as `planets_1.csv`, as well as a JSON file `mapping_file` which maps planets in `planet_file` to their host star in the same format as `mapping_1.json`. This function **must** return a **list** of `Planet` objects by combining the data in these two files. The `Planet` objects **must** appear in the same order as they do in `planet_file`.\n",
    "\n",
    "You **must** access the values in `planets_1.csv` using the `planet_cell` function.\n",
    "\n",
    "Once again, as a reminder, the attributes of the `Planet` objects should be obtained from the **rows** of `planet_file` and from `mapping_file` and stored as follows:\n",
    "\n",
    "|Attribute of `Planet` object|Column of `planets_1.csv`|Data Type|\n",
    "|---------|------|---------|\n",
    "|`planet_name`|Planet Name|**string**|\n",
    "|`host_name`| - |**string**|\n",
    "|`discovery_method`|Discovery Method|**string**|\n",
    "|`discovery_year`|Discovery Year|**int**|\n",
    "|`controversial_flag`|Controversial Flag|**bool**|\n",
    "|`orbital_period`|Orbital Period [days]|**float**|\n",
    "|`planet_radius`|Planet Radius [Earth Radius]|**float**|\n",
    "|`planet_mass`|Planet Mass [Earth Mass]|**float**|\n",
    "|`semi_major_radius`|Orbit Semi-Major Axis [au]|**float**|\n",
    "|`eccentricity`|Eccentricity|**float**|\n",
    "|`equilibrium_temperature`|Equilibrium Temperature [K]|**float**|\n",
    "|`insolation_flux`|Insolation Flux [Earth Flux]|**float**|\n",
    "\n",
    "The value of the `host_name` attribute is found in `mapping_file`.\n",
    "\n",
    "In case any data in `planet_file` is **missing**, the corresponding value should be `None`.\n",
    "\n",
    "For example, when this function is called with the file `planets_1.csv` and `mapping_1.json` as the input, the **list** returned should look like:\n",
    "\n",
    "```python\n",
    "[\n",
    "    Planet(planet_name='11 Com b', host_name='11 Com', discovery_method='Radial Velocity', \n",
    "           discovery_year=2007, controversial_flag=False, orbital_period=326.03, \n",
    "           planet_radius=12.1, planet_mass=6165.6, semi_major_radius=1.29, \n",
    "           eccentricity=0.231, equilibrium_temperature=None, insolation_flux=None),\n",
    "    Planet(planet_name='11 UMi b', host_name='11 UMi', discovery_method='Radial Velocity', \n",
    "           discovery_year=2009, controversial_flag=False, orbital_period=516.21997, \n",
    "           planet_radius=12.3, planet_mass=4684.8142, semi_major_radius=1.53, \n",
    "           eccentricity=0.08, equilibrium_temperature=None, insolation_flux=None),\n",
    "    Planet(planet_name='14 And b', host_name='14 And', discovery_method='Radial Velocity', \n",
    "           discovery_year=2008, controversial_flag=False, orbital_period=185.84, \n",
    "           planet_radius=12.9, planet_mass=1525.5, semi_major_radius=0.83, \n",
    "           eccentricity=0.0, equilibrium_temperature=None, insolation_flux=None),\n",
    "    ...\n",
    "]\n",
    "```"
   ]
  },
  {
   "cell_type": "code",
   "execution_count": 175,
   "id": "122cecf4",
   "metadata": {
    "lines_to_next_cell": 0,
    "tags": []
   },
   "outputs": [],
   "source": [
    "def get_planets(planet_file, mapping_file):\n",
    "\n",
    "    pl=[]\n",
    "    try:\n",
    "        mapping4=read_json(os.path.join(\"data\",mapping_file))\n",
    "\n",
    "        pfall=process_csv(os.path.join(\"data\",planet_file))\n",
    "        pf=pfall[1:]\n",
    "    \n",
    "    # except(FileExistsError,FileNotFoundError):\n",
    "    #     return None\n",
    "    except(json.decoder.JSONDecodeError):\n",
    "        return []\n",
    "        \n",
    "    for i in range (len(pf)):\n",
    "            try:\n",
    "                row_idx=i\n",
    "                planet_name = planet_cell(row_idx, 'Planet Name', pf)\n",
    "                # print(planet_name)\n",
    "                host_name = mapping4[planet_name]\n",
    "                discovery_method = planet_cell(row_idx, 'Discovery Method', pf)\n",
    "                discovery_year = planet_cell(row_idx, 'Discovery Year', pf)\n",
    "                controversial_flag = planet_cell(row_idx, 'Controversial Flag', pf)\n",
    "                orbital_period = planet_cell(row_idx, 'Orbital Period [days]', pf)\n",
    "                planet_radius = planet_cell(row_idx, 'Planet Radius [Earth Radius]', pf)\n",
    "                planet_mass = planet_cell(row_idx, 'Planet Mass [Earth Mass]', pf)\n",
    "                semi_major_radius = planet_cell(row_idx, 'Orbit Semi-Major Axis [au]', pf)\n",
    "                eccentricity = planet_cell(row_idx, 'Eccentricity', pf)\n",
    "                equilibrium_temperature = planet_cell(row_idx, 'Equilibrium Temperature [K]', pf)\n",
    "                insolation_flux = planet_cell(row_idx, 'Insolation Flux [Earth Flux]', pf) \n",
    "                \n",
    "                thisplanet=Planet(planet_name, host_name, discovery_method, discovery_year,\\\n",
    "                        controversial_flag, orbital_period, planet_radius, planet_mass,\\\n",
    "                        semi_major_radius, eccentricity, equilibrium_temperature, insolation_flux)\n",
    "                \n",
    "                pl.append(thisplanet)\n",
    "\n",
    "            except(IndexError,ValueError,KeyError) as e:\n",
    "                continue\n",
    "\n",
    "            \n",
    "    return pl\n",
    "\n",
    "    \n",
    "\n",
    "    '''\n",
    "    TODO: read planet_file to a list of lists\n",
    "    TODO: extract the header and rows from planet_file\n",
    "    TODO: read mapping_file to a dictionary\n",
    "    TODO: loop through each row in planet_file\n",
    "    TODO: create a Planet object (namedTuple) for each row\n",
    "    TODO: add each Planet objet to a list\n",
    "    TODO: return the list at the end of the loop\n",
    "    '''\n",
    "    "
   ]
  },
  {
   "cell_type": "markdown",
   "id": "e4fbcc97",
   "metadata": {
    "deletable": false,
    "editable": false
   },
   "source": [
    "**Question 13:** What are the **last five** `Planet` objects in the **list** returned by `get_planets` when `planet_file` is `planets_1.csv` and `mapping_file` is `mapping_1.json`?\n",
    "\n",
    "Your output **must** be a **list** of `Planet` objects.\n",
    "\n",
    "**Hint:** First, you **must** use the `get_planets` function to parse the data in `planets_1.csv` and `mapping_1.json` and create a **list** of `Planet` objects. Then, you may slice this **list** to get the last five `Planet` objects."
   ]
  },
  {
   "cell_type": "code",
   "execution_count": 176,
   "id": "15b69054",
   "metadata": {
    "tags": []
   },
   "outputs": [
    {
     "data": {
      "text/plain": [
       "[Planet(planet_name='Kepler-1467 b', host_name='Kepler-1467', discovery_method='Transit', discovery_year=2016, controversial_flag=False, orbital_period=47.0569043, planet_radius=3.3, planet_mass=10.9, semi_major_radius=0.2388, eccentricity=0.0, equilibrium_temperature=411.0, insolation_flux=7.92),\n",
       " Planet(planet_name='Kepler-1469 b', host_name='Kepler-1469', discovery_method='Transit', discovery_year=2016, controversial_flag=False, orbital_period=21.8635301, planet_radius=2.8, planet_mass=8.25, semi_major_radius=0.1466, eccentricity=0.0, equilibrium_temperature=551.0, insolation_flux=24.9),\n",
       " Planet(planet_name='Kepler-1470 b', host_name='Kepler-1470', discovery_method='Transit', discovery_year=2016, controversial_flag=False, orbital_period=16.2950903, planet_radius=1.07, planet_mass=1.24, semi_major_radius=0.116, eccentricity=0.0, equilibrium_temperature=574.0, insolation_flux=23.92),\n",
       " Planet(planet_name='Kepler-1471 b', host_name='Kepler-1471', discovery_method='Transit', discovery_year=2016, controversial_flag=False, orbital_period=3.63899398, planet_radius=1.41, planet_mass=2.57, semi_major_radius=0.0453, eccentricity=0.0, equilibrium_temperature=1238.0, insolation_flux=314.23),\n",
       " Planet(planet_name='Kepler-1472 b', host_name='Kepler-1472', discovery_method='Transit', discovery_year=2016, controversial_flag=False, orbital_period=38.1312831, planet_radius=1.9, planet_mass=4.27, semi_major_radius=0.2322, eccentricity=0.0, equilibrium_temperature=613.0, insolation_flux=57.08)]"
      ]
     },
     "execution_count": 176,
     "metadata": {},
     "output_type": "execute_result"
    }
   ],
   "source": [
    "# compute and store the answer in the variable 'last_five_planets_1', then display it\n",
    "last_five_planets_1=get_planets(\"planets_1.csv\",\"mapping_1.json\")[-5:]\n",
    "last_five_planets_1"
   ]
  },
  {
   "cell_type": "code",
   "execution_count": 177,
   "id": "8d99d276",
   "metadata": {
    "deletable": false,
    "editable": false
   },
   "outputs": [
    {
     "data": {
      "text/html": [
       "<p><strong><pre style='display: inline;'>q13</pre></strong> passed!</p>"
      ],
      "text/plain": [
       "q13 results: All test cases passed!"
      ]
     },
     "execution_count": 177,
     "metadata": {},
     "output_type": "execute_result"
    }
   ],
   "source": [
    "grader.check(\"q13\")"
   ]
  },
  {
   "cell_type": "markdown",
   "id": "ccba9efc",
   "metadata": {
    "deletable": false,
    "editable": false
   },
   "source": [
    "**Question 14:** What are the `Planet` objects whose `controversial_flag` attribute is `True` in the **list** returned by `get_planets` when `planet_file` is `planets_2.csv` and `mapping_file` is `mapping_2.json`?\n",
    "\n",
    "Your output **must** be a **list** of `Planet` objects."
   ]
  },
  {
   "cell_type": "code",
   "execution_count": 178,
   "id": "d988296d",
   "metadata": {
    "lines_to_next_cell": 0,
    "tags": []
   },
   "outputs": [
    {
     "data": {
      "text/plain": [
       "[Planet(planet_name='Kepler-452 b', host_name='Kepler-452', discovery_method='Transit', discovery_year=2015, controversial_flag=True, orbital_period=384.843, planet_radius=1.63, planet_mass=3.29, semi_major_radius=1.046, eccentricity=0.0, equilibrium_temperature=265.0, insolation_flux=1.1),\n",
       " Planet(planet_name='Kepler-747 b', host_name='Kepler-747', discovery_method='Transit', discovery_year=2016, controversial_flag=True, orbital_period=35.61760587, planet_radius=5.27, planet_mass=24.1, semi_major_radius=0.1916, eccentricity=0.0, equilibrium_temperature=456.0, insolation_flux=10.19),\n",
       " Planet(planet_name='V830 Tau b', host_name='V830 Tau', discovery_method='Radial Velocity', discovery_year=2016, controversial_flag=True, orbital_period=4.927, planet_radius=14.0, planet_mass=222.481, semi_major_radius=0.057, eccentricity=0.0, equilibrium_temperature=None, insolation_flux=None)]"
      ]
     },
     "execution_count": 178,
     "metadata": {},
     "output_type": "execute_result"
    }
   ],
   "source": [
    "# compute and store the answer in the variable 'controversial_planets', then display it\n",
    "controversial_planets=[]\n",
    "allplanet=get_planets(\"planets_2.csv\",\"mapping_2.json\")\n",
    "for item in allplanet:\n",
    "    if item.controversial_flag==True:\n",
    "        controversial_planets.append(item)\n",
    "controversial_planets\n",
    "    "
   ]
  },
  {
   "cell_type": "code",
   "execution_count": 179,
   "id": "987bf9d7",
   "metadata": {
    "deletable": false,
    "editable": false
   },
   "outputs": [
    {
     "data": {
      "text/html": [
       "<p><strong><pre style='display: inline;'>q14</pre></strong> passed!</p>"
      ],
      "text/plain": [
       "q14 results: All test cases passed!"
      ]
     },
     "execution_count": 179,
     "metadata": {},
     "output_type": "execute_result"
    }
   ],
   "source": [
    "grader.check(\"q14\")"
   ]
  },
  {
   "cell_type": "markdown",
   "id": "3faaf6aa",
   "metadata": {
    "deletable": false,
    "editable": false
   },
   "source": [
    "### Data Cleaning 1: broken CSV rows\n",
    "\n",
    "Our function `get_planets` works very well so far. However, it is likely that it will not work on all the files in the `data` directory. For example, if you use the function `get_planets` to read the data in `planets_4.csv` and `mapping_4.json`, you will most likely run into an error. **Try it yourself to verify!**\n",
    "\n",
    "The reason your code likely crashed is because there the file `planets_4.csv` is **broken**. For some reason, several rows in `planets_4.csv` have their data jumbled up. For example, in the **566**th row of `planets_4.csv`, we come across this row:\n",
    "\n",
    "|Planet Name|Discovery Method|Discovery Year|Controversial Flag|Orbital Period [days]|Planet Radius [Earth Radius]|Planet Mass [Earth Mass]|Orbit Semi-Major Axis [au]|Eccentricity|Equilibrium Temperature [K]|Insolation Flux [Earth Flux]|\n",
    "|-----------|----------------|--------------|------------------|---------------------|----------------------------|------------------------|---------------------------|------------|---------------------------|----------------------------|\n",
    "|pi Men c|pi Men|Transit|2018|0|6.26790772|2.060|3.63000|0.068647|0.076939|1170|\n",
    "\n",
    "We can see that for some reason, the value under the column `Discovery Method` is the name of the planet's host star. This causes the value under the column `Discovery Year` to be a **string** instead of a number.\n",
    "\n",
    "We will call such a **row** in a CSV file where the values under a column do not match the expected format to be a **broken row**. While it is possible to sometimes extract useful data from broken rows, in this project, we will simply **skip** broken rows.\n",
    "\n",
    "You **must** now go back to your definition of `get_planets` and edit it, so that any **broken rows get skipped**.\n",
    "\n",
    "**Hints:**\n",
    "\n",
    "1. The simplest way to recognize if a row is broken is if you run into any **RunTime Errors** when you call the `get_planets` function. So, one simple way to skip bad rows would be to use `try/except` blocks to avoid processing any rows that cause the code to crash; remember **not** to use *bare* `try/except` blocks.\n",
    "2. There are **several different kinds** of errors that you can expect to find when you try to parse `planets_4.csv`. You should **explicitly** handle each of these errors using `try/except` blocks.\n",
    "3. There are only **5** broken rows in `planets_4.csv`, and they are all bunched up at the very end. You can manually **inspect** these rows, and figure out why these rows are broken.\n",
    "\n",
    "**Important Warning:** You are **not** allowed to **hardcode** the indices of the broken rows. You may inspect `planets_4.csv` to identify how to tell a **broken row** apart. Therefore, to use the example of the **broken row** above, you **may not** hardcode to skip the **566**th row of `planets_4.csv`. However, it is **acceptable** to make your function **skip** any row for which the value under the `Discovery Year` is not numeric, by observing that this is the reason why the row is broken."
   ]
  },
  {
   "cell_type": "markdown",
   "id": "3ebd0c80",
   "metadata": {
    "deletable": false,
    "editable": false
   },
   "source": [
    "**Question 15:** What are the **last five** `Planet` objects produced by `get_planets` when `planet_file` is `planets_4.csv` and `mapping_file` is `mapping_4.json`?\n",
    "\n",
    "Your output **must** be a **list** of `Planet` objects."
   ]
  },
  {
   "cell_type": "code",
   "execution_count": 180,
   "id": "0be6239b",
   "metadata": {
    "lines_to_next_cell": 0,
    "tags": []
   },
   "outputs": [
    {
     "data": {
      "text/plain": [
       "[Planet(planet_name='Wolf 1061 c', host_name='Wolf 1061', discovery_method='Radial Velocity', discovery_year=2015, controversial_flag=False, orbital_period=17.8719, planet_radius=1.66, planet_mass=3.41, semi_major_radius=0.089, eccentricity=0.11, equilibrium_temperature=None, insolation_flux=1.3),\n",
       " Planet(planet_name='Wolf 1061 d', host_name='Wolf 1061', discovery_method='Radial Velocity', discovery_year=2015, controversial_flag=False, orbital_period=217.21, planet_radius=2.69, planet_mass=7.7, semi_major_radius=0.47, eccentricity=0.55, equilibrium_temperature=None, insolation_flux=0.06),\n",
       " Planet(planet_name='YZ Cet b', host_name='YZ Cet', discovery_method='Radial Velocity', discovery_year=2017, controversial_flag=False, orbital_period=2.02087, planet_radius=0.913, planet_mass=0.7, semi_major_radius=0.01634, eccentricity=0.06, equilibrium_temperature=471.0, insolation_flux=8.21),\n",
       " Planet(planet_name='YZ Cet c', host_name='YZ Cet', discovery_method='Radial Velocity', discovery_year=2017, controversial_flag=False, orbital_period=3.05989, planet_radius=1.05, planet_mass=1.14, semi_major_radius=0.02156, eccentricity=0.0, equilibrium_temperature=410.0, insolation_flux=4.72),\n",
       " Planet(planet_name='YZ Cet d', host_name='YZ Cet', discovery_method='Radial Velocity', discovery_year=2017, controversial_flag=False, orbital_period=4.65626, planet_radius=1.03, planet_mass=1.09, semi_major_radius=0.02851, eccentricity=0.07, equilibrium_temperature=357.0, insolation_flux=2.7)]"
      ]
     },
     "execution_count": 180,
     "metadata": {},
     "output_type": "execute_result"
    }
   ],
   "source": [
    "# compute and store the answer in the variable 'last_five_planets_4', then display it\n",
    "last_five_planets_4=get_planets(\"planets_4.csv\",\"mapping_4.json\")[-5:]\n",
    "last_five_planets_4"
   ]
  },
  {
   "cell_type": "code",
   "execution_count": 181,
   "id": "7bb8823b",
   "metadata": {
    "deletable": false,
    "editable": false
   },
   "outputs": [
    {
     "data": {
      "text/html": [
       "<p><strong><pre style='display: inline;'>q15</pre></strong> passed!</p>"
      ],
      "text/plain": [
       "q15 results: All test cases passed!"
      ]
     },
     "execution_count": 181,
     "metadata": {},
     "output_type": "execute_result"
    }
   ],
   "source": [
    "grader.check(\"q15\")"
   ]
  },
  {
   "cell_type": "code",
   "execution_count": 182,
   "id": "ccdab85f",
   "metadata": {},
   "outputs": [],
   "source": [
    "# PERSONAL TEST ONLY, DONT GRADE.\n",
    "# try:\n",
    "#     print(read_json(\"data\\\\mapping_5.json\"))\n",
    "# except (json.decoder.JSONDecodeError) as e:\n",
    "#     # if e == JSONDecodeError:\n",
    "#     print(\"OK\")"
   ]
  },
  {
   "cell_type": "markdown",
   "id": "aa7b37d4",
   "metadata": {
    "deletable": false,
    "editable": false
   },
   "source": [
    "### Data Cleaning 2: broken JSON files\n",
    "\n",
    "We are now ready to read **all** the files in the `data` directory and create a **list** of `Planet` objects for all the planets in the directory. However, if you try to use `get_planets` on all the planet CSV files and mapping JSON files, you will likely run into another error. **Try it for yourself by calling `get_planets` on all the files in `data`!**\n",
    "\n",
    "It is likely that your code crashed when you tried to read the data in `planets_5.csv` and `mapping_5.json`. This is because the file `mapping_5.json` is **broken**. Unlike **broken** CSV files, where we only had to skip the **broken rows**, it is much harder to parse **broken JSON files**. When a JSON file is **broken**, we often have no choice but to **skip the file entirely**.\n",
    "\n",
    "You **must** now go back to your definition of `get_planets` and edit it, so that if the JSON file is **broken**, then the file is completely skipped, and only an **empty list** is returned.\n",
    "\n",
    "**Important Warning:** You are **not** allowed to **hardcode** the name of the files to be skipped. You **must** use `try/except` blocks to determine whether the JSON file is **broken** and skip the file if it is. Remmeber **not** to use *bare* `try/except` blocks.\n",
    "\n",
    "**Hint:** Your resulting function will need to have **two** separate `try/except blocks` - one for handling broken CSV rows and one for handling the broken JSON files."
   ]
  },
  {
   "cell_type": "markdown",
   "id": "70413fa1",
   "metadata": {
    "deletable": false,
    "editable": false
   },
   "source": [
    "### Data Structure 4: `planets_list`\n",
    "\n",
    "You are now ready to read all the data about the planets stored in the `data` directory. You **must** now create a **list** containing `Planet` objects by parsing the data inside the files `planets_1.csv`, ..., `planets_5.csv` and `mapping_1.json`, ..., `mapping_5.json`.\n",
    "\n",
    "You **must** skip any **broken rows** in the CSV file, and also completely skip any **broken JSON files**. However, you are **not** allowed to **hardcode** the file you need to skip. You **must** call `get_planets` on **all** 5 pairs of files to answer this question.\n",
    "\n",
    "You **must** use the `get_planets` function on each of the five pairs of files in the `data` directory to create `planets_list`.\n",
    "\n",
    "**Hint:** Recall that you have already created the variable `json_file_paths` in q3. You can similarly create a list of paths of the files that start with `\"planets\"` (see q4 for a similar question). After sorting the paths in these **lists**,  you just need to loop through the indices of these two lists, and use that to extract the pairs of paths from these two lists."
   ]
  },
  {
   "cell_type": "code",
   "execution_count": 183,
   "id": "99bfdf1b",
   "metadata": {
    "tags": []
   },
   "outputs": [
    {
     "data": {
      "text/plain": [
       "4724"
      ]
     },
     "execution_count": 183,
     "metadata": {},
     "output_type": "execute_result"
    }
   ],
   "source": [
    "# define the variable 'planets_list' here,\n",
    "# but do NOT display the variable at the end\n",
    "a=os.path.join(\"0\",\"\")\n",
    "planet_paths=[]\n",
    "for item in file_paths:\n",
    "    iteml=item.split(a[1:])\n",
    "    if iteml[1][:6]==\"planet\":\n",
    "        planet_paths.append(item)\n",
    "\n",
    "temptestpath=os.path.join(\"data\",\"\")\n",
    "len(temptestpath)\n",
    "\n",
    "planets_list=[]\n",
    "for index in range(5):\n",
    "    # print(index, planet_paths[index],json_file_paths[index])\n",
    "    planets_list.extend(get_planets(os.path.basename(planet_paths[index]),os.path.basename(json_file_paths[index])))\n",
    "\n",
    "# planets_list\n",
    "# len(planets_list)"
   ]
  },
  {
   "cell_type": "markdown",
   "id": "1265fad1",
   "metadata": {
    "deletable": false,
    "editable": false
   },
   "source": [
    "If you wish to **verify** that you have read the files and defined `planets_list` correctly, you can check that `planets_list` has **4724** `Planet` objects in it."
   ]
  },
  {
   "cell_type": "markdown",
   "id": "a49a9206",
   "metadata": {
    "deletable": false,
    "editable": false
   },
   "source": [
    "**Question 16:** What is the output of `planets_list[4520:4525]`?\n",
    "\n",
    "Your output **must** be a **list** of `Planet` objects."
   ]
  },
  {
   "cell_type": "code",
   "execution_count": 184,
   "id": "ecf9f329",
   "metadata": {
    "lines_to_next_cell": 0,
    "tags": []
   },
   "outputs": [
    {
     "data": {
      "text/plain": [
       "[Planet(planet_name='Kepler-295 b', host_name='Kepler-295', discovery_method='Transit', discovery_year=2014, controversial_flag=False, orbital_period=12.645164, planet_radius=1.22, planet_mass=1.98, semi_major_radius=0.099, eccentricity=0.0, equilibrium_temperature=741.0, insolation_flux=391.01),\n",
       " Planet(planet_name='Kepler-295 c', host_name='Kepler-295', discovery_method='Transit', discovery_year=2014, controversial_flag=False, orbital_period=21.526258, planet_radius=1.17, planet_mass=1.71, semi_major_radius=0.142, eccentricity=0.0, equilibrium_temperature=621.0, insolation_flux=192.14),\n",
       " Planet(planet_name='Kepler-295 d', host_name='Kepler-295', discovery_method='Transit', discovery_year=2014, controversial_flag=False, orbital_period=33.884054, planet_radius=1.36, planet_mass=2.42, semi_major_radius=0.192, eccentricity=0.0, equilibrium_temperature=533.0, insolation_flux=104.96),\n",
       " Planet(planet_name='Kepler-298 b', host_name='Kepler-298', discovery_method='Transit', discovery_year=2014, controversial_flag=False, orbital_period=10.475464, planet_radius=1.96, planet_mass=4.5, semi_major_radius=0.08, eccentricity=0.0, equilibrium_temperature=540.0, insolation_flux=24.71),\n",
       " Planet(planet_name='Kepler-298 c', host_name='Kepler-298', discovery_method='Transit', discovery_year=2014, controversial_flag=False, orbital_period=22.92881, planet_radius=1.93, planet_mass=4.38, semi_major_radius=0.136, eccentricity=0.0, equilibrium_temperature=416.0, insolation_flux=8.7)]"
      ]
     },
     "execution_count": 184,
     "metadata": {},
     "output_type": "execute_result"
    }
   ],
   "source": [
    "# compute and store the answer in the variable 'planets_4520_4525', then display it\n",
    "planets_4520_4525=planets_list[4520:4525]\n",
    "planets_4520_4525"
   ]
  },
  {
   "cell_type": "code",
   "execution_count": 185,
   "id": "bbf63953",
   "metadata": {
    "deletable": false,
    "editable": false
   },
   "outputs": [
    {
     "data": {
      "text/html": [
       "<p><strong><pre style='display: inline;'>q16</pre></strong> passed!</p>"
      ],
      "text/plain": [
       "q16 results: All test cases passed!"
      ]
     },
     "execution_count": 185,
     "metadata": {},
     "output_type": "execute_result"
    }
   ],
   "source": [
    "grader.check(\"q16\")"
   ]
  },
  {
   "cell_type": "markdown",
   "id": "bf453b2d",
   "metadata": {
    "deletable": false,
    "editable": false
   },
   "source": [
    "**Question 17:** How many planets in `planets_list` were discovered in the year *2022*?\n",
    "\n",
    "Your output **must** be an **integer**."
   ]
  },
  {
   "cell_type": "code",
   "execution_count": 186,
   "id": "72bf6343",
   "metadata": {
    "lines_to_next_cell": 0,
    "tags": []
   },
   "outputs": [
    {
     "data": {
      "text/plain": [
       "264"
      ]
     },
     "execution_count": 186,
     "metadata": {},
     "output_type": "execute_result"
    }
   ],
   "source": [
    "# compute and store the answer in the variable 'planets_disc_2022', then display it\n",
    "planets_disc_2022=0\n",
    "for item in planets_list:\n",
    "    if item.discovery_year==2022:\n",
    "        planets_disc_2022+=1\n",
    "planets_disc_2022"
   ]
  },
  {
   "cell_type": "code",
   "execution_count": 187,
   "id": "6ecf7524",
   "metadata": {
    "deletable": false,
    "editable": false
   },
   "outputs": [
    {
     "data": {
      "text/html": [
       "<p><strong><pre style='display: inline;'>q17</pre></strong> passed!</p>"
      ],
      "text/plain": [
       "q17 results: All test cases passed!"
      ]
     },
     "execution_count": 187,
     "metadata": {},
     "output_type": "execute_result"
    }
   ],
   "source": [
    "grader.check(\"q17\")"
   ]
  },
  {
   "cell_type": "markdown",
   "id": "279cd43c",
   "metadata": {
    "deletable": false,
    "editable": false
   },
   "source": [
    "**Question 18**: Find the `Star` object around which the `Planet` named *TOI-2202 c* orbits.\n",
    "\n",
    "Your output **must** be a a `Star` object.\n",
    "\n",
    "**Hint:** You **must** first find the `Planet` object with the `planet_name` *TOI-2202 c* and then use the `host_name` attribute to identify the name of the star aroud which the planet orbits. Then, you can get the `Star` object using the `stars_dict` **dictionary** defined above."
   ]
  },
  {
   "cell_type": "code",
   "execution_count": 188,
   "id": "875e2030",
   "metadata": {
    "lines_to_next_cell": 0,
    "tags": []
   },
   "outputs": [
    {
     "data": {
      "text/plain": [
       "Star(spectral_type='K8 V', stellar_effective_temperature=5144.0, stellar_radius=0.79, stellar_mass=0.82, stellar_luminosity=-0.401, stellar_surface_gravity=4.55, stellar_age=7.48)"
      ]
     },
     "execution_count": 188,
     "metadata": {},
     "output_type": "execute_result"
    }
   ],
   "source": [
    "# compute and store the answer in the variable 'toi_2022_c_star', then display it\n",
    "for item in planets_list:\n",
    "    if item.planet_name==\"TOI-2202 c\":\n",
    "        host18=item.host_name\n",
    "\n",
    "toi_2022_c_star=stars_dict[host18]\n",
    "toi_2022_c_star"
   ]
  },
  {
   "cell_type": "code",
   "execution_count": 189,
   "id": "be624e6a",
   "metadata": {
    "deletable": false,
    "editable": false
   },
   "outputs": [
    {
     "data": {
      "text/html": [
       "<p><strong><pre style='display: inline;'>q18</pre></strong> passed!</p>"
      ],
      "text/plain": [
       "q18 results: All test cases passed!"
      ]
     },
     "execution_count": 189,
     "metadata": {},
     "output_type": "execute_result"
    }
   ],
   "source": [
    "grader.check(\"q18\")"
   ]
  },
  {
   "cell_type": "markdown",
   "id": "60edb1d0",
   "metadata": {
    "deletable": false,
    "editable": false
   },
   "source": [
    "**Question 19:** Find the **average** `planet_radius` (in units of the radius of the Earth) of the planets that orbit stars with `stellar_radius` more than *10* (i.e. more than *10* times the radius of the Sun).\n",
    "\n",
    "Your output **must** be a **float**. You **must** skip any `Planet` objects with **missing** `planet_radius` data and any `Star` objects with **missing** `stellar_radius` data."
   ]
  },
  {
   "cell_type": "code",
   "execution_count": 190,
   "id": "8537ddc6",
   "metadata": {
    "lines_to_next_cell": 0,
    "tags": []
   },
   "outputs": [
    {
     "data": {
      "text/plain": [
       "12.87916666666667"
      ]
     },
     "execution_count": 190,
     "metadata": {},
     "output_type": "execute_result"
    }
   ],
   "source": [
    "# compute and store the answer in the variable 'avg_planet_radius_big_stars', then display it\n",
    "avg_planet_radius_big_stars=0\n",
    "count=0\n",
    "for item in planets_list:\n",
    "    if item.planet_radius==None or stars_dict[item.host_name].stellar_radius==None:\n",
    "        continue\n",
    "    elif stars_dict[item.host_name].stellar_radius>10:\n",
    "        count+=1\n",
    "        avg_planet_radius_big_stars+=item.planet_radius\n",
    "\n",
    "avg_planet_radius_big_stars/=count\n",
    "avg_planet_radius_big_stars"
   ]
  },
  {
   "cell_type": "code",
   "execution_count": 191,
   "id": "74dc49fe",
   "metadata": {
    "deletable": false,
    "editable": false
   },
   "outputs": [
    {
     "data": {
      "text/html": [
       "<p><strong><pre style='display: inline;'>q19</pre></strong> passed!</p>"
      ],
      "text/plain": [
       "q19 results: All test cases passed!"
      ]
     },
     "execution_count": 191,
     "metadata": {},
     "output_type": "execute_result"
    }
   ],
   "source": [
    "grader.check(\"q19\")"
   ]
  },
  {
   "cell_type": "markdown",
   "id": "529b9294",
   "metadata": {
    "deletable": false,
    "editable": false
   },
   "source": [
    "**Question 20**: Find all the `Planet` objects that orbit the **youngest** `Star` object.\n",
    "\n",
    "Your output **must** be a **list** of `Planet` objects (even if there is **only one** `Planet` in the list). The age of a `Star` can be found from its `stellar_age` column. You **must** skip any stars with **missing** `stellar_age` data. You do **not** have to worry about any ties. There is a **unique** `Star` in the dataset which is the youngest star."
   ]
  },
  {
   "cell_type": "code",
   "execution_count": 192,
   "id": "2374fc95",
   "metadata": {
    "lines_to_next_cell": 0,
    "tags": []
   },
   "outputs": [
    {
     "data": {
      "text/plain": [
       "[Planet(planet_name='Kepler-1663 b', host_name='Kepler-1663', discovery_method='Transit', discovery_year=2020, controversial_flag=False, orbital_period=17.6046, planet_radius=3.304, planet_mass=10.9, semi_major_radius=0.1072, eccentricity=0.0, equilibrium_temperature=362.0, insolation_flux=4.07)]"
      ]
     },
     "execution_count": 192,
     "metadata": {},
     "output_type": "execute_result"
    }
   ],
   "source": [
    "# compute and store the answer in the variable 'youngest_star_planets', then display it\n",
    "youngest_star_planets=None\n",
    "minage=-1 #negative stellar age have no meaning and will never occurs so we are safe to initialize like that\n",
    "for item in planets_list:\n",
    "    if stars_dict[item.host_name].stellar_age==None:\n",
    "        continue \n",
    "    elif minage==-1 or minage>stars_dict[item.host_name].stellar_age:\n",
    "        minage=stars_dict[item.host_name].stellar_age\n",
    "        youngest_star_planets=item\n",
    "\n",
    "    # elif minage>stars_dict[item.host_name].stellar_age:\n",
    "    #     minage=stars_dict[item.host_name].stellar_age\n",
    "    #     youngest_star_planets=(item)\n",
    "\n",
    "youngest_star_planets=[youngest_star_planets]\n",
    "youngest_star_planets"
   ]
  },
  {
   "cell_type": "code",
   "execution_count": 193,
   "id": "30a6f5d4",
   "metadata": {
    "deletable": false,
    "editable": false
   },
   "outputs": [
    {
     "data": {
      "text/html": [
       "<p><strong><pre style='display: inline;'>q20</pre></strong> passed!</p>"
      ],
      "text/plain": [
       "q20 results: All test cases passed!"
      ]
     },
     "execution_count": 193,
     "metadata": {},
     "output_type": "execute_result"
    }
   ],
   "source": [
    "grader.check(\"q20\")"
   ]
  },
  {
   "cell_type": "markdown",
   "id": "dfe3d9fd",
   "metadata": {
    "deletable": false,
    "editable": false
   },
   "source": [
    "## Submission\n",
    "Make sure you have run all cells in your notebook in order before running the following cells, so that all images/graphs appear in the output.\n",
    "It is recommended that at this stage, you Restart and Run all Cells in your notebook.\n",
    "That will automatically save your work and generate a zip file for you to submit.\n",
    "\n",
    "**SUBMISSION INSTRUCTIONS**:\n",
    "1. **Upload** the zipfile to Gradescope.\n",
    "2. Check **Gradescope otter** results as soon as the auto-grader execution gets completed. Don't worry about the score showing up as -/100.0. You only need to check that the test cases passed."
   ]
  },
  {
   "cell_type": "code",
   "execution_count": 194,
   "id": "69ec12b2",
   "metadata": {
    "cell_type": "code",
    "deletable": false,
    "editable": false
   },
   "outputs": [
    {
     "data": {
      "application/javascript": "IPython.notebook.save_checkpoint();",
      "text/plain": [
       "<IPython.core.display.Javascript object>"
      ]
     },
     "metadata": {},
     "output_type": "display_data"
    }
   ],
   "source": [
    "# running this cell will create a new save checkpoint for your notebook\n",
    "from IPython.display import display, Javascript\n",
    "display(Javascript('IPython.notebook.save_checkpoint();'))"
   ]
  },
  {
   "cell_type": "code",
   "execution_count": 195,
   "id": "2d2372c2",
   "metadata": {
    "cell_type": "code",
    "deletable": false,
    "editable": false
   },
   "outputs": [
    {
     "name": "stdout",
     "output_type": "stream",
     "text": [
      "[jupytext] Reading p10.ipynb in format ipynb\n",
      "[jupytext] Writing p10.py (destination file replaced)\n"
     ]
    }
   ],
   "source": [
    "!jupytext --to py p10.ipynb"
   ]
  },
  {
   "cell_type": "code",
   "execution_count": 196,
   "id": "048cc634",
   "metadata": {
    "cell_type": "code",
    "deletable": false,
    "editable": false
   },
   "outputs": [
    {
     "name": "stdout",
     "output_type": "stream",
     "text": [
      "Running your submission against local test cases...\n",
      "\n",
      "\n",
      "\n",
      "Your submission received the following results when run against available test cases:\n",
      "\n",
      "    q1 results: All test cases passed!\n",
      "\n",
      "    q2 results: All test cases passed!\n",
      "\n",
      "    q3 results: All test cases passed!\n",
      "\n",
      "    q4 results: All test cases passed!\n",
      "\n",
      "    star_object results: All test cases passed!\n",
      "\n",
      "    q5 results: All test cases passed!\n",
      "\n",
      "    q6 results: All test cases passed!\n",
      "\n",
      "    q7 results: All test cases passed!\n",
      "\n",
      "    q8 results: All test cases passed!\n",
      "\n",
      "    q9 results: All test cases passed!\n",
      "\n",
      "    q10 results: All test cases passed!\n",
      "\n",
      "    q11 results: All test cases passed!\n",
      "\n",
      "    planet_object results: All test cases passed!\n",
      "\n",
      "    q12 results: All test cases passed!\n",
      "\n",
      "    q13 results: All test cases passed!\n",
      "\n",
      "    q14 results: All test cases passed!\n",
      "\n",
      "    q15 results: All test cases passed!\n",
      "\n",
      "    q16 results: All test cases passed!\n",
      "\n",
      "    q17 results: All test cases passed!\n",
      "\n",
      "    q18 results: All test cases passed!\n",
      "\n",
      "    q19 results: All test cases passed!\n",
      "\n",
      "    q20 results: All test cases passed!\n"
     ]
    },
    {
     "data": {
      "text/html": [
       "\n",
       "            <p>Your submission has been exported. Click <a href=\"p10_2022_11_13T15_22_55_139369.zip\" download=\"p10_2022_11_13T15_22_55_139369.zip\" target=\"_blank\">here</a>\n",
       "            to download the zip file.</p>\n",
       "            "
      ],
      "text/plain": [
       "<IPython.core.display.HTML object>"
      ]
     },
     "metadata": {},
     "output_type": "display_data"
    }
   ],
   "source": [
    "p10_test.check_file_size(\"p10.ipynb\")\n",
    "grader.export(pdf=False, run_tests=True, files=[py_filename])"
   ]
  },
  {
   "cell_type": "markdown",
   "id": "f1dafe2e",
   "metadata": {
    "deletable": false,
    "editable": false
   },
   "source": [
    " "
   ]
  }
 ],
 "metadata": {
  "jupytext": {
   "cell_metadata_filter": "-all",
   "encoding": "# coding: utf-8",
   "executable": "/usr/bin/env python",
   "notebook_metadata_filter": "-all"
  },
  "kernelspec": {
   "display_name": "Python 3.9.12 ('base')",
   "language": "python",
   "name": "python3"
  },
  "language_info": {
   "codemirror_mode": {
    "name": "ipython",
    "version": 3
   },
   "file_extension": ".py",
   "mimetype": "text/x-python",
   "name": "python",
   "nbconvert_exporter": "python",
   "pygments_lexer": "ipython3",
   "version": "3.9.12"
  },
  "otter": {
   "OK_FORMAT": true,
   "tests": {
    "planet_object": {
     "name": "planet_object",
     "points": 0,
     "suites": [
      {
       "cases": [
        {
         "code": ">>> p10_test.check(\"qplanet_object\", jupiter)\nTrue",
         "hidden": false,
         "locked": false
        }
       ],
       "scored": true,
       "setup": "",
       "teardown": "",
       "type": "doctest"
      }
     ]
    },
    "q1": {
     "name": "q1",
     "points": 5,
     "suites": [
      {
       "cases": [
        {
         "code": ">>> p10_test.check(\"q1\", files_in_data)\nTrue",
         "hidden": false,
         "locked": false
        }
       ],
       "scored": true,
       "setup": "",
       "teardown": "",
       "type": "doctest"
      }
     ]
    },
    "q10": {
     "name": "q10",
     "points": 5,
     "suites": [
      {
       "cases": [
        {
         "code": ">>> p10_test.check(\"q10\", biggest_star)\nTrue",
         "hidden": false,
         "locked": false
        }
       ],
       "scored": true,
       "setup": "",
       "teardown": "",
       "type": "doctest"
      }
     ]
    },
    "q11": {
     "name": "q11",
     "points": 5,
     "suites": [
      {
       "cases": [
        {
         "code": ">>> p10_test.check(\"q11\", avg_age_kepler)\nTrue",
         "hidden": false,
         "locked": false
        }
       ],
       "scored": true,
       "setup": "",
       "teardown": "",
       "type": "doctest"
      }
     ]
    },
    "q12": {
     "name": "q12",
     "points": 5,
     "suites": [
      {
       "cases": [
        {
         "code": ">>> p10_test.check(\"q12\", fifth_planet)\nTrue",
         "hidden": false,
         "locked": false
        }
       ],
       "scored": true,
       "setup": "",
       "teardown": "",
       "type": "doctest"
      }
     ]
    },
    "q13": {
     "name": "q13",
     "points": 5,
     "suites": [
      {
       "cases": [
        {
         "code": ">>> p10_test.check(\"q13\", last_five_planets_1)\nTrue",
         "hidden": false,
         "locked": false
        }
       ],
       "scored": true,
       "setup": "",
       "teardown": "",
       "type": "doctest"
      }
     ]
    },
    "q14": {
     "name": "q14",
     "points": 5,
     "suites": [
      {
       "cases": [
        {
         "code": ">>> p10_test.check(\"q14\", controversial_planets)\nTrue",
         "hidden": false,
         "locked": false
        }
       ],
       "scored": true,
       "setup": "",
       "teardown": "",
       "type": "doctest"
      }
     ]
    },
    "q15": {
     "name": "q15",
     "points": 5,
     "suites": [
      {
       "cases": [
        {
         "code": ">>> p10_test.check(\"q15\", last_five_planets_4)\nTrue",
         "hidden": false,
         "locked": false
        }
       ],
       "scored": true,
       "setup": "",
       "teardown": "",
       "type": "doctest"
      }
     ]
    },
    "q16": {
     "name": "q16",
     "points": 5,
     "suites": [
      {
       "cases": [
        {
         "code": ">>> p10_test.check(\"q16\", planets_4520_4525)\nTrue",
         "hidden": false,
         "locked": false
        }
       ],
       "scored": true,
       "setup": "",
       "teardown": "",
       "type": "doctest"
      }
     ]
    },
    "q17": {
     "name": "q17",
     "points": 5,
     "suites": [
      {
       "cases": [
        {
         "code": ">>> p10_test.check(\"q17\", planets_disc_2022)\nTrue",
         "hidden": false,
         "locked": false
        }
       ],
       "scored": true,
       "setup": "",
       "teardown": "",
       "type": "doctest"
      }
     ]
    },
    "q18": {
     "name": "q18",
     "points": 5,
     "suites": [
      {
       "cases": [
        {
         "code": ">>> p10_test.check(\"q18\", toi_2022_c_star)\nTrue",
         "hidden": false,
         "locked": false
        }
       ],
       "scored": true,
       "setup": "",
       "teardown": "",
       "type": "doctest"
      }
     ]
    },
    "q19": {
     "name": "q19",
     "points": 5,
     "suites": [
      {
       "cases": [
        {
         "code": ">>> p10_test.check(\"q19\", avg_planet_radius_big_stars)\nTrue",
         "hidden": false,
         "locked": false
        }
       ],
       "scored": true,
       "setup": "",
       "teardown": "",
       "type": "doctest"
      }
     ]
    },
    "q2": {
     "name": "q2",
     "points": 5,
     "suites": [
      {
       "cases": [
        {
         "code": ">>> p10_test.check(\"q2\", file_paths)\nTrue",
         "hidden": false,
         "locked": false
        }
       ],
       "scored": true,
       "setup": "",
       "teardown": "",
       "type": "doctest"
      }
     ]
    },
    "q20": {
     "name": "q20",
     "points": 5,
     "suites": [
      {
       "cases": [
        {
         "code": ">>> p10_test.check(\"q20\", youngest_star_planets)\nTrue",
         "hidden": false,
         "locked": false
        }
       ],
       "scored": true,
       "setup": "",
       "teardown": "",
       "type": "doctest"
      }
     ]
    },
    "q3": {
     "name": "q3",
     "points": 5,
     "suites": [
      {
       "cases": [
        {
         "code": ">>> p10_test.check(\"q3\", json_file_paths)\nTrue",
         "hidden": false,
         "locked": false
        }
       ],
       "scored": true,
       "setup": "",
       "teardown": "",
       "type": "doctest"
      }
     ]
    },
    "q4": {
     "name": "q4",
     "points": 5,
     "suites": [
      {
       "cases": [
        {
         "code": ">>> p10_test.check(\"q4\", stars_paths)\nTrue",
         "hidden": false,
         "locked": false
        }
       ],
       "scored": true,
       "setup": "",
       "teardown": "",
       "type": "doctest"
      }
     ]
    },
    "q5": {
     "name": "q5",
     "points": 5,
     "suites": [
      {
       "cases": [
        {
         "code": ">>> p10_test.check(\"q5\", third_star)\nTrue",
         "hidden": false,
         "locked": false
        }
       ],
       "scored": true,
       "setup": "",
       "teardown": "",
       "type": "doctest"
      }
     ]
    },
    "q6": {
     "name": "q6",
     "points": 5,
     "suites": [
      {
       "cases": [
        {
         "code": ">>> p10_test.check(\"q6\", dp_leo)\nTrue",
         "hidden": false,
         "locked": false
        }
       ],
       "scored": true,
       "setup": "",
       "teardown": "",
       "type": "doctest"
      }
     ]
    },
    "q7": {
     "name": "q7",
     "points": 5,
     "suites": [
      {
       "cases": [
        {
         "code": ">>> p10_test.check(\"q7\", avg_lum_stars_1)\nTrue",
         "hidden": false,
         "locked": false
        }
       ],
       "scored": true,
       "setup": "",
       "teardown": "",
       "type": "doctest"
      }
     ]
    },
    "q8": {
     "name": "q8",
     "points": 5,
     "suites": [
      {
       "cases": [
        {
         "code": ">>> p10_test.check(\"q8\", avg_age_stars_2)\nTrue",
         "hidden": false,
         "locked": false
        }
       ],
       "scored": true,
       "setup": "",
       "teardown": "",
       "type": "doctest"
      }
     ]
    },
    "q9": {
     "name": "q9",
     "points": 5,
     "suites": [
      {
       "cases": [
        {
         "code": ">>> p10_test.check(\"q9\", kepler_220_temp)\nTrue",
         "hidden": false,
         "locked": false
        }
       ],
       "scored": true,
       "setup": "",
       "teardown": "",
       "type": "doctest"
      }
     ]
    },
    "star_object": {
     "name": "star_object",
     "points": 0,
     "suites": [
      {
       "cases": [
        {
         "code": ">>> p10_test.check(\"qstar_object\", sun)\nTrue",
         "hidden": false,
         "locked": false
        }
       ],
       "scored": true,
       "setup": "",
       "teardown": "",
       "type": "doctest"
      }
     ]
    }
   }
  },
  "vscode": {
   "interpreter": {
    "hash": "79096726cbabd175b414b154fd74f86e5e826c01a8fc002374b79612a9b70ee8"
   }
  }
 },
 "nbformat": 4,
 "nbformat_minor": 5
}
