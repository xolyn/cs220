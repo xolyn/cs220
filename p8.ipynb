{
 "cells": [
  {
   "cell_type": "code",
   "execution_count": 58,
   "id": "8645c672",
   "metadata": {
    "cell_type": "code",
    "deletable": false,
    "editable": false
   },
   "outputs": [],
   "source": [
    "import otter\n",
    "# nb_name should be the name of your notebook without the .ipynb extension\n",
    "nb_name = \"p8\"\n",
    "py_filename = nb_name + \".py\"\n",
    "grader = otter.Notebook(nb_name + \".ipynb\")"
   ]
  },
  {
   "cell_type": "code",
   "execution_count": 59,
   "id": "504ce384",
   "metadata": {
    "deletable": false,
    "editable": false
   },
   "outputs": [],
   "source": [
    "import p8_test"
   ]
  },
  {
   "cell_type": "code",
   "execution_count": 60,
   "id": "fa5fbac6",
   "metadata": {},
   "outputs": [],
   "source": [
    "# PLEASE FILL IN THE DETAILS\n",
    "# Enter none if you don't have a project partner\n",
    "# You will have to add your partner as a group member on Gradescope even after you fill this\n",
    "\n",
    "# project: p8\n",
    "# submitter: 9082531048\n",
    "# partner: None"
   ]
  },
  {
   "cell_type": "markdown",
   "id": "c3dbdc8e",
   "metadata": {
    "deletable": false,
    "editable": false
   },
   "source": [
    "# Project 8: Going to the Movies"
   ]
  },
  {
   "cell_type": "markdown",
   "id": "285cf39b",
   "metadata": {
    "deletable": false,
    "editable": false
   },
   "source": [
    "## Learning Objectives:\n",
    "\n",
    "In this project, you will demonstrate how to:\n",
    "\n",
    "* integrate relevant information from various sources (e.g. multiple csv files),\n",
    "* build appropriate data structures for organized and informative presentation (e.g. list of dictionaries),\n",
    "* practice good coding style\n",
    "\n",
    "Please go through [lab-p8](https://git.doit.wisc.edu/cdis/cs/courses/cs220/cs220-f22-projects/-/tree/main/lab-p8) before working on this project. The lab introduces some useful techniques related to this project."
   ]
  },
  {
   "cell_type": "markdown",
   "id": "c3533ec2",
   "metadata": {
    "deletable": false,
    "editable": false
   },
   "source": [
    "## Note on Academic Misconduct:\n",
    "\n",
    "**IMPORTANT**: p8 and p9 are two parts of the same data analysis. You **cannot** switch project partners between these two projects. That is if you partner up with someone for p8, you have to sustain that partnership until end of p9. Now may be a good time to review [our course policies](https://cs220.cs.wisc.edu/f22/syllabus.html)."
   ]
  },
  {
   "cell_type": "markdown",
   "id": "ba644259",
   "metadata": {
    "deletable": false,
    "editable": false
   },
   "source": [
    "## Testing your code:\n",
    "\n",
    "Along with this notebook, you must have downloaded the file `p8_test.py`. If you are curious about how we test your code, you can explore this file, and specifically the value of the variable `expected_json`, to understand the expected answers to the questions."
   ]
  },
  {
   "cell_type": "markdown",
   "id": "037dbf1b",
   "metadata": {
    "deletable": false,
    "editable": false
   },
   "source": [
    "## Introduction:\n",
    "\n",
    "In this project and the next, we will be working on the [IMDb Movies Dataset](https://www.imdb.com/interfaces/). We will use Python to discover some cool facts about our favorite movies, cast, and directors.\n",
    "\n",
    "In this project, you will combine the data from the movie and mapping files into a more useful format.\n",
    "Start by downloading the following files: `p8_test.py`, `small_mapping.csv`, `small_movies.csv`, `mapping.csv`, and `movies.csv`."
   ]
  },
  {
   "cell_type": "markdown",
   "id": "a602bb94",
   "metadata": {
    "deletable": false,
    "editable": false
   },
   "source": [
    "## The Data:\n",
    "\n",
    "Open `movies.csv` and `mapping.csv` in any spreadsheet viewer, and see what the data looks like.\n",
    "`movies.csv` has ~100,000 rows and `mapping.csv` has ~350,000 rows. These files store information about **every** movie on the IMDb dataset which was released in the US. These datasets are **very** large when compared to `small_movies.csv` and `small_mapping.csv` from [lab-p8](https://github.com/msyamkumar/cs220-f22-projects/tree/main/lab-p8), but the data is stored in the **same format**. For description of the datasets, please refer back to [lab-p8](https://github.com/msyamkumar/cs220-f22-projects/tree/main/lab-p8).\n",
    "\n",
    "Before we start working with these very large datasets, let us start with the much smaller datasets, `small_movies.csv` and `small_mapping.csv` from lab-p8. In the latter half of p8 and in p9, you will be working with `movies.csv` and `mapping.csv`. Since the files `movies.csv` and `mapping.csv` are large, some of the functions you write in p8 and p9 **may take a while to execute**. You do not have to panic if a single cell takes between 5 to 10 seconds to run. If any cell takes significantly longer, follow the recommendations below:\n",
    "\n",
    "- **Do not** calling **slow functions** multiple times within a loop.\n",
    "- **Do not** calling functions that **iterate over the entire dataset within a loop**; instead, call the function before the loop and store the result in a variable.\n",
    "- **Do not** compute quantities **inside a loop** if it can be computed outside the loop; for example, if you want to calculate the average of a list, you should use the loop to find the numerator and denominator but divide **once** after the loop ends instead of inside the loop."
   ]
  },
  {
   "cell_type": "markdown",
   "id": "1a564432",
   "metadata": {
    "deletable": false,
    "editable": false
   },
   "source": [
    "## Project Requirements:\n",
    "\n",
    "You **may not** hardcode indices in your code, unless the question explicitly . If you open your `.csv` files with Excel, manually count through the rows and use this number to loop through the dataset, this is also considered as hardcoding. We'll **manually deduct** points from your autograder score on Gradescope during code review.\n",
    "\n",
    "**Store** your final answer for each question in the **variable specified for each question**. This step is important because Otter grades your work by comparing the value of this variable against the correct answer.\n",
    "\n",
    "For some of the questions, we'll ask you to write (then use) a function to compute the answer. If you compute the answer **without** creating the function we ask you to write, we'll **manually deduct** points from your autograder score on Gradescope, even if the way you did it produced the correct answer.\n",
    "\n",
    "Required Functions:\n",
    "- `get_mapping`\n",
    "- `get_raw_movies`\n",
    "- `get_movies`\n",
    "- `find_specific_movies`\n",
    "- `bucketize_by_genre`\n",
    "\n",
    "In this project, you will also be required to define certain **data structures**. If you do not create these data structures exactly as specified, we'll **manually deduct** points from your autograder score on Gradescope, even if the way you did it produced the correct answer.\n",
    "\n",
    "Required Data Structures:\n",
    "- `small_movies`\n",
    "- `movies`\n",
    "- `genre_dict`\n",
    "\n",
    "You are only allowed to define these data structures **once** and we'll **manually deduct** points from your autograder score on Gradescope if you redefine the values of these variables.\n",
    "\n",
    "In this project (and the next), you will be asked to create **lists** of movies. For all such questions, **unless it is explicitly mentioned otherwise**, the movies should be in the **same order** as in the `movies.csv` (or `small_movies.csv`) file. Similarly, for each movie, the **list** of `genres`, `directors`, and `cast` members should always be in the **same order** as in the `movies.csv` (or `small_movies.csv`) file.\n",
    "\n",
    "Students are only allowed to use Python commands and concepts that have been taught in the course prior to the release of p8. Therefore, you should not use the pandas module.  We will **manually deduct** points from your autograder score on Gradescope otherwise.\n",
    "\n",
    "In addition, you are also **required** to follow the requirements below:\n",
    "- **Do not use the method `csv.DictReader` for p8**. Although the required output can be obtained using this method, one of the learning outcomes of this project is to demonstrate your ability to build dictionaries with your own code.  \n",
    "- Additional import statements beyond those that are stated in the directions are not allowed. For this project, we allow you to use `csv` and `copy` packages (that is, you can use the `import csv` and `import copy` statements in your submission). You should not use concepts / modules that are yet to be covered in this course; for example: you should not use modules like `pandas`. **We'll manually deduct points** accordingly, if you don't follow the provided directions.\n",
    "\n",
    "For more details on what will cause you to lose points during code review and specific requirements, please take a look at the [Grading rubric](https://git.doit.wisc.edu/cdis/cs/courses/cs220/cs220-f22-projects/-/blob/main/p8/rubric.md).\n"
   ]
  },
  {
   "cell_type": "markdown",
   "id": "e060d3ff",
   "metadata": {
    "deletable": false,
    "editable": false
   },
   "source": [
    "## Questions and Functions:\n",
    "\n",
    "Let us start by importing all the modules we will need for this project.\n",
    "\n"
   ]
  },
  {
   "cell_type": "code",
   "execution_count": 61,
   "id": "7b0a0757",
   "metadata": {
    "tags": []
   },
   "outputs": [],
   "source": [
    "# it is considered a good coding practice to place all import statements at the top of the notebook\n",
    "# please place all your import statements in this cell if you need to import any more modules for this project\n",
    "import csv\n",
    "import math\n",
    "import copy"
   ]
  },
  {
   "cell_type": "markdown",
   "id": "42a92141",
   "metadata": {
    "deletable": false,
    "editable": false
   },
   "source": [
    "### Function 1: `get_mapping(path)`\n",
    "\n",
    "We require you to complete the below function to answer the next several questions (this is a **requirement**, and you will **lose points** if you do not implement this function). You may copy/paste code from your lab-p8 notebook to finish this function."
   ]
  },
  {
   "cell_type": "code",
   "execution_count": 62,
   "id": "7f9974b0",
   "metadata": {
    "tags": []
   },
   "outputs": [],
   "source": [
    "def get_mapping(path):\n",
    "    \n",
    "    example_file = open(path, encoding=\"utf-8\")\n",
    "    example_reader = csv.reader(example_file)\n",
    "    example_data = list(example_reader)\n",
    "    example_file.close()\n",
    "    \n",
    "    mapping_dict={}\n",
    "    for i in range(len(example_data)):\n",
    "        mapping_dict[example_data[i][0]]=example_data[i][1]\n",
    "    return mapping_dict\n"
   ]
  },
  {
   "cell_type": "markdown",
   "id": "1f1d06c8",
   "metadata": {
    "deletable": false,
    "editable": false
   },
   "source": [
    "**Question 1:** What is returned by `get_mapping(\"small_mapping.csv\")`?\n",
    "\n",
    "Your output **must** be a **dictionary** which maps the *IDs* in `small_mapping.csv` to *names*."
   ]
  },
  {
   "cell_type": "code",
   "execution_count": 63,
   "id": "ea02bcd6",
   "metadata": {
    "tags": []
   },
   "outputs": [
    {
     "data": {
      "text/plain": [
       "{'tt3104988': 'Crazy Rich Asians',\n",
       " 'nm0160840': 'Jon M. Chu',\n",
       " 'nm2090422': 'Constance Wu',\n",
       " 'nm6525901': 'Henry Golding',\n",
       " 'nm0000706': 'Michelle Yeoh',\n",
       " 'nm2110418': 'Gemma Chan',\n",
       " 'nm0523734': 'Lisa Lu',\n",
       " 'tt4846340': 'Hidden Figures',\n",
       " 'nm0577647': 'Theodore Melfi',\n",
       " 'nm0378245': 'Taraji P. Henson',\n",
       " 'nm0818055': 'Octavia Spencer',\n",
       " 'nm1847117': 'Janelle Monáe'}"
      ]
     },
     "execution_count": 63,
     "metadata": {},
     "output_type": "execute_result"
    }
   ],
   "source": [
    "# compute and store the answer in the variable 'small_mapping', then display it\n",
    "small_mapping=get_mapping(\"small_mapping.csv\")\n",
    "small_mapping"
   ]
  },
  {
   "cell_type": "code",
   "execution_count": 64,
   "id": "822054fa",
   "metadata": {
    "deletable": false,
    "editable": false
   },
   "outputs": [
    {
     "data": {
      "text/html": [
       "<p><strong><pre style='display: inline;'>q1</pre></strong> passed!</p>"
      ],
      "text/plain": [
       "q1 results: All test cases passed!"
      ]
     },
     "execution_count": 64,
     "metadata": {},
     "output_type": "execute_result"
    }
   ],
   "source": [
    "grader.check(\"q1\")"
   ]
  },
  {
   "cell_type": "markdown",
   "id": "9a666e9f",
   "metadata": {
    "deletable": false,
    "editable": false
   },
   "source": [
    "**Question 2:** What is the **value** associated with the **key** *nm2110418*?\n",
    "\n",
    "Your output **must** be a **string**."
   ]
  },
  {
   "cell_type": "code",
   "execution_count": 65,
   "id": "c2606487",
   "metadata": {
    "tags": []
   },
   "outputs": [
    {
     "data": {
      "text/plain": [
       "'Gemma Chan'"
      ]
     },
     "execution_count": 65,
     "metadata": {},
     "output_type": "execute_result"
    }
   ],
   "source": [
    "# access and store the answer in the variable 'nm2110418_value', then display it\n",
    "nm2110418_value=small_mapping[\"nm2110418\"]\n",
    "nm2110418_value"
   ]
  },
  {
   "cell_type": "code",
   "execution_count": 66,
   "id": "95e8aa69",
   "metadata": {
    "deletable": false,
    "editable": false
   },
   "outputs": [
    {
     "data": {
      "text/html": [
       "<p><strong><pre style='display: inline;'>q2</pre></strong> passed!</p>"
      ],
      "text/plain": [
       "q2 results: All test cases passed!"
      ]
     },
     "execution_count": 66,
     "metadata": {},
     "output_type": "execute_result"
    }
   ],
   "source": [
    "grader.check(\"q2\")"
   ]
  },
  {
   "cell_type": "markdown",
   "id": "3edb29c2",
   "metadata": {
    "deletable": false,
    "editable": false
   },
   "source": [
    "**Question 3:** What are the **values** associated with **keys** that **begin** with *nm*?\n",
    "\n",
    "Your output **must** be a **list** of **strings**."
   ]
  },
  {
   "cell_type": "code",
   "execution_count": 67,
   "id": "4289a1d2",
   "metadata": {
    "tags": []
   },
   "outputs": [
    {
     "data": {
      "text/plain": [
       "['Jon M. Chu',\n",
       " 'Constance Wu',\n",
       " 'Henry Golding',\n",
       " 'Michelle Yeoh',\n",
       " 'Gemma Chan',\n",
       " 'Lisa Lu',\n",
       " 'Theodore Melfi',\n",
       " 'Taraji P. Henson',\n",
       " 'Octavia Spencer',\n",
       " 'Janelle Monáe']"
      ]
     },
     "execution_count": 67,
     "metadata": {},
     "output_type": "execute_result"
    }
   ],
   "source": [
    "# compute and store the answer in the variable 'nm_values', then display it\n",
    "nm_values=[]\n",
    "for keysq3 in small_mapping:\n",
    "    if \"nm\" in keysq3:\n",
    "        nm_values.append(small_mapping[keysq3])\n",
    "nm_values"
   ]
  },
  {
   "cell_type": "code",
   "execution_count": 68,
   "id": "7856aed4",
   "metadata": {
    "deletable": false,
    "editable": false
   },
   "outputs": [
    {
     "data": {
      "text/html": [
       "<p><strong><pre style='display: inline;'>q3</pre></strong> passed!</p>"
      ],
      "text/plain": [
       "q3 results: All test cases passed!"
      ]
     },
     "execution_count": 68,
     "metadata": {},
     "output_type": "execute_result"
    }
   ],
   "source": [
    "grader.check(\"q3\")"
   ]
  },
  {
   "cell_type": "markdown",
   "id": "7bcb2a89",
   "metadata": {
    "deletable": false,
    "editable": false
   },
   "source": [
    "**Question 4:** Find the **keys** of the people (keys **beginning** with *nm*) whose **last name** is *Spencer*.\n",
    "\n",
    "Your output **must** be a **list** of **string(s)**.\n",
    "\n",
    "**Requirements:** Your **code** must be robust and satisfy all the requirements, even if you were to run this on a larger dataset (such as `mapping.csv`). In particular:\n",
    "1. You will **lose points** if your code would find people whose **first** name or **middle** name is *Spencer* (e.g. *Spencer Garrett* or *Charlie Spencer Clark*).\n",
    "2. You will **lose points** if your code would find people whose **last** name contains *Spencer* as a **substring** (e.g. *Tara Spencer-Nairn*). The name should be **exactly** *Spencer*. \n",
    "3. You will **lose points** if your code would find any **movie titles** (e.g. *Meeting Spencer*)."
   ]
  },
  {
   "cell_type": "code",
   "execution_count": 69,
   "id": "c1e79a7b",
   "metadata": {
    "tags": []
   },
   "outputs": [
    {
     "data": {
      "text/plain": [
       "['nm0818055']"
      ]
     },
     "execution_count": 69,
     "metadata": {},
     "output_type": "execute_result"
    }
   ],
   "source": [
    "# compute and store the answer in the variable 'nm_spencer', then display it\n",
    "nm_spencer=[]\n",
    "for keysq4 in small_mapping:\n",
    "    if \"nm\" in keysq4 :\n",
    "        nil=small_mapping[keysq4].split(\" \") #nil is \"name in list\" in abbrev.\n",
    "        if nil[-1]==\"Spencer\":\n",
    "            nm_spencer.append(keysq4)\n",
    "        \n",
    "        \n",
    "nm_spencer"
   ]
  },
  {
   "cell_type": "code",
   "execution_count": 70,
   "id": "c6e22ec0",
   "metadata": {
    "deletable": false,
    "editable": false
   },
   "outputs": [
    {
     "data": {
      "text/html": [
       "<p><strong><pre style='display: inline;'>q4</pre></strong> passed!</p>"
      ],
      "text/plain": [
       "q4 results: All test cases passed!"
      ]
     },
     "execution_count": 70,
     "metadata": {},
     "output_type": "execute_result"
    }
   ],
   "source": [
    "grader.check(\"q4\")"
   ]
  },
  {
   "cell_type": "markdown",
   "id": "9232bdf3",
   "metadata": {
    "deletable": false,
    "editable": false
   },
   "source": [
    "#### Now, let's move on to reading the movie files!"
   ]
  },
  {
   "cell_type": "markdown",
   "id": "cb96c0dc",
   "metadata": {
    "deletable": false,
    "editable": false
   },
   "source": [
    "### Function 2: `get_raw_movies(path)`\n",
    "\n",
    "We require you to complete the below function to answer the next several questions (this is a **requirement**, and you will **lose points** if you do not implement this function).\n",
    "\n",
    "This function **must** return a **list** of **dictionaries**, where each **dictionary** is of the following format:\n",
    "\n",
    "```python\n",
    "   {\n",
    "        'title': <title-id>,\n",
    "        'year': <the year as an integer>,\n",
    "        'duration': <the duration as an integer>,\n",
    "        'genres': [<genre1>, <genre2>, ...],\n",
    "        'rating': <the rating as a float>,\n",
    "        'directors': [<director-id1>, <director-id2>, ...],\n",
    "        'cast': [<actor-id1>, <actor-id2>, ....]\n",
    "    }\n",
    "```\n",
    "\n",
    "Here is an example:\n",
    "\n",
    "```python\n",
    "    {\n",
    "        'title': 'tt0033313',\n",
    "        'year': 1941,\n",
    "        'duration': 59,\n",
    "        'genres': ['Western'],\n",
    "        'rating': 5.2,\n",
    "        'directors': ['nm0496505'],\n",
    "        'cast': ['nm0193318', 'nm0254381', 'nm0279961', 'nm0910294', 'nm0852305']\n",
    "    }\n",
    "```\n",
    "\n",
    "You may copy/paste code from your lab-p8 notebook to finish this function."
   ]
  },
  {
   "cell_type": "code",
   "execution_count": 71,
   "id": "e91c5e9e",
   "metadata": {
    "tags": []
   },
   "outputs": [],
   "source": [
    "def get_raw_movies(path):\n",
    "    \n",
    "    example_file = open(path, encoding=\"utf-8\")\n",
    "    example_reader = csv.reader(example_file)\n",
    "    example_data = list(example_reader)\n",
    "    example_file.close()\n",
    "    \n",
    "    header=example_data[0]\n",
    "    content=example_data[1:]\n",
    "\n",
    "    lodf2=[] # list of dictionaries in function 2\n",
    "\n",
    "    for listf2 in content:\n",
    "        innerdict={}\n",
    "        for type_index in range(len(header)):\n",
    "            if header[type_index] in [\"genres\",\"directors\",\"cast\"]:\n",
    "                spec_cnt_str=listf2[type_index]\n",
    "                spec_cnt_list=spec_cnt_str.split(\", \")\n",
    "                innerdict[header[type_index]]=spec_cnt_list\n",
    "            elif header[type_index] in [\"year\",\"duration\"]:\n",
    "                innerdict[header[type_index]]=int(listf2[type_index])\n",
    "            elif header[type_index] == \"rating\":\n",
    "                innerdict[header[type_index]]=float(listf2[type_index])\n",
    "            else:\n",
    "                innerdict[header[type_index]]=listf2[type_index]\n",
    "        lodf2.append(innerdict)\n",
    "\n",
    "    return lodf2"
   ]
  },
  {
   "cell_type": "markdown",
   "id": "a27fc397",
   "metadata": {
    "deletable": false,
    "editable": false
   },
   "source": [
    "**Question 5:** What is returned by `get_raw_movies(\"small_movies.csv\")`?\n",
    "\n",
    "Your output **must** be a **list** of **dictionaries** where each dictionary contains information about a movie."
   ]
  },
  {
   "cell_type": "code",
   "execution_count": 72,
   "id": "760d6376",
   "metadata": {
    "tags": []
   },
   "outputs": [
    {
     "data": {
      "text/plain": [
       "[{'title': 'tt3104988',\n",
       "  'year': 2018,\n",
       "  'duration': 120,\n",
       "  'genres': ['Comedy', 'Drama', 'Romance'],\n",
       "  'rating': 6.9,\n",
       "  'directors': ['nm0160840'],\n",
       "  'cast': ['nm2090422', 'nm6525901', 'nm0000706', 'nm2110418', 'nm0523734']},\n",
       " {'title': 'tt4846340',\n",
       "  'year': 2016,\n",
       "  'duration': 127,\n",
       "  'genres': ['Biography', 'Drama', 'History'],\n",
       "  'rating': 7.8,\n",
       "  'directors': ['nm0577647'],\n",
       "  'cast': ['nm0378245', 'nm0818055', 'nm1847117']}]"
      ]
     },
     "execution_count": 72,
     "metadata": {},
     "output_type": "execute_result"
    }
   ],
   "source": [
    "# compute and store the answer in the variable 'raw_small_movies', then display it\n",
    "raw_small_movies=get_raw_movies(\"small_movies.csv\")\n",
    "raw_small_movies"
   ]
  },
  {
   "cell_type": "code",
   "execution_count": 73,
   "id": "5c5b3731",
   "metadata": {
    "deletable": false,
    "editable": false
   },
   "outputs": [
    {
     "data": {
      "text/html": [
       "<p><strong><pre style='display: inline;'>q5</pre></strong> passed!</p>"
      ],
      "text/plain": [
       "q5 results: All test cases passed!"
      ]
     },
     "execution_count": 73,
     "metadata": {},
     "output_type": "execute_result"
    }
   ],
   "source": [
    "grader.check(\"q5\")"
   ]
  },
  {
   "cell_type": "markdown",
   "id": "41143f42",
   "metadata": {
    "deletable": false,
    "editable": false
   },
   "source": [
    "If your answer looks correct, but does not pass `grader.check`, make sure that the **datatypes** are all correct. Also make sure that the **directors** and **cast**  are in the **same order** as in `small_movies.csv`."
   ]
  },
  {
   "cell_type": "markdown",
   "id": "a634eb65",
   "metadata": {
    "deletable": false,
    "editable": false
   },
   "source": [
    "**Question 6:** How **many** cast members does the **first** movie have?\n",
    "\n",
    "Your output **must** be an **int**."
   ]
  },
  {
   "cell_type": "code",
   "execution_count": 74,
   "id": "9cfed920",
   "metadata": {
    "tags": []
   },
   "outputs": [
    {
     "data": {
      "text/plain": [
       "5"
      ]
     },
     "execution_count": 74,
     "metadata": {},
     "output_type": "execute_result"
    }
   ],
   "source": [
    "# compute and store the answer in the variable 'num_cast_first_movie', then display it\n",
    "num_cast_first_movie=len(get_raw_movies(\"small_movies.csv\")[0][\"cast\"])\n",
    "num_cast_first_movie"
   ]
  },
  {
   "cell_type": "code",
   "execution_count": 75,
   "id": "dce007ca",
   "metadata": {
    "deletable": false,
    "editable": false
   },
   "outputs": [
    {
     "data": {
      "text/html": [
       "<p><strong><pre style='display: inline;'>q6</pre></strong> passed!</p>"
      ],
      "text/plain": [
       "q6 results: All test cases passed!"
      ]
     },
     "execution_count": 75,
     "metadata": {},
     "output_type": "execute_result"
    }
   ],
   "source": [
    "grader.check(\"q6\")"
   ]
  },
  {
   "cell_type": "markdown",
   "id": "21365df9",
   "metadata": {
    "deletable": false,
    "editable": false
   },
   "source": [
    "**Question 7:** What is the *ID* of the **first** cast member listed for the **first** movie of the dataset?\n",
    "\n",
    "Your output **must** be a **string**."
   ]
  },
  {
   "cell_type": "code",
   "execution_count": 76,
   "id": "7bfa3bbb",
   "metadata": {
    "tags": []
   },
   "outputs": [
    {
     "data": {
      "text/plain": [
       "'nm2090422'"
      ]
     },
     "execution_count": 76,
     "metadata": {},
     "output_type": "execute_result"
    }
   ],
   "source": [
    "# compute and store the answer in the variable 'first_actor_id_first_movie', then display it\n",
    "first_actor_id_first_movie=get_raw_movies(\"small_movies.csv\")[0][\"cast\"][0]\n",
    "first_actor_id_first_movie"
   ]
  },
  {
   "cell_type": "code",
   "execution_count": 77,
   "id": "38711e1e",
   "metadata": {
    "deletable": false,
    "editable": false
   },
   "outputs": [
    {
     "data": {
      "text/html": [
       "<p><strong><pre style='display: inline;'>q7</pre></strong> passed!</p>"
      ],
      "text/plain": [
       "q7 results: All test cases passed!"
      ]
     },
     "execution_count": 77,
     "metadata": {},
     "output_type": "execute_result"
    }
   ],
   "source": [
    "grader.check(\"q7\")"
   ]
  },
  {
   "cell_type": "markdown",
   "id": "46268cb1",
   "metadata": {
    "deletable": false,
    "editable": false
   },
   "source": [
    "### Function 3: `get_movies(movies_path, mapping_path)`\n",
    "\n",
    "We require you to complete the below function to answer the next several questions (this is a **requirement**, and you will **lose points** if you do not implement this function).\n",
    "\n",
    "\n",
    "This function **must** return a **list** of **dictionaries**, where each **dictionary** is of the following format:\n",
    "\n",
    "```python\n",
    "   {\n",
    "        'title': \"the movie name\",\n",
    "        'year': <the year as an integer>,\n",
    "        'duration': <the duration as an integer>,\n",
    "        'genres': [<genre1>, <genre2>, ...],\n",
    "        'rating': <the rating as a float>,\n",
    "        'directors': [\"director-name1\", \"director-name2\", ...],\n",
    "        'cast': [\"actor-name1\", \"actor-name2\", ....]\n",
    "    }\n",
    "```\n",
    "\n",
    "Here is an example:\n",
    "\n",
    "```python\n",
    "    {\n",
    "        'title': 'Across the Sierras',\n",
    "        'year': 1941,\n",
    "        'duration': 59,\n",
    "        'genres': ['Western'],\n",
    "        'rating': 5.2,\n",
    "        'directors': ['D. Ross Lederman'],\n",
    "        'cast': ['Dick Curtis', 'Bill Elliott', 'Richard Fiske', 'Luana Walters', 'Dub Taylor']\n",
    "    }\n",
    "```\n",
    "\n",
    "You may copy/paste code from your lab-p8 notebook to finish this function."
   ]
  },
  {
   "cell_type": "code",
   "execution_count": 78,
   "id": "c794fdb2",
   "metadata": {
    "tags": []
   },
   "outputs": [],
   "source": [
    "def get_movies(movies_path, mapping_path):\n",
    "    lic=get_raw_movies(movies_path) #list in code\n",
    "    docn=get_mapping(mapping_path) #dictionaries of corresponding names\n",
    "\n",
    "    for everydict in lic:\n",
    "        for keyf3 in everydict:\n",
    "            if keyf3 in [\"directors\",\"cast\"]:\n",
    "                for codenameidx in range(len(everydict[keyf3])):\n",
    "                    everydict[keyf3][codenameidx]=docn[everydict[keyf3][codenameidx]]\n",
    "            elif keyf3 == \"title\":\n",
    "                everydict[keyf3]=docn[everydict[keyf3]]\n",
    "\n",
    "    return lic\n"
   ]
  },
  {
   "cell_type": "markdown",
   "id": "30a62b5a",
   "metadata": {
    "deletable": false,
    "editable": false
   },
   "source": [
    "**Question 8:** What is returned by `get_movies(\"small_movies.csv\", \"small_mapping.csv\")`?\n",
    "\n",
    "Your output **must** be a **list** of **dictionaries** where each dictionary contains information about a movie."
   ]
  },
  {
   "cell_type": "code",
   "execution_count": 79,
   "id": "a233b116",
   "metadata": {
    "tags": []
   },
   "outputs": [
    {
     "data": {
      "text/plain": [
       "[{'title': 'Crazy Rich Asians',\n",
       "  'year': 2018,\n",
       "  'duration': 120,\n",
       "  'genres': ['Comedy', 'Drama', 'Romance'],\n",
       "  'rating': 6.9,\n",
       "  'directors': ['Jon M. Chu'],\n",
       "  'cast': ['Constance Wu',\n",
       "   'Henry Golding',\n",
       "   'Michelle Yeoh',\n",
       "   'Gemma Chan',\n",
       "   'Lisa Lu']},\n",
       " {'title': 'Hidden Figures',\n",
       "  'year': 2016,\n",
       "  'duration': 127,\n",
       "  'genres': ['Biography', 'Drama', 'History'],\n",
       "  'rating': 7.8,\n",
       "  'directors': ['Theodore Melfi'],\n",
       "  'cast': ['Taraji P. Henson', 'Octavia Spencer', 'Janelle Monáe']}]"
      ]
     },
     "execution_count": 79,
     "metadata": {},
     "output_type": "execute_result"
    }
   ],
   "source": [
    "# compute and store the answer in the variable 'small_movies_data', then display it\n",
    "small_movies_data=get_movies(\"small_movies.csv\", \"small_mapping.csv\")\n",
    "small_movies_data"
   ]
  },
  {
   "cell_type": "code",
   "execution_count": 80,
   "id": "5a3c4c7d",
   "metadata": {
    "deletable": false,
    "editable": false
   },
   "outputs": [
    {
     "data": {
      "text/html": [
       "<p><strong><pre style='display: inline;'>q8</pre></strong> passed!</p>"
      ],
      "text/plain": [
       "q8 results: All test cases passed!"
      ]
     },
     "execution_count": 80,
     "metadata": {},
     "output_type": "execute_result"
    }
   ],
   "source": [
    "grader.check(\"q8\")"
   ]
  },
  {
   "cell_type": "markdown",
   "id": "9f4bded0",
   "metadata": {
    "deletable": false,
    "editable": false
   },
   "source": [
    "**Question 9:** What is `title` of the **second** movie in `small_movies_data`?\n",
    "\n",
    "Your output **must** be a **string**."
   ]
  },
  {
   "cell_type": "code",
   "execution_count": 81,
   "id": "379ccd60",
   "metadata": {
    "tags": []
   },
   "outputs": [
    {
     "data": {
      "text/plain": [
       "'Hidden Figures'"
      ]
     },
     "execution_count": 81,
     "metadata": {},
     "output_type": "execute_result"
    }
   ],
   "source": [
    "# compute and store the answer in the variable 'second_movie_title_small_movies', then display it\n",
    "second_movie_title_small_movies=small_movies_data[1][\"title\"]\n",
    "second_movie_title_small_movies"
   ]
  },
  {
   "cell_type": "code",
   "execution_count": 82,
   "id": "86612bef",
   "metadata": {
    "deletable": false,
    "editable": false
   },
   "outputs": [
    {
     "data": {
      "text/html": [
       "<p><strong><pre style='display: inline;'>q9</pre></strong> passed!</p>"
      ],
      "text/plain": [
       "q9 results: All test cases passed!"
      ]
     },
     "execution_count": 82,
     "metadata": {},
     "output_type": "execute_result"
    }
   ],
   "source": [
    "grader.check(\"q9\")"
   ]
  },
  {
   "cell_type": "markdown",
   "id": "c3b64019",
   "metadata": {
    "deletable": false,
    "editable": false
   },
   "source": [
    "**Question 10:** Who are the `cast` members of the **second** movie in `small_movies_data`?\n",
    "\n",
    "Your output **must** be a **list** of **string(s)**."
   ]
  },
  {
   "cell_type": "code",
   "execution_count": 83,
   "id": "ccae5a99",
   "metadata": {
    "tags": []
   },
   "outputs": [
    {
     "data": {
      "text/plain": [
       "['Taraji P. Henson', 'Octavia Spencer', 'Janelle Monáe']"
      ]
     },
     "execution_count": 83,
     "metadata": {},
     "output_type": "execute_result"
    }
   ],
   "source": [
    "# compute and store the answer in the variable 'second_movie_cast_small_movies', then display it\n",
    "second_movie_cast_small_movies=small_movies_data[1][\"cast\"]\n",
    "second_movie_cast_small_movies"
   ]
  },
  {
   "cell_type": "code",
   "execution_count": 84,
   "id": "f44333b3",
   "metadata": {
    "deletable": false,
    "editable": false
   },
   "outputs": [
    {
     "data": {
      "text/html": [
       "<p><strong><pre style='display: inline;'>q10</pre></strong> passed!</p>"
      ],
      "text/plain": [
       "q10 results: All test cases passed!"
      ]
     },
     "execution_count": 84,
     "metadata": {},
     "output_type": "execute_result"
    }
   ],
   "source": [
    "grader.check(\"q10\")"
   ]
  },
  {
   "cell_type": "markdown",
   "id": "bbe093e2",
   "metadata": {
    "deletable": false,
    "editable": false
   },
   "source": [
    "**Question 11:** Who are the `directors` of the **last** movie in `small_movies_data`?\n",
    "\n",
    "Your output **must** be a **list** of **string(s)**."
   ]
  },
  {
   "cell_type": "code",
   "execution_count": 85,
   "id": "d877d8d2",
   "metadata": {
    "tags": []
   },
   "outputs": [
    {
     "data": {
      "text/plain": [
       "['Theodore Melfi']"
      ]
     },
     "execution_count": 85,
     "metadata": {},
     "output_type": "execute_result"
    }
   ],
   "source": [
    "# compute and store the answer in the variable 'last_movie_directors_small_movies', then display it\n",
    "last_movie_directors_small_movies=small_movies_data[-1][\"directors\"]\n",
    "last_movie_directors_small_movies"
   ]
  },
  {
   "cell_type": "code",
   "execution_count": 86,
   "id": "a3521cab",
   "metadata": {
    "deletable": false,
    "editable": false
   },
   "outputs": [
    {
     "data": {
      "text/html": [
       "<p><strong><pre style='display: inline;'>q11</pre></strong> passed!</p>"
      ],
      "text/plain": [
       "q11 results: All test cases passed!"
      ]
     },
     "execution_count": 86,
     "metadata": {},
     "output_type": "execute_result"
    }
   ],
   "source": [
    "grader.check(\"q11\")"
   ]
  },
  {
   "cell_type": "markdown",
   "id": "2034bd93",
   "metadata": {
    "deletable": false,
    "editable": false
   },
   "source": [
    "#### Now that you’ve made it this far, your functions must be working pretty well with small datasets. Next, let's try a much bigger dataset!\n",
    "\n",
    "Run the following code to open the full dataset:"
   ]
  },
  {
   "cell_type": "code",
   "execution_count": 87,
   "id": "c483018d",
   "metadata": {},
   "outputs": [
    {
     "data": {
      "text/plain": [
       "102668"
      ]
     },
     "execution_count": 87,
     "metadata": {},
     "output_type": "execute_result"
    }
   ],
   "source": [
    "movies = get_movies(\"movies.csv\", \"mapping.csv\")\n",
    "len(movies)"
   ]
  },
  {
   "cell_type": "markdown",
   "id": "3de7014e",
   "metadata": {
    "deletable": false,
    "editable": false
   },
   "source": [
    "As the files are very large, this cell is expected to take around ten seconds to run. If it takes much longer (say, around a minute), then you will **need** to **optimize** your `get_movies` function so it runs faster.\n",
    "\n",
    "**Warning**: You are **not** allowed to call `get_movies` more than once on the full dataset (`movies.csv` and `mapping.csv`) in your notebook. Instead, reuse the `movies` variable, which is more efficient. You will **lose points** during manual review if you call `get_movies` again on these files.\n",
    "\n",
    "**Warning:** Do **not** display the value of the variable `movies` **anywhere** in your notebook. It will take up a **lot** of space, and your **Gradescope code will not be displayed** for grading. So, you will receive **zero points** for p8. Instead you should verify `movies` has the correct value by looking at a small *slice* of the **list** as in the question below. "
   ]
  },
  {
   "cell_type": "markdown",
   "id": "6eb99345",
   "metadata": {
    "deletable": false,
    "editable": false
   },
   "source": [
    "**Question 12:** What are the movies in `movies[20200:20220]`?\n",
    "\n",
    "Your answer should be a *list* of *dictionaries* that follows the format below:\n",
    "\n",
    "```python\n",
    "[{'title': 'Aliens in the Attic',\n",
    "  'year': 2009,\n",
    "  'duration': 86,\n",
    "  'genres': ['Adventure', 'Comedy', 'Family'],\n",
    "  'rating': 5.4,\n",
    "  'directors': ['John Schultz'],\n",
    "  'cast': ['Ashley Tisdale',\n",
    "   'Robert Hoffman',\n",
    "   'Carter Jenkins',\n",
    "   'Austin Butler']},\n",
    " {'title': 'Dark Buenos Aires',\n",
    "  'year': 2010,\n",
    "  'duration': 90,\n",
    "  'genres': ['Thriller'],\n",
    "  'rating': 4.8,\n",
    "  'directors': ['Ramon Térmens'],\n",
    "  'cast': ['Francesc Garrido',\n",
    "   'Daniel Faraldo',\n",
    "   'Natasha Yarovenko',\n",
    "   'Julieta Díaz']},\n",
    " ...\n",
    "]\n",
    "```"
   ]
  },
  {
   "cell_type": "code",
   "execution_count": 88,
   "id": "acbc0896",
   "metadata": {
    "tags": []
   },
   "outputs": [
    {
     "data": {
      "text/plain": [
       "[{'title': 'Aliens in the Attic',\n",
       "  'year': 2009,\n",
       "  'duration': 86,\n",
       "  'genres': ['Adventure', 'Comedy', 'Family'],\n",
       "  'rating': 5.4,\n",
       "  'directors': ['John Schultz'],\n",
       "  'cast': ['Ashley Tisdale',\n",
       "   'Robert Hoffman',\n",
       "   'Carter Jenkins',\n",
       "   'Austin Butler']},\n",
       " {'title': 'Dark Buenos Aires',\n",
       "  'year': 2010,\n",
       "  'duration': 90,\n",
       "  'genres': ['Thriller'],\n",
       "  'rating': 4.8,\n",
       "  'directors': ['Ramon Térmens'],\n",
       "  'cast': ['Francesc Garrido',\n",
       "   'Daniel Faraldo',\n",
       "   'Natasha Yarovenko',\n",
       "   'Julieta Díaz']},\n",
       " {'title': 'The Bank Shot',\n",
       "  'year': 1974,\n",
       "  'duration': 83,\n",
       "  'genres': ['Comedy', 'Crime'],\n",
       "  'rating': 5.4,\n",
       "  'directors': ['Gower Champion'],\n",
       "  'cast': ['George C. Scott', 'Joanna Cassidy', 'Sorrell Booke', 'G. Wood']},\n",
       " {'title': 'Complicity',\n",
       "  'year': 2013,\n",
       "  'duration': 81,\n",
       "  'genres': ['Drama', 'Thriller'],\n",
       "  'rating': 4.1,\n",
       "  'directors': ['C.B. Harding'],\n",
       "  'cast': ['Sean Young', 'Jenna Boyd', 'Heather Hemmens', 'Haley Ramm']},\n",
       " {'title': \"Russia's Toughest Prisons\",\n",
       "  'year': 2011,\n",
       "  'duration': 60,\n",
       "  'genres': ['Documentary'],\n",
       "  'rating': 6.5,\n",
       "  'directors': ['Anna Rodzinski'],\n",
       "  'cast': ['Alexander Brandon']},\n",
       " {'title': 'Broken Soldier',\n",
       "  'year': 2022,\n",
       "  'duration': 93,\n",
       "  'genres': ['Drama', 'Thriller'],\n",
       "  'rating': 3.4,\n",
       "  'directors': ['Matthew Coppola'],\n",
       "  'cast': ['Mark Kassen', 'Sophie Turner', 'Ray Liotta', 'Ivana Milicevic']},\n",
       " {'title': 'Dear John',\n",
       "  'year': 1988,\n",
       "  'duration': 108,\n",
       "  'genres': ['Horror', 'Thriller'],\n",
       "  'rating': 4.4,\n",
       "  'directors': ['Catherine Ord'],\n",
       "  'cast': ['William Bledsoe',\n",
       "   'Valerie Buhagiar',\n",
       "   'Stan Lake',\n",
       "   'Thomas Rickert',\n",
       "   'Daniel MacIvor',\n",
       "   'David Maclean',\n",
       "   'Evelyn Kaye']},\n",
       " {'title': 'Strange Cargo',\n",
       "  'year': 1936,\n",
       "  'duration': 68,\n",
       "  'genres': ['Crime', 'Drama'],\n",
       "  'rating': 7.2,\n",
       "  'directors': ['Lawrence Huntington'],\n",
       "  'cast': ['Kenneth Warrington',\n",
       "   'Kathleen Kelly',\n",
       "   'George Mozart',\n",
       "   'Moore Marriott',\n",
       "   'George Sanders',\n",
       "   'Richard Norris',\n",
       "   'Geoffrey Clarke']},\n",
       " {'title': 'The Man from Colorado',\n",
       "  'year': 1948,\n",
       "  'duration': 100,\n",
       "  'genres': ['Romance', 'Western'],\n",
       "  'rating': 6.6,\n",
       "  'directors': ['Henry Levin'],\n",
       "  'cast': ['Glenn Ford', 'William Holden', 'Ellen Drew', 'Ray Collins']},\n",
       " {'title': 'The Wild Ones',\n",
       "  'year': 2012,\n",
       "  'duration': 100,\n",
       "  'genres': ['Drama'],\n",
       "  'rating': 6.2,\n",
       "  'directors': ['Patricia Ferreira'],\n",
       "  'cast': ['Marina Comas', 'Àlex Monner', 'Albert Baró', 'Aina Clotet']},\n",
       " {'title': 'Panama Sugar',\n",
       "  'year': 1990,\n",
       "  'duration': 110,\n",
       "  'genres': ['Comedy'],\n",
       "  'rating': 4.4,\n",
       "  'directors': ['Marcello Avallone'],\n",
       "  'cast': ['Scott Plank',\n",
       "   'Oliver Reed',\n",
       "   'Lucrezia Lante della Rovere',\n",
       "   'Vittorio Amandola']},\n",
       " {'title': 'Maa Beti',\n",
       "  'year': 1986,\n",
       "  'duration': 151,\n",
       "  'genres': ['Drama'],\n",
       "  'rating': 5.5,\n",
       "  'directors': ['Kalpataru'],\n",
       "  'cast': ['Shashi Kapoor',\n",
       "   'Meenakshi Sheshadri',\n",
       "   'Sharmila Tagore',\n",
       "   'Tanuja Samarth']},\n",
       " {'title': 'Rites of Passage',\n",
       "  'year': 2013,\n",
       "  'duration': 80,\n",
       "  'genres': ['Drama'],\n",
       "  'rating': 6.6,\n",
       "  'directors': ['Phillip Crawford', 'Mary Callaghan', 'Gemma Parsons'],\n",
       "  'cast': ['Chaise Barbaric', 'Skie Carlson', 'Tiran Dingle', 'Elias Rees']},\n",
       " {'title': 'All in',\n",
       "  'year': 2005,\n",
       "  'duration': 95,\n",
       "  'genres': ['Comedy'],\n",
       "  'rating': 7.0,\n",
       "  'directors': ['Reggie Jordan'],\n",
       "  'cast': ['Edward Asner', 'Ahmed Ahmed', 'Jim Formanek', 'Matt Godecker']},\n",
       " {'title': 'The State of Texas vs. Melissa',\n",
       "  'year': 2020,\n",
       "  'duration': 102,\n",
       "  'genres': ['Documentary'],\n",
       "  'rating': 5.8,\n",
       "  'directors': ['Cyril Thomas', 'Sabrina Van Tassel'],\n",
       "  'cast': ['Norma Jean Farley',\n",
       "   'Peter Gilman',\n",
       "   'Bobby Lucio',\n",
       "   'Daniella Lucio']},\n",
       " {'title': 'Bad Day',\n",
       "  'year': 2008,\n",
       "  'duration': 98,\n",
       "  'genres': ['Crime', 'Thriller'],\n",
       "  'rating': 4.1,\n",
       "  'directors': ['Ian David Diaz'],\n",
       "  'cast': ['Claire Goose', 'Donna Air', 'Anthony Ofoegbu', 'George Calil']},\n",
       " {'title': 'The Stonecutter',\n",
       "  'year': 2000,\n",
       "  'duration': 95,\n",
       "  'genres': ['Drama'],\n",
       "  'rating': 8.3,\n",
       "  'directors': ['Stephen Erickson'],\n",
       "  'cast': ['Michael Cavalieri',\n",
       "   'Trisha Melynkov',\n",
       "   'Harold Cannon',\n",
       "   'Karin Argoud']},\n",
       " {'title': \"Thunder in God's Country\",\n",
       "  'year': 1951,\n",
       "  'duration': 67,\n",
       "  'genres': ['Western'],\n",
       "  'rating': 6.9,\n",
       "  'directors': ['George Blair'],\n",
       "  'cast': ['Paul Harvey',\n",
       "   'Rex Allen',\n",
       "   'Mary Ellen Kay',\n",
       "   'Buddy Ebsen',\n",
       "   'Ian MacDonald']},\n",
       " {'title': 'When Elephants Fight',\n",
       "  'year': 2015,\n",
       "  'duration': 90,\n",
       "  'genres': ['Documentary', 'News'],\n",
       "  'rating': 7.7,\n",
       "  'directors': ['Mike Ramsdell'],\n",
       "  'cast': ['Robin Wright']},\n",
       " {'title': 'To Gillian on Her 37th Birthday',\n",
       "  'year': 1996,\n",
       "  'duration': 93,\n",
       "  'genres': ['Drama', 'Fantasy', 'Romance'],\n",
       "  'rating': 5.8,\n",
       "  'directors': ['Michael Pressman'],\n",
       "  'cast': ['Peter Gallagher',\n",
       "   'Michelle Pfeiffer',\n",
       "   'Claire Danes',\n",
       "   'Laurie Fortier']}]"
      ]
     },
     "execution_count": 88,
     "metadata": {},
     "output_type": "execute_result"
    }
   ],
   "source": [
    "# compute and store the answer in the variable 'movies_20200_20220', then display it\n",
    "movies_20200_20220=movies[20200:20220]\n",
    "movies_20200_20220"
   ]
  },
  {
   "cell_type": "code",
   "execution_count": 89,
   "id": "6568df9e",
   "metadata": {
    "deletable": false,
    "editable": false
   },
   "outputs": [
    {
     "data": {
      "text/html": [
       "<p><strong><pre style='display: inline;'>q12</pre></strong> passed!</p>"
      ],
      "text/plain": [
       "q12 results: All test cases passed!"
      ]
     },
     "execution_count": 89,
     "metadata": {},
     "output_type": "execute_result"
    }
   ],
   "source": [
    "grader.check(\"q12\")"
   ]
  },
  {
   "cell_type": "markdown",
   "id": "4829a1a9",
   "metadata": {
    "deletable": false,
    "editable": false
   },
   "source": [
    "**Question 13:** What is the **number** of movies released in the `year` *2018*?\n",
    "\n",
    "Your outuput must be an **int**."
   ]
  },
  {
   "cell_type": "code",
   "execution_count": 90,
   "id": "8362c104",
   "metadata": {
    "tags": []
   },
   "outputs": [
    {
     "data": {
      "text/plain": [
       "4262"
      ]
     },
     "execution_count": 90,
     "metadata": {},
     "output_type": "execute_result"
    }
   ],
   "source": [
    "# compute and store the answer in the variable 'num_movies_2018', then display it\n",
    "num_movies_2018=0\n",
    "\n",
    "for eachmov in movies:\n",
    "    for keyq13 in eachmov:\n",
    "        if eachmov[keyq13]==2018:\n",
    "            num_movies_2018+=1\n",
    "\n",
    "num_movies_2018"
   ]
  },
  {
   "cell_type": "code",
   "execution_count": 91,
   "id": "9835ddc3",
   "metadata": {
    "deletable": false,
    "editable": false
   },
   "outputs": [
    {
     "data": {
      "text/html": [
       "<p><strong><pre style='display: inline;'>q13</pre></strong> passed!</p>"
      ],
      "text/plain": [
       "q13 results: All test cases passed!"
      ]
     },
     "execution_count": 91,
     "metadata": {},
     "output_type": "execute_result"
    }
   ],
   "source": [
    "grader.check(\"q13\")"
   ]
  },
  {
   "cell_type": "markdown",
   "id": "d506a2e8",
   "metadata": {
    "deletable": false,
    "editable": false
   },
   "source": [
    "### Function 4: `find_specific_movies(movies, keyword)`\n",
    "\n",
    "Now that we have created this data structure `movies`, we can start doing some fun things with the data!\n",
    "We will continue working on this data structure for the next project (p9) as well.\n",
    "\n",
    "Let us now use this data structure `movies` to create a **search bar** like the one in Netflix!\n",
    "**Do not change the below function in any way**.\n",
    "This function takes in a keyword like a substring of a title, a genre, or the name of a person, and returns a list of relevant movies with that title, genre, or cast member/director.\n",
    "\n",
    "**Warning:** As `movies` is very large, the function `find_specific_movies` may take five to ten seconds to run. This is normal and you should not panic if it takes a while to run."
   ]
  },
  {
   "cell_type": "code",
   "execution_count": 92,
   "id": "60bb789b",
   "metadata": {
    "deletable": false,
    "editable": false
   },
   "outputs": [],
   "source": [
    "# DO NOT EDIT OR REDEFINE THIS FUNCTION\n",
    "def find_specific_movies(movies, keyword):\n",
    "    idx = 0\n",
    "    while idx < len(movies):\n",
    "        movie = movies[idx]\n",
    "        # note: \\ enables you split a long line of code into two lines\n",
    "        if (keyword not in movie['title']) and (keyword not in movie[\"genres\"]) \\\n",
    "        and (keyword not in movie[\"directors\"]) and (keyword not in movie[\"cast\"]):\n",
    "            movies.pop(idx)\n",
    "        else:\n",
    "            idx += 1\n",
    "    return movies"
   ]
  },
  {
   "cell_type": "code",
   "execution_count": 93,
   "id": "9b4fcd42",
   "metadata": {},
   "outputs": [],
   "source": [
    "# movies[1:3]"
   ]
  },
  {
   "cell_type": "markdown",
   "id": "4916323f",
   "metadata": {
    "deletable": false,
    "editable": false
   },
   "source": [
    "**Important:** While it might look as if we are making it easy for you by providing `find_specific_movies`, there is a catch! There is a subtle flaw with the way the function is defined, that will cause you issues in the next two questions. If you can spot this flaw by just observing the definition of `find_specific_movies`, congratulations! Since you are **not** allowed to modify the function definition, you will have to be a little clever with your function arguments to sidestep the flaw with the function definition.\n",
    "\n",
    "If you don't see anything wrong with the function just yet, don't worry about it. Solve q14 and q15 as you normally would, and see if you notice anything suspicious about your answers."
   ]
  },
  {
   "cell_type": "markdown",
   "id": "55c4a4c4",
   "metadata": {
    "deletable": false,
    "editable": false
   },
   "source": [
    "**Question 14:** List all the movies that *Katharine Hepburn* acted in.\n",
    "\n",
    "Your answer **must** be a **list** of **dictionaries**.\n",
    "\n",
    "You **must** answer this question by calling `find_specific_movies` with the keyword `\"Katharine Hepburn\"`.\n",
    "\n",
    "The `find_specific_movies` function is expected to take around 5 seconds to run, so do not panic if it takes so long to run."
   ]
  },
  {
   "cell_type": "code",
   "execution_count": 94,
   "id": "4efab1a7",
   "metadata": {
    "tags": []
   },
   "outputs": [
    {
     "data": {
      "text/plain": [
       "[{'title': 'Little Women',\n",
       "  'year': 1933,\n",
       "  'duration': 115,\n",
       "  'genres': ['Drama', 'Family', 'Romance'],\n",
       "  'rating': 7.2,\n",
       "  'directors': ['George Cukor'],\n",
       "  'cast': ['Katharine Hepburn',\n",
       "   'Joan Bennett',\n",
       "   'Paul Lukas',\n",
       "   'Edna May Oliver']},\n",
       " {'title': 'Desk Set',\n",
       "  'year': 1957,\n",
       "  'duration': 103,\n",
       "  'genres': ['Comedy', 'Romance'],\n",
       "  'rating': 7.2,\n",
       "  'directors': ['Walter Lang'],\n",
       "  'cast': ['Spencer Tracy',\n",
       "   'Katharine Hepburn',\n",
       "   'Gig Young',\n",
       "   'Joan Blondell']},\n",
       " {'title': 'Woman of the Year',\n",
       "  'year': 1942,\n",
       "  'duration': 114,\n",
       "  'genres': ['Comedy', 'Drama', 'Romance'],\n",
       "  'rating': 7.2,\n",
       "  'directors': ['George Stevens'],\n",
       "  'cast': ['Spencer Tracy',\n",
       "   'Katharine Hepburn',\n",
       "   'Fay Bainter',\n",
       "   'Reginald Owen']},\n",
       " {'title': 'Quality Street',\n",
       "  'year': 1937,\n",
       "  'duration': 83,\n",
       "  'genres': ['Comedy', 'Drama', 'Romance'],\n",
       "  'rating': 6.2,\n",
       "  'directors': ['George Stevens'],\n",
       "  'cast': ['Katharine Hepburn', 'Franchot Tone', 'Eric Blore', 'Fay Bainter']},\n",
       " {'title': 'Love Affair',\n",
       "  'year': 1994,\n",
       "  'duration': 108,\n",
       "  'genres': ['Comedy', 'Drama', 'Romance'],\n",
       "  'rating': 6.0,\n",
       "  'directors': ['Glenn Gordon Caron'],\n",
       "  'cast': ['Warren Beatty',\n",
       "   'Annette Bening',\n",
       "   'Katharine Hepburn',\n",
       "   'Garry Shandling']},\n",
       " {'title': \"Guess Who's Coming to Dinner\",\n",
       "  'year': 1967,\n",
       "  'duration': 108,\n",
       "  'genres': ['Comedy', 'Drama'],\n",
       "  'rating': 7.8,\n",
       "  'directors': ['Stanley Kramer'],\n",
       "  'cast': ['Spencer Tracy',\n",
       "   'Sidney Poitier',\n",
       "   'Katharine Hepburn',\n",
       "   'Katharine Houghton']},\n",
       " {'title': 'Dragon Seed',\n",
       "  'year': 1944,\n",
       "  'duration': 148,\n",
       "  'genres': ['Drama', 'History', 'War'],\n",
       "  'rating': 6.0,\n",
       "  'directors': ['Harold S. Bucquet', 'Jack Conway'],\n",
       "  'cast': ['Katharine Hepburn',\n",
       "   'Walter Huston',\n",
       "   'Aline MacMahon',\n",
       "   'Akim Tamiroff']},\n",
       " {'title': 'The Trojan Women',\n",
       "  'year': 1971,\n",
       "  'duration': 105,\n",
       "  'genres': ['Drama'],\n",
       "  'rating': 6.8,\n",
       "  'directors': ['Michael Cacoyannis'],\n",
       "  'cast': ['Katharine Hepburn',\n",
       "   'Vanessa Redgrave',\n",
       "   'Geneviève Bujold',\n",
       "   'Irene Papas']},\n",
       " {'title': 'The Madwoman of Chaillot',\n",
       "  'year': 1969,\n",
       "  'duration': 132,\n",
       "  'genres': ['Comedy', 'Drama'],\n",
       "  'rating': 6.0,\n",
       "  'directors': ['Bryan Forbes'],\n",
       "  'cast': ['Katharine Hepburn',\n",
       "   'Paul Henreid',\n",
       "   'Oskar Homolka',\n",
       "   'Yul Brynner']},\n",
       " {'title': 'Without Love',\n",
       "  'year': 1945,\n",
       "  'duration': 111,\n",
       "  'genres': ['Comedy', 'Romance'],\n",
       "  'rating': 6.6,\n",
       "  'directors': ['Harold S. Bucquet'],\n",
       "  'cast': ['Spencer Tracy',\n",
       "   'Katharine Hepburn',\n",
       "   'Lucille Ball',\n",
       "   'Keenan Wynn']},\n",
       " {'title': 'The Philadelphia Story',\n",
       "  'year': 1940,\n",
       "  'duration': 112,\n",
       "  'genres': ['Comedy', 'Romance'],\n",
       "  'rating': 7.9,\n",
       "  'directors': ['George Cukor'],\n",
       "  'cast': ['Cary Grant', 'Katharine Hepburn', 'James Stewart', 'Ruth Hussey']},\n",
       " {'title': 'Pat and Mike',\n",
       "  'year': 1952,\n",
       "  'duration': 95,\n",
       "  'genres': ['Comedy', 'Romance', 'Sport'],\n",
       "  'rating': 6.9,\n",
       "  'directors': ['George Cukor'],\n",
       "  'cast': ['Spencer Tracy', 'Katharine Hepburn', 'Aldo Ray', 'William Ching']},\n",
       " {'title': 'The Little Minister',\n",
       "  'year': 1934,\n",
       "  'duration': 110,\n",
       "  'genres': ['Drama', 'Romance'],\n",
       "  'rating': 6.2,\n",
       "  'directors': ['Richard Wallace'],\n",
       "  'cast': ['Katharine Hepburn', 'John Beal', 'Alan Hale', 'Donald Crisp']},\n",
       " {'title': 'A Bill of Divorcement',\n",
       "  'year': 1932,\n",
       "  'duration': 70,\n",
       "  'genres': ['Drama'],\n",
       "  'rating': 6.5,\n",
       "  'directors': ['George Cukor'],\n",
       "  'cast': ['John Barrymore',\n",
       "   'Katharine Hepburn',\n",
       "   'Billie Burke',\n",
       "   'David Manners']},\n",
       " {'title': 'State of the Union',\n",
       "  'year': 1948,\n",
       "  'duration': 124,\n",
       "  'genres': ['Comedy', 'Drama'],\n",
       "  'rating': 7.2,\n",
       "  'directors': ['Frank Capra'],\n",
       "  'cast': ['Spencer Tracy',\n",
       "   'Katharine Hepburn',\n",
       "   'Van Johnson',\n",
       "   'Angela Lansbury']},\n",
       " {'title': 'The Sea of Grass',\n",
       "  'year': 1947,\n",
       "  'duration': 123,\n",
       "  'genres': ['Drama', 'Western'],\n",
       "  'rating': 6.3,\n",
       "  'directors': ['Elia Kazan'],\n",
       "  'cast': ['Katharine Hepburn',\n",
       "   'Spencer Tracy',\n",
       "   'Robert Walker',\n",
       "   'Melvyn Douglas']},\n",
       " {'title': 'Spitfire',\n",
       "  'year': 1934,\n",
       "  'duration': 87,\n",
       "  'genres': ['Drama'],\n",
       "  'rating': 5.4,\n",
       "  'directors': ['John Cromwell'],\n",
       "  'cast': ['Katharine Hepburn',\n",
       "   'Robert Young',\n",
       "   'Ralph Bellamy',\n",
       "   'Martha Sleeper']},\n",
       " {'title': 'Bringing Up Baby',\n",
       "  'year': 1938,\n",
       "  'duration': 102,\n",
       "  'genres': ['Comedy'],\n",
       "  'rating': 7.8,\n",
       "  'directors': ['Howard Hawks'],\n",
       "  'cast': ['Katharine Hepburn',\n",
       "   'Cary Grant',\n",
       "   'Charles Ruggles',\n",
       "   'Walter Catlett']},\n",
       " {'title': 'A Delicate Balance',\n",
       "  'year': 1973,\n",
       "  'duration': 133,\n",
       "  'genres': ['Drama'],\n",
       "  'rating': 6.6,\n",
       "  'directors': ['Tony Richardson'],\n",
       "  'cast': ['Katharine Hepburn', 'Paul Scofield', 'Lee Remick', 'Kate Reid']},\n",
       " {'title': 'Olly, Olly, Oxen Free',\n",
       "  'year': 1978,\n",
       "  'duration': 89,\n",
       "  'genres': ['Adventure'],\n",
       "  'rating': 5.3,\n",
       "  'directors': ['Richard A. Colla'],\n",
       "  'cast': ['Katharine Hepburn',\n",
       "   'Kevin McKenzie',\n",
       "   'Dennis Dimster',\n",
       "   'Peter Kilman']},\n",
       " {'title': 'Keeper of the Flame',\n",
       "  'year': 1942,\n",
       "  'duration': 100,\n",
       "  'genres': ['Drama', 'Mystery'],\n",
       "  'rating': 6.7,\n",
       "  'directors': ['George Cukor'],\n",
       "  'cast': ['Spencer Tracy',\n",
       "   'Katharine Hepburn',\n",
       "   'Richard Whorf',\n",
       "   'Margaret Wycherly']},\n",
       " {'title': 'Christopher Strong',\n",
       "  'year': 1933,\n",
       "  'duration': 78,\n",
       "  'genres': ['Action', 'Adventure', 'Drama'],\n",
       "  'rating': 6.3,\n",
       "  'directors': ['Dorothy Arzner'],\n",
       "  'cast': ['Katharine Hepburn',\n",
       "   'Colin Clive',\n",
       "   'Billie Burke',\n",
       "   'Helen Chandler']},\n",
       " {'title': 'The Rainmaker',\n",
       "  'year': 1956,\n",
       "  'duration': 121,\n",
       "  'genres': ['Romance', 'Western'],\n",
       "  'rating': 6.9,\n",
       "  'directors': ['Joseph Anthony'],\n",
       "  'cast': ['Burt Lancaster',\n",
       "   'Katharine Hepburn',\n",
       "   'Wendell Corey',\n",
       "   'Lloyd Bridges']},\n",
       " {'title': 'Summertime',\n",
       "  'year': 1955,\n",
       "  'duration': 102,\n",
       "  'genres': ['Comedy', 'Drama', 'Romance'],\n",
       "  'rating': 7.1,\n",
       "  'directors': ['David Lean'],\n",
       "  'cast': ['Katharine Hepburn',\n",
       "   'Rossano Brazzi',\n",
       "   'Isa Miranda',\n",
       "   'Darren McGavin']},\n",
       " {'title': 'On Golden Pond',\n",
       "  'year': 1981,\n",
       "  'duration': 109,\n",
       "  'genres': ['Drama'],\n",
       "  'rating': 7.6,\n",
       "  'directors': ['Mark Rydell'],\n",
       "  'cast': ['Katharine Hepburn', 'Henry Fonda', 'Jane Fonda', 'Doug McKeon']},\n",
       " {'title': 'Suddenly, Last Summer',\n",
       "  'year': 1959,\n",
       "  'duration': 114,\n",
       "  'genres': ['Drama', 'Mystery', 'Thriller'],\n",
       "  'rating': 7.5,\n",
       "  'directors': ['Joseph L. Mankiewicz'],\n",
       "  'cast': ['Elizabeth Taylor',\n",
       "   'Katharine Hepburn',\n",
       "   'Montgomery Clift',\n",
       "   'Albert Dekker']},\n",
       " {'title': 'Mary of Scotland',\n",
       "  'year': 1936,\n",
       "  'duration': 123,\n",
       "  'genres': ['Biography', 'Drama', 'History'],\n",
       "  'rating': 6.3,\n",
       "  'directors': ['John Ford', 'Leslie Goodwins'],\n",
       "  'cast': ['Katharine Hepburn',\n",
       "   'Fredric March',\n",
       "   'Florence Eldridge',\n",
       "   'Douglas Walton']},\n",
       " {'title': 'Morning Glory',\n",
       "  'year': 1933,\n",
       "  'duration': 74,\n",
       "  'genres': ['Drama', 'Romance'],\n",
       "  'rating': 6.4,\n",
       "  'directors': ['Lowell Sherman'],\n",
       "  'cast': ['Katharine Hepburn',\n",
       "   'Douglas Fairbanks Jr.',\n",
       "   'Adolphe Menjou',\n",
       "   'Mary Duncan']},\n",
       " {'title': 'The Lion in Winter',\n",
       "  'year': 1968,\n",
       "  'duration': 134,\n",
       "  'genres': ['Biography', 'Drama', 'History'],\n",
       "  'rating': 7.9,\n",
       "  'directors': ['Anthony Harvey'],\n",
       "  'cast': [\"Peter O'Toole\",\n",
       "   'Katharine Hepburn',\n",
       "   'Anthony Hopkins',\n",
       "   'John Castle']},\n",
       " {'title': 'Break of Hearts',\n",
       "  'year': 1935,\n",
       "  'duration': 78,\n",
       "  'genres': ['Drama', 'Romance'],\n",
       "  'rating': 5.8,\n",
       "  'directors': ['Philip Moeller'],\n",
       "  'cast': ['Katharine Hepburn',\n",
       "   'Charles Boyer',\n",
       "   'John Beal',\n",
       "   'Jean Hersholt']},\n",
       " {'title': 'The Iron Petticoat',\n",
       "  'year': 1956,\n",
       "  'duration': 87,\n",
       "  'genres': ['Comedy'],\n",
       "  'rating': 5.1,\n",
       "  'directors': ['Ralph Thomas'],\n",
       "  'cast': ['Bob Hope',\n",
       "   'Katharine Hepburn',\n",
       "   'Noelle Middleton',\n",
       "   'James Robertson Justice']},\n",
       " {'title': 'Stage Door',\n",
       "  'year': 1937,\n",
       "  'duration': 92,\n",
       "  'genres': ['Comedy', 'Drama'],\n",
       "  'rating': 7.7,\n",
       "  'directors': ['Gregory La Cava'],\n",
       "  'cast': ['Katharine Hepburn',\n",
       "   'Ginger Rogers',\n",
       "   'Adolphe Menjou',\n",
       "   'Gail Patrick']},\n",
       " {'title': 'Rooster Cogburn',\n",
       "  'year': 1975,\n",
       "  'duration': 108,\n",
       "  'genres': ['Adventure', 'Drama', 'Western'],\n",
       "  'rating': 6.8,\n",
       "  'directors': ['Stuart Millar'],\n",
       "  'cast': ['John Wayne',\n",
       "   'Katharine Hepburn',\n",
       "   'Anthony Zerbe',\n",
       "   'Richard Jordan']},\n",
       " {'title': \"Long Day's Journey Into Night\",\n",
       "  'year': 1962,\n",
       "  'duration': 174,\n",
       "  'genres': ['Drama'],\n",
       "  'rating': 7.5,\n",
       "  'directors': ['Sidney Lumet'],\n",
       "  'cast': ['Katharine Hepburn',\n",
       "   'Ralph Richardson',\n",
       "   'Jason Robards',\n",
       "   'Dean Stockwell']},\n",
       " {'title': 'Sylvia Scarlett',\n",
       "  'year': 1935,\n",
       "  'duration': 95,\n",
       "  'genres': ['Comedy', 'Drama', 'Romance'],\n",
       "  'rating': 6.2,\n",
       "  'directors': ['George Cukor'],\n",
       "  'cast': ['Katharine Hepburn', 'Cary Grant', 'Brian Aherne', 'Edmund Gwenn']}]"
      ]
     },
     "execution_count": 94,
     "metadata": {},
     "output_type": "execute_result"
    }
   ],
   "source": [
    "# compute and store the answer in the variable 'hepburn_films', then display it\n",
    "movq14=copy.deepcopy(movies)\n",
    "hepburn_films=find_specific_movies(movq14,\"Katharine Hepburn\")\n",
    "hepburn_films"
   ]
  },
  {
   "cell_type": "code",
   "execution_count": 95,
   "id": "ebc41df3",
   "metadata": {
    "deletable": false,
    "editable": false
   },
   "outputs": [
    {
     "data": {
      "text/html": [
       "<p><strong><pre style='display: inline;'>q14</pre></strong> passed!</p>"
      ],
      "text/plain": [
       "q14 results: All test cases passed!"
      ]
     },
     "execution_count": 95,
     "metadata": {},
     "output_type": "execute_result"
    }
   ],
   "source": [
    "grader.check(\"q14\")"
   ]
  },
  {
   "cell_type": "markdown",
   "id": "25b47805",
   "metadata": {
    "deletable": false,
    "editable": false
   },
   "source": [
    "**Question 15:** List all the movies that contain the string *Wisconsin* in their `title`.\n",
    "\n",
    "Your answer **must** be a **list** of **dictionaries**.\n",
    "\n",
    "You **must** answer this question by calling `find_specific_movies` with the keyword `\"Wisconsin\"`.\n",
    "\n",
    "**Important Hint:**  If you did not notice the flaw with the definition of `find_specific_movies` before, you are likely to have run into an issue with this quetsion. It is likely that you will see that your output for this question is an empty list. To see why this happened, find the value of `len(movies)` and see if it is equal to the value you found earlier.\n",
    "\n",
    "Remember that you are **not** allowed to modify the definition of `find_specific_movies`. You will need to cleverly pass arguments to `find_specific_movies` (in both q14 and q15) to ensure that `movies` does not get modified by the function calls. Take a look at the [lecture slides](https://git.doit.wisc.edu/cdis/cs/courses/cs220/cs220-lecture-material/-/tree/main/f22/meena_lec_notes/lec-21) from October 26 for more hints. You will have to Restart and Run all your cells to see the correct output after you fix your answer for q14 (and q15)."
   ]
  },
  {
   "cell_type": "code",
   "execution_count": 96,
   "id": "3083037b",
   "metadata": {},
   "outputs": [],
   "source": [
    "#len(movies)"
   ]
  },
  {
   "cell_type": "code",
   "execution_count": 97,
   "id": "ff176cc8",
   "metadata": {
    "tags": []
   },
   "outputs": [
    {
     "data": {
      "text/plain": [
       "[{'title': 'Wisconsin Death Trip',\n",
       "  'year': 1999,\n",
       "  'duration': 76,\n",
       "  'genres': ['Biography', 'Crime', 'Drama'],\n",
       "  'rating': 6.6,\n",
       "  'directors': ['James Marsh'],\n",
       "  'cast': ['Ian Holm', 'Jeffrey Golden', 'Jo Vukelich', 'Marcus Monroe']},\n",
       " {'title': 'Bootleg Wisconsin',\n",
       "  'year': 2008,\n",
       "  'duration': 73,\n",
       "  'genres': ['Drama'],\n",
       "  'rating': 7.7,\n",
       "  'directors': ['Brandon Linden'],\n",
       "  'cast': ['Lepolion Henderson',\n",
       "   'Angela Harris',\n",
       "   'Alissa Bailey',\n",
       "   'Joyce Porter']},\n",
       " {'title': 'Wisconsin Supper Clubs: An Old Fashioned Experience',\n",
       "  'year': 2011,\n",
       "  'duration': 55,\n",
       "  'genres': ['Documentary', 'History'],\n",
       "  'rating': 6.7,\n",
       "  'directors': ['Ron Faiola'],\n",
       "  'cast': ['Bun E. Carlos']},\n",
       " {'title': 'Small Town Wisconsin',\n",
       "  'year': 2020,\n",
       "  'duration': 109,\n",
       "  'genres': ['Comedy', 'Drama'],\n",
       "  'rating': 7.3,\n",
       "  'directors': ['Niels Mueller'],\n",
       "  'cast': ['David Sullivan',\n",
       "   'Bill Heck',\n",
       "   'Kristen Johnston',\n",
       "   'Cooper J. Friedman']}]"
      ]
     },
     "execution_count": 97,
     "metadata": {},
     "output_type": "execute_result"
    }
   ],
   "source": [
    "# compute and store the answer in the variable 'wisconsin_movies', then display it\n",
    "movq15=copy.deepcopy(movies)\n",
    "wisconsin_movies=find_specific_movies(movq15,\"Wisconsin\")\n",
    "wisconsin_movies"
   ]
  },
  {
   "cell_type": "code",
   "execution_count": 98,
   "id": "fea52538",
   "metadata": {
    "deletable": false,
    "editable": false
   },
   "outputs": [
    {
     "data": {
      "text/html": [
       "<p><strong><pre style='display: inline;'>q15</pre></strong> passed!</p>"
      ],
      "text/plain": [
       "q15 results: All test cases passed!"
      ]
     },
     "execution_count": 98,
     "metadata": {},
     "output_type": "execute_result"
    }
   ],
   "source": [
    "grader.check(\"q15\")"
   ]
  },
  {
   "cell_type": "markdown",
   "id": "dbab7de5",
   "metadata": {
    "deletable": false,
    "editable": false
   },
   "source": [
    "### Function 5: `bucketize_by_genre(movies)`\n",
    "\n",
    "We require you to complete the below function to answer the next several questions (this is a **requirement**, and you will **lose points** if you do not implement this function)."
   ]
  },
  {
   "cell_type": "code",
   "execution_count": 99,
   "id": "be9e9097",
   "metadata": {
    "tags": []
   },
   "outputs": [],
   "source": [
    "def bucketize_by_genre(movies):\n",
    "    \n",
    "    dog={} # dictionary of genre\n",
    "    dogl=[] # dictionary of genre (in) list\n",
    "    \n",
    "    for keyf5 in movies:\n",
    "        if dogl==[]:\n",
    "            dogl.extend(keyf5[\"genres\"])\n",
    "        elif dogl!=[]:\n",
    "            dogl=list(set(dogl).union(set(keyf5[\"genres\"])))\n",
    "\n",
    "    for elements in dogl:\n",
    "        dog[elements]=[]\n",
    "\n",
    "    for elements in dogl:\n",
    "        for items in movies:\n",
    "            if elements in items[\"genres\"]:\n",
    "                dog[elements].append(items)\n",
    "\n",
    "    return dog"
   ]
  },
  {
   "cell_type": "code",
   "execution_count": 100,
   "id": "5a7e1d4f",
   "metadata": {
    "tags": []
   },
   "outputs": [],
   "source": [
    "# call the function bucketize_by_genre on 'movies' and store it in the variable 'genre_dict'\n",
    "# do NOT display the output directly\n",
    "movfunc5=copy.deepcopy(movies)\n",
    "genre_dict = bucketize_by_genre(movfunc5)\n"
   ]
  },
  {
   "cell_type": "markdown",
   "id": "9c3019b1",
   "metadata": {
    "deletable": false,
    "editable": false
   },
   "source": [
    "**Warning:** You are **not** allowed to call `bucketize_by_genre` more than once on the full list of movies (`movies`) in your notebook. You will **lose points** during manual review if you call `bucketize_by_genre` again on `movies`."
   ]
  },
  {
   "cell_type": "markdown",
   "id": "cf588c26",
   "metadata": {
    "deletable": false,
    "editable": false
   },
   "source": [
    "**Question 16:** How many **unique** movie `genres` are present in the dataset?"
   ]
  },
  {
   "cell_type": "code",
   "execution_count": 101,
   "id": "5de4e9a6",
   "metadata": {
    "tags": []
   },
   "outputs": [
    {
     "data": {
      "text/plain": [
       "26"
      ]
     },
     "execution_count": 101,
     "metadata": {},
     "output_type": "execute_result"
    }
   ],
   "source": [
    "# compute and store the answer in the variable 'num_genres', then display it\n",
    "num_genres=len(genre_dict)\n",
    "num_genres"
   ]
  },
  {
   "cell_type": "code",
   "execution_count": 102,
   "id": "327432dd",
   "metadata": {
    "deletable": false,
    "editable": false
   },
   "outputs": [
    {
     "data": {
      "text/html": [
       "<p><strong><pre style='display: inline;'>q16</pre></strong> passed!</p>"
      ],
      "text/plain": [
       "q16 results: All test cases passed!"
      ]
     },
     "execution_count": 102,
     "metadata": {},
     "output_type": "execute_result"
    }
   ],
   "source": [
    "grader.check(\"q16\")"
   ]
  },
  {
   "cell_type": "markdown",
   "id": "c6913f3f",
   "metadata": {
    "deletable": false,
    "editable": false
   },
   "source": [
    "**Question 17:** How many *Music* movies (i.e. movies with *Music* as one of their `genres`) do we have in the dataset released **after** the `year` *2019*?\n",
    "\n",
    "Your output **must** be an **int**. You **must** use the `genre_dict` data structure to answer this question."
   ]
  },
  {
   "cell_type": "code",
   "execution_count": 103,
   "id": "719d013f",
   "metadata": {
    "tags": []
   },
   "outputs": [
    {
     "data": {
      "text/plain": [
       "153"
      ]
     },
     "execution_count": 103,
     "metadata": {},
     "output_type": "execute_result"
    }
   ],
   "source": [
    "# compute and store the answer in the variable 'music_after_2019', then display it\n",
    "l17=[]\n",
    "for genre_key in genre_dict:\n",
    "    if genre_key==\"Music\":\n",
    "        for items in genre_dict[\"Music\"]:\n",
    "            if items[\"year\"]>2019:\n",
    "                l17.append(items[\"title\"])\n",
    "\n",
    "music_after_2019=len(l17)\n",
    "music_after_2019"
   ]
  },
  {
   "cell_type": "code",
   "execution_count": 104,
   "id": "65c19782",
   "metadata": {
    "deletable": false,
    "editable": false
   },
   "outputs": [
    {
     "data": {
      "text/html": [
       "<p><strong><pre style='display: inline;'>q17</pre></strong> passed!</p>"
      ],
      "text/plain": [
       "q17 results: All test cases passed!"
      ]
     },
     "execution_count": 104,
     "metadata": {},
     "output_type": "execute_result"
    }
   ],
   "source": [
    "grader.check(\"q17\")"
   ]
  },
  {
   "cell_type": "markdown",
   "id": "a96adf0a",
   "metadata": {
    "deletable": false,
    "editable": false
   },
   "source": [
    "**Question 18:** List the `title` of all *Horror* movies (i.e. movies with *Horror* as one of their `genres`) with `rating` **larger** than *9.0* in the dataset.\n",
    "\n",
    "Your output **must** be a **list** of **strings**. You **must** use the `genre_dict` data structure to answer this question."
   ]
  },
  {
   "cell_type": "code",
   "execution_count": 105,
   "id": "475e0d81",
   "metadata": {
    "tags": []
   },
   "outputs": [
    {
     "data": {
      "text/plain": [
       "['American Barbarian',\n",
       " 'The Children Under the House',\n",
       " 'Santhoshathil Kalavaram',\n",
       " 'La Bruja',\n",
       " 'Laurence',\n",
       " 'Muttnik',\n",
       " 'Cold Calm',\n",
       " 'Heavy Makeup',\n",
       " 'Girls on a Boat',\n",
       " 'Phantom Summer']"
      ]
     },
     "execution_count": 105,
     "metadata": {},
     "output_type": "execute_result"
    }
   ],
   "source": [
    "# compute and store the answer in the variable 'horror_movies_above_9', then display it\n",
    "horror_movies_above_9=[]\n",
    "for genre_key in genre_dict:\n",
    "    if genre_key==\"Horror\":\n",
    "        for items in genre_dict[\"Horror\"]:\n",
    "            if items[\"rating\"]>9.0:\n",
    "                horror_movies_above_9.append(items[\"title\"])\n",
    "\n",
    "horror_movies_above_9"
   ]
  },
  {
   "cell_type": "code",
   "execution_count": 106,
   "id": "ca535410",
   "metadata": {
    "deletable": false,
    "editable": false
   },
   "outputs": [
    {
     "data": {
      "text/html": [
       "<p><strong><pre style='display: inline;'>q18</pre></strong> passed!</p>"
      ],
      "text/plain": [
       "q18 results: All test cases passed!"
      ]
     },
     "execution_count": 106,
     "metadata": {},
     "output_type": "execute_result"
    }
   ],
   "source": [
    "grader.check(\"q18\")"
   ]
  },
  {
   "cell_type": "markdown",
   "id": "c5f42d47",
   "metadata": {
    "deletable": false,
    "editable": false
   },
   "source": [
    "**Question 19:** Which movie `genre` does *Jennifer Aniston* play the most?\n",
    "\n",
    "There is a **unique** `genre` that *Jennifer Aniston* has played the most. You do **not** have to worry about breaking ties.\n",
    "\n",
    "**Hint:** You can combine the *two* functions above to bucketize the movies that *Jennifer Aniston* has acted in by their `genres`. Then, you can loop through each genre to find the one with the most number of movies in it."
   ]
  },
  {
   "cell_type": "code",
   "execution_count": 107,
   "id": "b0eaac53",
   "metadata": {
    "tags": []
   },
   "outputs": [
    {
     "data": {
      "text/plain": [
       "'Comedy'"
      ]
     },
     "execution_count": 107,
     "metadata": {},
     "output_type": "execute_result"
    }
   ],
   "source": [
    "# compute and store the answer in the variable 'jen_aniston_genre, then display it\n",
    "movq19=copy.deepcopy(movies)\n",
    "jamov=[]\n",
    "for items in movq19:\n",
    "    if \"Jennifer Aniston\" in items[\"cast\"]:\n",
    "        jamov.append(items)\n",
    "\n",
    "jamovbygenre=bucketize_by_genre(jamov)\n",
    "jen_aniston_genre=\"\"\n",
    "jatimes=0\n",
    "for keyq19 in jamovbygenre:\n",
    "    if len(jamovbygenre[keyq19])>jatimes:\n",
    "        jatimes=len(jamovbygenre[keyq19])\n",
    "        jen_aniston_genre=keyq19\n",
    "\n",
    "jen_aniston_genre"
   ]
  },
  {
   "cell_type": "code",
   "execution_count": 108,
   "id": "55e4c949",
   "metadata": {
    "deletable": false,
    "editable": false
   },
   "outputs": [
    {
     "data": {
      "text/html": [
       "<p><strong><pre style='display: inline;'>q19</pre></strong> passed!</p>"
      ],
      "text/plain": [
       "q19 results: All test cases passed!"
      ]
     },
     "execution_count": 108,
     "metadata": {},
     "output_type": "execute_result"
    }
   ],
   "source": [
    "grader.check(\"q19\")"
   ]
  },
  {
   "cell_type": "markdown",
   "id": "58f8029b",
   "metadata": {
    "deletable": false,
    "editable": false
   },
   "source": [
    "**Question 20:** Who are the `directors` of the *Documentary* movies with the **highest** `rating` in the movies dataset?\n",
    "\n",
    "There are **multiple** *Documentary* movies in the dataset with the joint highest rating. You **must** output a **list** of **strings** containing the **names** of **all** the `directors` of **all** these movies.\n",
    "\n",
    "**Hint:** If you are unsure how to efficiently add the elements of one list to another, take a look at the [lecture slides](https://git.doit.wisc.edu/cdis/cs/courses/cs220/cs220-lecture-material/-/tree/main/f22/meena_lec_notes/lec-14) from October 10."
   ]
  },
  {
   "cell_type": "code",
   "execution_count": 109,
   "id": "8a7f5a12",
   "metadata": {
    "tags": []
   },
   "outputs": [
    {
     "data": {
      "text/plain": [
       "['Michael Kirk',\n",
       " 'A.J. Martinson',\n",
       " 'Anthony Moffat',\n",
       " 'Jason Harney',\n",
       " 'Thomas A. Morgan']"
      ]
     },
     "execution_count": 109,
     "metadata": {},
     "output_type": "execute_result"
    }
   ],
   "source": [
    "# compute and store the answer in the variable 'max_docu_rating_directors', then display it\n",
    "max_docu_rating_directors=[]\n",
    "maxrating=0\n",
    "movq20=copy.deepcopy(movies)\n",
    "movq20bg=bucketize_by_genre(movq20)\n",
    "documov=movq20bg[\"Documentary\"]\n",
    "#Get the highest rating:\n",
    "for eachmov in documov:\n",
    "    if eachmov[\"rating\"]>maxrating:\n",
    "        maxrating=eachmov[\"rating\"]\n",
    "\n",
    "for eachmov in documov:\n",
    "    if eachmov[\"rating\"]==maxrating:\n",
    "        max_docu_rating_directors.extend(eachmov[\"directors\"])\n",
    "\n",
    "max_docu_rating_directors\n",
    "\n"
   ]
  },
  {
   "cell_type": "code",
   "execution_count": 110,
   "id": "56505bf1",
   "metadata": {
    "deletable": false,
    "editable": false
   },
   "outputs": [
    {
     "data": {
      "text/html": [
       "<p><strong><pre style='display: inline;'>q20</pre></strong> passed!</p>"
      ],
      "text/plain": [
       "q20 results: All test cases passed!"
      ]
     },
     "execution_count": 110,
     "metadata": {},
     "output_type": "execute_result"
    }
   ],
   "source": [
    "grader.check(\"q20\")"
   ]
  },
  {
   "cell_type": "markdown",
   "id": "0d5d6800",
   "metadata": {
    "deletable": false,
    "editable": false
   },
   "source": [
    "## Submission\n",
    "Make sure you have run all cells in your notebook in order before running the following cells, so that all images/graphs appear in the output.\n",
    "It is recommended that at this stage, you Restart and Run all Cells in your notebook.\n",
    "That will automatically save your work and generate a zip file for you to submit.\n",
    "\n",
    "**SUBMISSION INSTRUCTIONS**:\n",
    "1. **Upload** the zipfile to Gradescope.\n",
    "2. Check **Gradescope otter** results as soon as the auto-grader execution gets completed. Don't worry about the score showing up as -/100.0. You only need to check that the test cases passed."
   ]
  },
  {
   "cell_type": "code",
   "execution_count": 111,
   "id": "82b86e8c",
   "metadata": {
    "cell_type": "code",
    "deletable": false,
    "editable": false
   },
   "outputs": [
    {
     "data": {
      "application/javascript": "IPython.notebook.save_checkpoint();",
      "text/plain": [
       "<IPython.core.display.Javascript object>"
      ]
     },
     "metadata": {},
     "output_type": "display_data"
    }
   ],
   "source": [
    "# running this cell will create a new save checkpoint for your notebook\n",
    "from IPython.display import display, Javascript\n",
    "display(Javascript('IPython.notebook.save_checkpoint();'))"
   ]
  },
  {
   "cell_type": "code",
   "execution_count": 112,
   "id": "d6c0f1cd",
   "metadata": {
    "cell_type": "code",
    "deletable": false,
    "editable": false
   },
   "outputs": [
    {
     "name": "stdout",
     "output_type": "stream",
     "text": [
      "[jupytext] Reading p8.ipynb in format ipynb\n",
      "[jupytext] Updating the timestamp of p8.py\n"
     ]
    }
   ],
   "source": [
    "!jupytext --to py p8.ipynb"
   ]
  },
  {
   "cell_type": "code",
   "execution_count": 113,
   "id": "35cc4a4c",
   "metadata": {
    "cell_type": "code",
    "deletable": false,
    "editable": false
   },
   "outputs": [
    {
     "ename": "AssertionError",
     "evalue": "Your file is too big to be processed by Gradescope; please delete unnecessary output cells so your file size is < 300 KB",
     "output_type": "error",
     "traceback": [
      "\u001b[0;31m---------------------------------------------------------------------------\u001b[0m",
      "\u001b[0;31mAssertionError\u001b[0m                            Traceback (most recent call last)",
      "\u001b[1;32m/Users/lingyu/OneDrive - UW-Madison/CS220/proj/p8/p8.ipynb Cell 96\u001b[0m in \u001b[0;36m<cell line: 1>\u001b[0;34m()\u001b[0m\n\u001b[0;32m----> <a href='vscode-notebook-cell:/Users/lingyu/OneDrive%20-%20UW-Madison/CS220/proj/p8/p8.ipynb#Y361sZmlsZQ%3D%3D?line=0'>1</a>\u001b[0m p8_test\u001b[39m.\u001b[39;49mcheck_file_size(\u001b[39m\"\u001b[39;49m\u001b[39mp8.ipynb\u001b[39;49m\u001b[39m\"\u001b[39;49m)\n\u001b[1;32m      <a href='vscode-notebook-cell:/Users/lingyu/OneDrive%20-%20UW-Madison/CS220/proj/p8/p8.ipynb#Y361sZmlsZQ%3D%3D?line=1'>2</a>\u001b[0m grader\u001b[39m.\u001b[39mexport(pdf\u001b[39m=\u001b[39m\u001b[39mFalse\u001b[39;00m, run_tests\u001b[39m=\u001b[39m\u001b[39mTrue\u001b[39;00m, files\u001b[39m=\u001b[39m[py_filename])\n",
      "File \u001b[0;32m~/OneDrive - UW-Madison/CS220/proj/p8/p8_test.py:855\u001b[0m, in \u001b[0;36mcheck_file_size\u001b[0;34m(path)\u001b[0m\n\u001b[1;32m    853\u001b[0m \u001b[39mdef\u001b[39;00m \u001b[39mcheck_file_size\u001b[39m(path):\n\u001b[1;32m    854\u001b[0m     size \u001b[39m=\u001b[39m os\u001b[39m.\u001b[39mpath\u001b[39m.\u001b[39mgetsize(path)\n\u001b[0;32m--> 855\u001b[0m     \u001b[39massert\u001b[39;00m size \u001b[39m<\u001b[39m MAX_FILE_SIZE \u001b[39m*\u001b[39m \u001b[39m10\u001b[39m\u001b[39m*\u001b[39m\u001b[39m*\u001b[39m\u001b[39m3\u001b[39m, \u001b[39m\"\u001b[39m\u001b[39mYour file is too big to be processed by Gradescope; please delete unnecessary output cells so your file size is < \u001b[39m\u001b[39m%s\u001b[39;00m\u001b[39m KB\u001b[39m\u001b[39m\"\u001b[39m \u001b[39m%\u001b[39m MAX_FILE_SIZE\n",
      "\u001b[0;31mAssertionError\u001b[0m: Your file is too big to be processed by Gradescope; please delete unnecessary output cells so your file size is < 300 KB"
     ]
    }
   ],
   "source": [
    "p8_test.check_file_size(\"p8.ipynb\")\n",
    "grader.export(pdf=False, run_tests=True, files=[py_filename])"
   ]
  },
  {
   "cell_type": "markdown",
   "id": "d6efaf4e",
   "metadata": {
    "deletable": false,
    "editable": false
   },
   "source": [
    " "
   ]
  }
 ],
 "metadata": {
  "kernelspec": {
   "display_name": "Python 3.9.12 ('base')",
   "language": "python",
   "name": "python3"
  },
  "language_info": {
   "codemirror_mode": {
    "name": "ipython",
    "version": 3
   },
   "file_extension": ".py",
   "mimetype": "text/x-python",
   "name": "python",
   "nbconvert_exporter": "python",
   "pygments_lexer": "ipython3",
   "version": "3.9.12"
  },
  "otter": {
   "OK_FORMAT": true,
   "tests": {
    "q1": {
     "name": "q1",
     "points": 5,
     "suites": [
      {
       "cases": [
        {
         "code": ">>> p8_test.check(\"q1\", small_mapping)\nTrue",
         "hidden": false,
         "locked": false
        }
       ],
       "scored": true,
       "setup": "",
       "teardown": "",
       "type": "doctest"
      }
     ]
    },
    "q10": {
     "name": "q10",
     "points": 5,
     "suites": [
      {
       "cases": [
        {
         "code": ">>> p8_test.check(\"q10\", second_movie_cast_small_movies)\nTrue",
         "hidden": false,
         "locked": false
        }
       ],
       "scored": true,
       "setup": "",
       "teardown": "",
       "type": "doctest"
      }
     ]
    },
    "q11": {
     "name": "q11",
     "points": 5,
     "suites": [
      {
       "cases": [
        {
         "code": ">>> p8_test.check(\"q11\", last_movie_directors_small_movies)\nTrue",
         "hidden": false,
         "locked": false
        }
       ],
       "scored": true,
       "setup": "",
       "teardown": "",
       "type": "doctest"
      }
     ]
    },
    "q12": {
     "name": "q12",
     "points": 5,
     "suites": [
      {
       "cases": [
        {
         "code": ">>> p8_test.check(\"q12\", movies_20200_20220)\nTrue",
         "hidden": false,
         "locked": false
        }
       ],
       "scored": true,
       "setup": "",
       "teardown": "",
       "type": "doctest"
      }
     ]
    },
    "q13": {
     "name": "q13",
     "points": 5,
     "suites": [
      {
       "cases": [
        {
         "code": ">>> p8_test.check(\"q13\", num_movies_2018)\nTrue",
         "hidden": false,
         "locked": false
        }
       ],
       "scored": true,
       "setup": "",
       "teardown": "",
       "type": "doctest"
      }
     ]
    },
    "q14": {
     "name": "q14",
     "points": 5,
     "suites": [
      {
       "cases": [
        {
         "code": ">>> p8_test.check(\"q14\", hepburn_films)\nTrue",
         "hidden": false,
         "locked": false
        }
       ],
       "scored": true,
       "setup": "",
       "teardown": "",
       "type": "doctest"
      }
     ]
    },
    "q15": {
     "name": "q15",
     "points": 5,
     "suites": [
      {
       "cases": [
        {
         "code": ">>> p8_test.check(\"q15\", wisconsin_movies)\nTrue",
         "hidden": false,
         "locked": false
        }
       ],
       "scored": true,
       "setup": "",
       "teardown": "",
       "type": "doctest"
      }
     ]
    },
    "q16": {
     "name": "q16",
     "points": 5,
     "suites": [
      {
       "cases": [
        {
         "code": ">>> p8_test.check(\"q16\", num_genres)\nTrue",
         "hidden": false,
         "locked": false
        }
       ],
       "scored": true,
       "setup": "",
       "teardown": "",
       "type": "doctest"
      }
     ]
    },
    "q17": {
     "name": "q17",
     "points": 5,
     "suites": [
      {
       "cases": [
        {
         "code": ">>> p8_test.check(\"q17\", music_after_2019)\nTrue",
         "hidden": false,
         "locked": false
        }
       ],
       "scored": true,
       "setup": "",
       "teardown": "",
       "type": "doctest"
      }
     ]
    },
    "q18": {
     "name": "q18",
     "points": 5,
     "suites": [
      {
       "cases": [
        {
         "code": ">>> p8_test.check(\"q18\", horror_movies_above_9)\nTrue",
         "hidden": false,
         "locked": false
        }
       ],
       "scored": true,
       "setup": "",
       "teardown": "",
       "type": "doctest"
      }
     ]
    },
    "q19": {
     "name": "q19",
     "points": 5,
     "suites": [
      {
       "cases": [
        {
         "code": ">>> p8_test.check(\"q19\", jen_aniston_genre)\nTrue",
         "hidden": false,
         "locked": false
        }
       ],
       "scored": true,
       "setup": "",
       "teardown": "",
       "type": "doctest"
      }
     ]
    },
    "q2": {
     "name": "q2",
     "points": 5,
     "suites": [
      {
       "cases": [
        {
         "code": ">>> p8_test.check(\"q2\", nm2110418_value)\nTrue",
         "hidden": false,
         "locked": false
        }
       ],
       "scored": true,
       "setup": "",
       "teardown": "",
       "type": "doctest"
      }
     ]
    },
    "q20": {
     "name": "q20",
     "points": 5,
     "suites": [
      {
       "cases": [
        {
         "code": ">>> p8_test.check(\"q20\", max_docu_rating_directors)\nTrue",
         "hidden": false,
         "locked": false
        }
       ],
       "scored": true,
       "setup": "",
       "teardown": "",
       "type": "doctest"
      }
     ]
    },
    "q3": {
     "name": "q3",
     "points": 5,
     "suites": [
      {
       "cases": [
        {
         "code": ">>> p8_test.check(\"q3\", nm_values)\nTrue",
         "hidden": false,
         "locked": false
        }
       ],
       "scored": true,
       "setup": "",
       "teardown": "",
       "type": "doctest"
      }
     ]
    },
    "q4": {
     "name": "q4",
     "points": 5,
     "suites": [
      {
       "cases": [
        {
         "code": ">>> p8_test.check(\"q4\", nm_spencer)\nTrue",
         "hidden": false,
         "locked": false
        }
       ],
       "scored": true,
       "setup": "",
       "teardown": "",
       "type": "doctest"
      }
     ]
    },
    "q5": {
     "name": "q5",
     "points": 5,
     "suites": [
      {
       "cases": [
        {
         "code": ">>> p8_test.check(\"q5\", raw_small_movies)\nTrue",
         "hidden": false,
         "locked": false
        }
       ],
       "scored": true,
       "setup": "",
       "teardown": "",
       "type": "doctest"
      }
     ]
    },
    "q6": {
     "name": "q6",
     "points": 5,
     "suites": [
      {
       "cases": [
        {
         "code": ">>> p8_test.check(\"q6\", num_cast_first_movie)\nTrue",
         "hidden": false,
         "locked": false
        }
       ],
       "scored": true,
       "setup": "",
       "teardown": "",
       "type": "doctest"
      }
     ]
    },
    "q7": {
     "name": "q7",
     "points": 5,
     "suites": [
      {
       "cases": [
        {
         "code": ">>> p8_test.check(\"q7\", first_actor_id_first_movie)\nTrue",
         "hidden": false,
         "locked": false
        }
       ],
       "scored": true,
       "setup": "",
       "teardown": "",
       "type": "doctest"
      }
     ]
    },
    "q8": {
     "name": "q8",
     "points": 5,
     "suites": [
      {
       "cases": [
        {
         "code": ">>> p8_test.check(\"q8\", small_movies_data)\nTrue",
         "hidden": false,
         "locked": false
        }
       ],
       "scored": true,
       "setup": "",
       "teardown": "",
       "type": "doctest"
      }
     ]
    },
    "q9": {
     "name": "q9",
     "points": 5,
     "suites": [
      {
       "cases": [
        {
         "code": ">>> p8_test.check(\"q9\", second_movie_title_small_movies)\nTrue",
         "hidden": false,
         "locked": false
        }
       ],
       "scored": true,
       "setup": "",
       "teardown": "",
       "type": "doctest"
      }
     ]
    }
   }
  },
  "vscode": {
   "interpreter": {
    "hash": "79096726cbabd175b414b154fd74f86e5e826c01a8fc002374b79612a9b70ee8"
   }
  }
 },
 "nbformat": 4,
 "nbformat_minor": 5
}
