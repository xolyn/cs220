{
 "cells": [
  {
   "cell_type": "code",
   "execution_count": 1,
   "id": "8f4971a4",
   "metadata": {
    "deletable": false,
    "editable": false
   },
   "outputs": [],
   "source": [
    "# Initialize Otter\n",
    "import otter\n",
    "grader = otter.Notebook(\"p4.ipynb\")"
   ]
  },
  {
   "cell_type": "code",
   "execution_count": 2,
   "id": "73f67018",
   "metadata": {},
   "outputs": [],
   "source": [
    "import test\n",
    "import math"
   ]
  },
  {
   "cell_type": "markdown",
   "id": "74449ba4",
   "metadata": {},
   "source": [
    "## Project 4: Pokémon Battle Simulation"
   ]
  },
  {
   "cell_type": "markdown",
   "id": "685b1664",
   "metadata": {},
   "source": [
    "### Learning Objectives:\n",
    "\n",
    "In this project, you will demonstrate how to\n",
    "\n",
    "* Use conditional statements to implement decisions,\n",
    "* Write functions using parameters, return values, and conditional logic,\n",
    "* Use good coding practices as outlined in lab-p4.\n",
    "\n",
    "**Please go through [lab-p4](https://git.doit.wisc.edu/cdis/cs/courses/cs220/cs220-f22-projects/-/tree/main/lab-p4) before working on this project.** The lab introduces some useful techniques related to this project."
   ]
  },
  {
   "cell_type": "markdown",
   "id": "d9048e74",
   "metadata": {},
   "source": [
    "## Testing your code:\n",
    "\n",
    "Along with this notebook, you must have downloaded the file `test.py`. If you are curious about how we test your code, you can explore this file, and specifically the value of the variable `expected_json`, to understand the expected answers to the questions."
   ]
  },
  {
   "cell_type": "markdown",
   "id": "97e2319d",
   "metadata": {},
   "source": [
    "## Project Description:\n",
    "\n",
    "For this project, you'll be using the data from `pokemon_stats.csv` and `type_effectiveness_stats.csv` to simulate Pokémon battles and to check the compatibility for friendships between different Pokémon. This data was gathered by the Python program `gen_csv.ipynb` from the website https://www.pokemondb.net/.\n",
    "\n",
    "* To start, download `project.py`, `test.py`, `type_effectiveness_stats.csv`, and `pokemon_stats.csv`.\n",
    "* You'll do all your work on this notebook, and turn it into Gradescope just as you did for the previous projects.\n",
    "\n",
    "We won't explain how to use the project module here (the code in the `project.py` file), or the dataset that you will be working with. The lab this week is designed to teach you how it works. So, before starting p4, take a look at lab-p4.\n",
    "\n",
    "In this project, you will have to write several functions and keep adding more details to them according to the instructions. When you are adding more things to your functions, we want you to follow the **Good Coding Style for Functions** described in [lab-p4](https://git.doit.wisc.edu/cdis/cs/courses/cs220/cs220-f22-projects/-/tree/main/lab-p4). Therefore, you should only keep the latest version of your functions in your notebook file. For example, in this project, you will keep improving the functions you write, and add more functionality to them as the project progresses. However, you should not define a new function each time you do so. Instead, you should keep only one copy of each of the six functions that you will need to define in this project (`damage`, `type_bonus`, `effective_damage`, `num_hits`, `battle`, and `friendship_score`). You can do this by replacing your old function definition with the new one after you have confirmed that the new one works."
   ]
  },
  {
   "cell_type": "markdown",
   "id": "87f85ab5",
   "metadata": {},
   "source": [
    "## Questions and Functions:\n",
    "\n",
    "Let us start by importing all the modules we will need for this project."
   ]
  },
  {
   "cell_type": "code",
   "execution_count": 3,
   "id": "c66e0e14",
   "metadata": {
    "tags": []
   },
   "outputs": [],
   "source": [
    "# it is considered a good coding practice to place all import statements at the top of the notebook\n",
    "import project\n",
    "import test\n",
    "import math\n",
    "# please place all your import statements in this cell if you need to import \n",
    "# any more modules for this project\n"
   ]
  },
  {
   "cell_type": "markdown",
   "id": "72d653db",
   "metadata": {},
   "source": [
    "In the first stage of this project, we will be simulating Pokémon battles. Before we proceed any further, let us take a look at the Pokémon we will be dealing with in this project (let us know what your favorite Pokémon is in a comment):"
   ]
  },
  {
   "cell_type": "markdown",
   "id": "3373235f",
   "metadata": {},
   "source": [
    "## Rules for Pokémon battles:\n",
    "\n",
    "Now, here are the *rules* governing Pokémon battles:\n",
    "\n",
    "1. A Pokémon battle takes place between two Pokémon\n",
    "2. The two Pokémon take turns attacking each other.\n",
    "3. The Pokémon with the higher **Speed** stat attacks first.\n",
    "4. On each turn, the attacking Pokémon can choose between two modes of attack - **Physical** or **Special**.\n",
    "5. In addition to the attack mode, each Pokémon can choose the **type** of its attack.\n",
    "6. Based on the move chosen by the attacking Pokémon, the defending Pokémon receives damage to its **HP**.\n",
    "7. If a Pokémon's **HP** drops to (or below) 0, it faints and therefore loses the battle.\n",
    "8. However, if one Pokémon is much stronger than the other, then the weaker Pokémon will **run away** instead of fighting."
   ]
  },
  {
   "cell_type": "markdown",
   "id": "cfb15f57",
   "metadata": {},
   "source": [
    "Throughout this project, we will break this down into smaller parts and slowly build up to the `battle()` function.\n",
    "\n",
    "The first thing we need to do is calculate the damage caused by one Pokémon's attack on another Pokémon. To accomplish this, we need to create the function `damage(attacker, defender)`."
   ]
  },
  {
   "cell_type": "markdown",
   "id": "4e372943",
   "metadata": {},
   "source": [
    "### Function 1: `damage(attack, defender)`\n",
    "\n",
    "The `attacker` can choose between two attack modes - **Physical** or **Special**. The damage caused by the attacker's **Physical** move is `10 * Attack stat of Attacker / Defense stat of Defender`, and the damage caused by the attacker's **Special** move is `10 * Sp. Atk. stat of Attacker / Sp. Def. stat of Defender`.\n",
    "\n",
    "**If the attacker wants to win, it should always choose the move which will do more damage.** So, that is what we want our function `damage` to do. We want this function to find out which mode of attack the attacker would choose, and return the damage that the attacker would do to the defender.\n",
    "\n",
    "Use the following code snippet and fill in the details to complete the `damage` function."
   ]
  },
  {
   "cell_type": "code",
   "execution_count": 4,
   "id": "e25aad46",
   "metadata": {
    "tags": []
   },
   "outputs": [],
   "source": [
    "def damage(attacker, defender):\n",
    "    # TODO: replace the ... in this function with your code\n",
    "    physical_damage = 10 * project.get_attack(attacker) / project.get_defense(defender)\n",
    "    special_damage = 10 * project.get_sp_atk(attacker) / project.get_sp_def(defender)\n",
    "    if physical_damage>special_damage:\n",
    "        return physical_damage\n",
    "    else:\n",
    "        return special_damage"
   ]
  },
  {
   "cell_type": "markdown",
   "id": "a85162d8",
   "metadata": {},
   "source": [
    "Now, let's find out if this function works. Use `damage()` to answer the next two questions."
   ]
  },
  {
   "cell_type": "markdown",
   "id": "3e55f571",
   "metadata": {},
   "source": [
    "**Question 1:** How much damage does `Zacian` do to `Mewtwo`?"
   ]
  },
  {
   "cell_type": "code",
   "execution_count": 5,
   "id": "941c2328",
   "metadata": {
    "tags": []
   },
   "outputs": [
    {
     "data": {
      "text/plain": [
       "18.88888888888889"
      ]
     },
     "execution_count": 5,
     "metadata": {},
     "output_type": "execute_result"
    }
   ],
   "source": [
    "damage_zacian_mewtwo = damage(\"Zacian\",\"Mewtwo\")\n",
    "damage_zacian_mewtwo"
   ]
  },
  {
   "cell_type": "code",
   "execution_count": 6,
   "id": "d0015d9c",
   "metadata": {
    "deletable": false,
    "editable": false
   },
   "outputs": [
    {
     "data": {
      "text/html": [
       "<p><strong><pre style='display: inline;'>q1</pre></strong> passed!</p>"
      ],
      "text/plain": [
       "q1 results: All test cases passed!"
      ]
     },
     "execution_count": 6,
     "metadata": {},
     "output_type": "execute_result"
    }
   ],
   "source": [
    "grader.check(\"q1\")"
   ]
  },
  {
   "cell_type": "markdown",
   "id": "d82754af",
   "metadata": {},
   "source": [
    "**Question 2:** How much damage does `Slowbro` do to `Slowpoke`?"
   ]
  },
  {
   "cell_type": "code",
   "execution_count": 7,
   "id": "70275003",
   "metadata": {
    "tags": []
   },
   "outputs": [
    {
     "data": {
      "text/plain": [
       "25.0"
      ]
     },
     "execution_count": 7,
     "metadata": {},
     "output_type": "execute_result"
    }
   ],
   "source": [
    "damage_slowbro_slowpoke = damage(\"Slowbro\",\"Slowpoke\")\n",
    "damage_slowbro_slowpoke"
   ]
  },
  {
   "cell_type": "code",
   "execution_count": 8,
   "id": "f47ea6e7",
   "metadata": {
    "deletable": false,
    "editable": false
   },
   "outputs": [
    {
     "data": {
      "text/html": [
       "<p><strong><pre style='display: inline;'>q2</pre></strong> passed!</p>"
      ],
      "text/plain": [
       "q2 results: All test cases passed!"
      ]
     },
     "execution_count": 8,
     "metadata": {},
     "output_type": "execute_result"
    }
   ],
   "source": [
    "grader.check(\"q2\")"
   ]
  },
  {
   "cell_type": "markdown",
   "id": "04931e74",
   "metadata": {},
   "source": [
    "In addition to choosing the attack **mode** (i.e. **Physical** or **Special**), the attacker can also (sometimes) choose the **type** of attack. Before we figure out what type the attacker should choose, we first need to find out the *effect* of the attack on the defender. Each attack type offers a **type bonus** to the attack damage that we calculated with the `damage` function.\n",
    "\n",
    "If the attacker chooses an attack of type `attack_type` against a defender with only one type, `type1` (i.e. its `type2` is `None`), then the **type bonus** of this attack is `get_type_effectiveness(attack_type, type1)`. If the defender has two types `type1` and `type2`, then the **type bonus** of this attack is `get_type_effectiveness(attack_type, type1) * get_type_effectiveness(attack_type, type2)`.\n",
    "\n",
    "For example, let the `attack_type` be `Fire` and the defender be the Pokémon `Squirtle`. `Squirtle` has only one type, `Water` (with its `type2` being `None`). In this case, we see that"
   ]
  },
  {
   "cell_type": "code",
   "execution_count": 9,
   "id": "0e0de658",
   "metadata": {},
   "outputs": [
    {
     "data": {
      "text/plain": [
       "0.5"
      ]
     },
     "execution_count": 9,
     "metadata": {},
     "output_type": "execute_result"
    }
   ],
   "source": [
    "# the effectiveness of Fire against Water is...\n",
    "project.get_type_effectiveness(\"Fire\", \"Water\")"
   ]
  },
  {
   "cell_type": "markdown",
   "id": "eca3588e",
   "metadata": {},
   "source": [
    "Therefore, the type bonus of a `Fire` type attack on `Squirtle` is `0.5`. On the other hand, consider a `Fire` type attack on the Pokémon `Bulbasaur`. `Bulbasaur` has 2 types, `Grass` and `Poison`. In this case, we see that"
   ]
  },
  {
   "cell_type": "code",
   "execution_count": 10,
   "id": "b9a665df",
   "metadata": {},
   "outputs": [
    {
     "data": {
      "text/plain": [
       "2.0"
      ]
     },
     "execution_count": 10,
     "metadata": {},
     "output_type": "execute_result"
    }
   ],
   "source": [
    "# the effectiveness of Fire against Grass is...\n",
    "project.get_type_effectiveness(\"Fire\", \"Grass\")"
   ]
  },
  {
   "cell_type": "code",
   "execution_count": 11,
   "id": "0e12ec94",
   "metadata": {},
   "outputs": [
    {
     "data": {
      "text/plain": [
       "1.0"
      ]
     },
     "execution_count": 11,
     "metadata": {},
     "output_type": "execute_result"
    }
   ],
   "source": [
    "# the effectiveness of Fire against Poison is...\n",
    "project.get_type_effectiveness(\"Fire\", \"Poison\")"
   ]
  },
  {
   "cell_type": "markdown",
   "id": "257dd3e6",
   "metadata": {},
   "source": [
    "Therefore, the type bonus of a `Fire` type attack on `Bulbasaur` is the product of these two numbers `2.0 * 1.0 = 2.0`."
   ]
  },
  {
   "cell_type": "markdown",
   "id": "4aa96fa1",
   "metadata": {},
   "source": [
    "### Function 2: `type_bonus(attack_type, defender)`\n",
    "We are now ready to write the definition of the `type_bonus` function, which will calculate the type bonus of an `attack_type` against a `defender`. We have provided a code snippet for you to work with. You may rewrite the entire function from scratch if you want to."
   ]
  },
  {
   "cell_type": "code",
   "execution_count": 12,
   "id": "7ee20b33",
   "metadata": {
    "tags": []
   },
   "outputs": [],
   "source": [
    "def type_bonus(attack_type, defender):\n",
    "    # TODO: store the `type1` and `type2` of the `defender` in variables \n",
    "    #       `defender_type1` and `defender_type2`\n",
    "    # TODO: replace the ... in this function with your code\n",
    "    defender_type1=project.get_type1(defender)\n",
    "    defender_type2=project.get_type2(defender)\n",
    "    \n",
    "    bonus = project.get_type_effectiveness(attack_type, defender_type1)\n",
    "    \n",
    "    if defender_type2==\"None\":\n",
    "        return bonus\n",
    "    else:\n",
    "        bonus = bonus*project.get_type_effectiveness(attack_type, defender_type2)\n",
    "        return bonus"
   ]
  },
  {
   "cell_type": "markdown",
   "id": "fb759927",
   "metadata": {},
   "source": [
    "Use this function to answer the next two questions."
   ]
  },
  {
   "cell_type": "markdown",
   "id": "ca4f4017",
   "metadata": {},
   "source": [
    "**Question 3:** How effective is `Water` type against `Charmander`?"
   ]
  },
  {
   "cell_type": "code",
   "execution_count": 13,
   "id": "f03d61ee",
   "metadata": {
    "tags": []
   },
   "outputs": [
    {
     "data": {
      "text/plain": [
       "2.0"
      ]
     },
     "execution_count": 13,
     "metadata": {},
     "output_type": "execute_result"
    }
   ],
   "source": [
    "bonus_water_charmander = type_bonus(\"Water\", \"Charmander\")\n",
    "bonus_water_charmander"
   ]
  },
  {
   "cell_type": "code",
   "execution_count": 14,
   "id": "4cd8d706",
   "metadata": {
    "deletable": false,
    "editable": false
   },
   "outputs": [
    {
     "data": {
      "text/html": [
       "<p><strong><pre style='display: inline;'>q3</pre></strong> passed!</p>"
      ],
      "text/plain": [
       "q3 results: All test cases passed!"
      ]
     },
     "execution_count": 14,
     "metadata": {},
     "output_type": "execute_result"
    }
   ],
   "source": [
    "grader.check(\"q3\")"
   ]
  },
  {
   "cell_type": "markdown",
   "id": "e4c9676d",
   "metadata": {},
   "source": [
    "**Question 4:** How effective is `Poison` type against `Roserade`?"
   ]
  },
  {
   "cell_type": "code",
   "execution_count": 15,
   "id": "2f1c29d4",
   "metadata": {
    "tags": []
   },
   "outputs": [
    {
     "data": {
      "text/plain": [
       "1.0"
      ]
     },
     "execution_count": 15,
     "metadata": {},
     "output_type": "execute_result"
    }
   ],
   "source": [
    "bonus_poison_roserade = type_bonus(\"Poison\", \"Roserade\")\n",
    "bonus_poison_roserade"
   ]
  },
  {
   "cell_type": "code",
   "execution_count": 16,
   "id": "ee313016",
   "metadata": {
    "deletable": false,
    "editable": false
   },
   "outputs": [
    {
     "data": {
      "text/html": [
       "<p><strong><pre style='display: inline;'>q4</pre></strong> passed!</p>"
      ],
      "text/plain": [
       "q4 results: All test cases passed!"
      ]
     },
     "execution_count": 16,
     "metadata": {},
     "output_type": "execute_result"
    }
   ],
   "source": [
    "grader.check(\"q4\")"
   ]
  },
  {
   "cell_type": "markdown",
   "id": "f18a6b9c",
   "metadata": {},
   "source": [
    "When an `attacker` chooses an attack of type `attack_type` against a `defender`, the damage done is `type_bonus(attack_type, defender) * damage(attacker, defender)`.\n",
    "\n",
    "An attacker can choose between any of its types for its attack type. So, if an attacker has two types, it can choose either type 1 or type 2 as its attack type. However, if it has only one type (i.e. its `type2` is `None`), it has no choice but to choose type 1 as its attack type. For example, a Pokémon like `Weedle` which has two types (`Bug` and `Poison`) can choose to make its attack either `Bug` type or `Poison` type. On the other hand, a Pokémon like `Magikarp` which has only one type (`Water`) can only make its attack a `Water` type attack.\n",
    "\n",
    "While a Pokémon with only one type doesn't have a choice, **a Pokémon with two types can choose its attack between its two types**. If the attacker wants to win, it should always choose the type which will do more damage.\n",
    "\n",
    "Let us consider the case when an **attacker has only one type**. (i.e. `type2` is `None`). To illustrate this, we take `Magikarp` as the attacker and `Charizard` as the defender. Let us first ensure that `Magikarp` has only 1 type."
   ]
  },
  {
   "cell_type": "code",
   "execution_count": 17,
   "id": "341840ac",
   "metadata": {
    "scrolled": true
   },
   "outputs": [
    {
     "data": {
      "text/plain": [
       "'Water'"
      ]
     },
     "execution_count": 17,
     "metadata": {},
     "output_type": "execute_result"
    }
   ],
   "source": [
    "# type1 of Magikarp is...\n",
    "project.get_type1(\"Magikarp\")"
   ]
  },
  {
   "cell_type": "code",
   "execution_count": 18,
   "id": "a200ae6d",
   "metadata": {},
   "outputs": [
    {
     "data": {
      "text/plain": [
       "'None'"
      ]
     },
     "execution_count": 18,
     "metadata": {},
     "output_type": "execute_result"
    }
   ],
   "source": [
    "# and type2 of Magikarp is...\n",
    "project.get_type2(\"Magikarp\")"
   ]
  },
  {
   "cell_type": "markdown",
   "id": "117cc103",
   "metadata": {},
   "source": [
    "In this case, we simply take the `type_bonus` of the first type against `Charizard` (the defender)."
   ]
  },
  {
   "cell_type": "code",
   "execution_count": 19,
   "id": "3d434163",
   "metadata": {},
   "outputs": [
    {
     "data": {
      "text/plain": [
       "2.0"
      ]
     },
     "execution_count": 19,
     "metadata": {},
     "output_type": "execute_result"
    }
   ],
   "source": [
    "# so the bonus that Magikarp gets against Charizard is...\n",
    "bonus = type_bonus(project.get_type1(\"Magikarp\"), \"Charizard\")\n",
    "bonus"
   ]
  },
  {
   "cell_type": "markdown",
   "id": "32c4ccef",
   "metadata": {},
   "source": [
    "`bonus` should contain the value `2.0`. To calculate the effective damage that Magikarp does to Charizard, we take `damage(\"Magikarp\", \"Charizard\") * bonus`"
   ]
  },
  {
   "cell_type": "markdown",
   "id": "a3171385",
   "metadata": {},
   "source": [
    "We will now consider the case where an **attacker has two types**.\n",
    "\n",
    "To illustrate this, we take `Weedle` as the `attacker` and `Charizard` as the `defender`. If your `type_bonus` function works correctly the values obtained by measuring the type bonus of `Weedle` against `Charizard` are as follows:"
   ]
  },
  {
   "cell_type": "code",
   "execution_count": 20,
   "id": "a3d87e1a",
   "metadata": {
    "scrolled": false
   },
   "outputs": [
    {
     "data": {
      "text/plain": [
       "0.25"
      ]
     },
     "execution_count": 20,
     "metadata": {},
     "output_type": "execute_result"
    }
   ],
   "source": [
    "# the type bonus of type1(Bug) of Weedle against Charizard is...\n",
    "type_bonus(project.get_type1(\"Weedle\"), \"Charizard\")"
   ]
  },
  {
   "cell_type": "code",
   "execution_count": 21,
   "id": "acbba866",
   "metadata": {},
   "outputs": [
    {
     "data": {
      "text/plain": [
       "1.0"
      ]
     },
     "execution_count": 21,
     "metadata": {},
     "output_type": "execute_result"
    }
   ],
   "source": [
    "# and the type bonus of type2(Poison) of Weedle against Charizard is...\n",
    "type_bonus(project.get_type2(\"Weedle\"), \"Charizard\")"
   ]
  },
  {
   "cell_type": "markdown",
   "id": "67107117",
   "metadata": {},
   "source": [
    "Clearly, `Weedle`'s second type (`Poison`) causes more damage to `Charizard` than its first type (`Bug`). So, **`Weedle` would choose its `Poison` type attack instead of its `Bug` type attack against `Charizard`.**\n",
    "\n",
    "Therefore, the effective `bonus` is `max(0.25, 1.0) = 1.0`. So, the effective damage that `Weedle` does to `Charizard` is `damage(\"Weedle\", \"Charizard\") * 1.0`."
   ]
  },
  {
   "cell_type": "code",
   "execution_count": 22,
   "id": "3b1ae8d0",
   "metadata": {},
   "outputs": [],
   "source": [
    "def get_num_types(pkmn):\n",
    "    if(project.get_type2(pkmn)==\"None\"):\n",
    "        return 1\n",
    "    else:\n",
    "        return 2\n",
    "    "
   ]
  },
  {
   "cell_type": "code",
   "execution_count": 23,
   "id": "9c053397",
   "metadata": {},
   "outputs": [
    {
     "name": "stdout",
     "output_type": "stream",
     "text": [
      "2\n",
      "1\n"
     ]
    }
   ],
   "source": [
    "# test\n",
    "print(get_num_types(\"Beedrill\")) #should be 2\n",
    "print(get_num_types(\"Arbok\")) #should be 1"
   ]
  },
  {
   "cell_type": "markdown",
   "id": "6a292a30",
   "metadata": {},
   "source": [
    "### Function 3: `effective_damage(attacker, defender)`\n",
    "\n",
    "We now write a function `effective_damage` to compute the actual damage that an `attacker` would do to the `defender`, taking into account, both the **attack mode** and **attack type**.\n",
    "\n",
    "The `effective_damage` function definition **must** invoke the `get_num_types` function you wrote during lab. Create a new cell in your Jupyter notebook above the definition of `effective_damage` and copy/paste the definition of `get_num_types` there. **We'll manually deduct points** if you don't invoke `get_num_types`.\n",
    "\n",
    "Start with the code snippet provided below. Use the `effective_damage` function to answer the next three questions."
   ]
  },
  {
   "cell_type": "code",
   "execution_count": 24,
   "id": "ed4607cf",
   "metadata": {
    "tags": []
   },
   "outputs": [],
   "source": [
    "def effective_damage(attacker, defender):\n",
    "    # TODO: replace with your code\n",
    "    #TODO: check if the attacker has two types; you must invoke the relevant \n",
    "    #      function you defined in lab-p4\n",
    "    num_types_a=get_num_types(attacker)\n",
    "#     num_types_d=get_num_types(defender)\n",
    "    \n",
    "    if (num_types_a==1):\n",
    "        \n",
    "        bonus=type_bonus(project.get_type1(attacker), defender)\n",
    "        \n",
    "        \n",
    "#     elif(num_types==2 and num_types_defender==2):\n",
    "#         temp_bonus1=type_bonus(project.get_type1(attacker), defender)\n",
    "#         temp_bonus2=type_bonus(project.get_type2(attacker), defender)\n",
    "#         temp_bonus3=type_bonus(project.get_type1(attacker), defender)\n",
    "#         temp_bonus4=type_bonus(project.get_type2(attacker), defender)\n",
    "\n",
    "    else:\n",
    "        temp_bonus1=type_bonus(project.get_type1(attacker), defender)\n",
    "        temp_bonus2=type_bonus(project.get_type2(attacker), defender)\n",
    "        #type_bonus(project.get_type2(\"Weedle\"), \"Charizard\")\n",
    "        bonus=max(temp_bonus1,temp_bonus2)\n",
    "    \n",
    "    return bonus*damage(attacker,defender)\n",
    "    #TODO: compute the bonus of the attacker's type(s) against the defender\n",
    "    #TODO: find the attack_type with the higher bonus\n",
    "    #TODO: compute the damage caused by attack, considering the higher bonus, and return it\n",
    "    "
   ]
  },
  {
   "cell_type": "markdown",
   "id": "7c20e2b7",
   "metadata": {},
   "source": [
    "**Question 5:** How much damage does `Garchomp` do to `Gligar`?"
   ]
  },
  {
   "cell_type": "code",
   "execution_count": 25,
   "id": "fdf61390",
   "metadata": {},
   "outputs": [],
   "source": [
    "#this is created by Lingyu(student) for temporary test :\n",
    "#print(type_bonus(project.get_type1(\"Garchomp\"),\"Gligar\"),type_bonus(project.get_type2(\"Garchomp\"),\"Gligar\"))\n",
    "#print(damage(\"Garchomp\",\"Gligar\"))"
   ]
  },
  {
   "cell_type": "code",
   "execution_count": 26,
   "id": "175549eb",
   "metadata": {
    "tags": []
   },
   "outputs": [
    {
     "data": {
      "text/plain": [
       "12.380952380952381"
      ]
     },
     "execution_count": 26,
     "metadata": {},
     "output_type": "execute_result"
    }
   ],
   "source": [
    "eff_damage_garchomp_gligar = effective_damage(\"Garchomp\",\"Gligar\")\n",
    "eff_damage_garchomp_gligar"
   ]
  },
  {
   "cell_type": "code",
   "execution_count": 27,
   "id": "09ed2d7e",
   "metadata": {
    "deletable": false,
    "editable": false
   },
   "outputs": [
    {
     "data": {
      "text/html": [
       "<p><strong><pre style='display: inline;'>q5</pre></strong> passed!</p>"
      ],
      "text/plain": [
       "q5 results: All test cases passed!"
      ]
     },
     "execution_count": 27,
     "metadata": {},
     "output_type": "execute_result"
    }
   ],
   "source": [
    "grader.check(\"q5\")"
   ]
  },
  {
   "cell_type": "markdown",
   "id": "9b41f553",
   "metadata": {},
   "source": [
    "**Question 6:** How much damage does `Sceptile` do to `Umbreon`?"
   ]
  },
  {
   "cell_type": "code",
   "execution_count": 28,
   "id": "5e2d4b4e",
   "metadata": {
    "tags": []
   },
   "outputs": [
    {
     "data": {
      "text/plain": [
       "8.076923076923077"
      ]
     },
     "execution_count": 28,
     "metadata": {},
     "output_type": "execute_result"
    }
   ],
   "source": [
    "eff_damage_sceptile_umbreon = effective_damage(\"Sceptile\",\"Umbreon\")\n",
    "eff_damage_sceptile_umbreon"
   ]
  },
  {
   "cell_type": "code",
   "execution_count": 29,
   "id": "258f02ce",
   "metadata": {
    "deletable": false,
    "editable": false
   },
   "outputs": [
    {
     "data": {
      "text/html": [
       "<p><strong><pre style='display: inline;'>q6</pre></strong> passed!</p>"
      ],
      "text/plain": [
       "q6 results: All test cases passed!"
      ]
     },
     "execution_count": 29,
     "metadata": {},
     "output_type": "execute_result"
    }
   ],
   "source": [
    "grader.check(\"q6\")"
   ]
  },
  {
   "cell_type": "markdown",
   "id": "855d1002",
   "metadata": {},
   "source": [
    "**Question 7:** How much damage does `Infernape` do to `Starly`?"
   ]
  },
  {
   "cell_type": "code",
   "execution_count": 30,
   "id": "98a29c7a",
   "metadata": {
    "tags": []
   },
   "outputs": [
    {
     "data": {
      "text/plain": [
       "34.666666666666664"
      ]
     },
     "execution_count": 30,
     "metadata": {},
     "output_type": "execute_result"
    }
   ],
   "source": [
    "eff_damage_infernape_starly = effective_damage(\"Infernape\",\"Starly\")\n",
    "eff_damage_infernape_starly"
   ]
  },
  {
   "cell_type": "code",
   "execution_count": 31,
   "id": "889a5d3d",
   "metadata": {
    "deletable": false,
    "editable": false
   },
   "outputs": [
    {
     "data": {
      "text/html": [
       "<p><strong><pre style='display: inline;'>q7</pre></strong> passed!</p>"
      ],
      "text/plain": [
       "q7 results: All test cases passed!"
      ]
     },
     "execution_count": 31,
     "metadata": {},
     "output_type": "execute_result"
    }
   ],
   "source": [
    "grader.check(\"q7\")"
   ]
  },
  {
   "cell_type": "markdown",
   "id": "15dbeb3f",
   "metadata": {},
   "source": [
    "### Function 4: `num_hits(attacker, defender)`\n",
    "\n",
    "Now that we have a way of calculating the damage done by the Pokémon during battle, we have to calculate **how many hits** each Pokémon can take before fainting.\n",
    "\n",
    "The number of hits a Pokémon can take is calculated by taking its **HP** and dividing it by the attacking Pokémon's **effective damage**.\n",
    "\n",
    "If the defending pokemon has `30 HP` and the attacking pokemon does `20` effective damage each turn, it will take `2` turns before the defender faints instead of `30 / 20 = 1.5`. You might want to use the method `math.ceil` here. First import the module `math` (remember to add the `import math` call at the **top of your notebook** in the cell where you have been asked to place all `import` statements) and then look up the documentation of `math.ceil` to see how you could use it."
   ]
  },
  {
   "cell_type": "code",
   "execution_count": 32,
   "id": "b0700d60",
   "metadata": {
    "tags": []
   },
   "outputs": [],
   "source": [
    "def num_hits(attacker, defender):\n",
    "    hp=project.get_hp(defender)\n",
    "    attack=effective_damage(attacker, defender)\n",
    "    return math.ceil(hp/attack)\n",
    "\n",
    "# print(project.get_hp(\"Bellsprout\"))\n",
    "# print(effective_damage(\"Mewtwo\",\"Bellsprout\"))"
   ]
  },
  {
   "cell_type": "markdown",
   "id": "63e41c00",
   "metadata": {},
   "source": [
    "Use `num_hits` to answer the next two questions."
   ]
  },
  {
   "cell_type": "markdown",
   "id": "c3e89510",
   "metadata": {},
   "source": [
    "**Question 8:** How many hits can the *defending* Pokémon `Mewtwo` take from `Bellsprout`(*attacker*)?"
   ]
  },
  {
   "cell_type": "code",
   "execution_count": 33,
   "id": "b12f76ac",
   "metadata": {
    "tags": []
   },
   "outputs": [
    {
     "data": {
      "text/plain": [
       "13"
      ]
     },
     "execution_count": 33,
     "metadata": {},
     "output_type": "execute_result"
    }
   ],
   "source": [
    "hits_bellsprout_mewtwo = num_hits(\"Bellsprout\",\"Mewtwo\")\n",
    "hits_bellsprout_mewtwo"
   ]
  },
  {
   "cell_type": "code",
   "execution_count": 34,
   "id": "fcdefbda",
   "metadata": {
    "deletable": false,
    "editable": false
   },
   "outputs": [
    {
     "data": {
      "text/html": [
       "<p><strong><pre style='display: inline;'>q8</pre></strong> passed!</p>"
      ],
      "text/plain": [
       "q8 results: All test cases passed!"
      ]
     },
     "execution_count": 34,
     "metadata": {},
     "output_type": "execute_result"
    }
   ],
   "source": [
    "grader.check(\"q8\")"
   ]
  },
  {
   "cell_type": "markdown",
   "id": "8eb0bbd2",
   "metadata": {},
   "source": [
    "**Question 9:** How many hits can the *defending* Pokémon `Torterra` take from `Metapod`(*attacker*)?"
   ]
  },
  {
   "cell_type": "code",
   "execution_count": 35,
   "id": "f92df847",
   "metadata": {
    "tags": []
   },
   "outputs": [
    {
     "data": {
      "text/plain": [
       "17"
      ]
     },
     "execution_count": 35,
     "metadata": {},
     "output_type": "execute_result"
    }
   ],
   "source": [
    "hits_metapod_torterra = num_hits(\"Metapod\",\"Torterra\")\n",
    "hits_metapod_torterra"
   ]
  },
  {
   "cell_type": "code",
   "execution_count": 36,
   "id": "05739588",
   "metadata": {
    "deletable": false,
    "editable": false
   },
   "outputs": [
    {
     "data": {
      "text/html": [
       "<p><strong><pre style='display: inline;'>q9</pre></strong> passed!</p>"
      ],
      "text/plain": [
       "q9 results: All test cases passed!"
      ]
     },
     "execution_count": 36,
     "metadata": {},
     "output_type": "execute_result"
    }
   ],
   "source": [
    "grader.check(\"q9\")"
   ]
  },
  {
   "cell_type": "markdown",
   "id": "d3e082a5",
   "metadata": {},
   "source": [
    "## Function 5: `battle(pkmn1, pkmn2)`\n",
    "\n",
    "With the functions we have created so far, we can now finally start creating our battle simulator.\n",
    "\n",
    "This function should take in two Pokémon `pkmn1`, and `pkmn2` as its parameters, and it should output the name of the Pokémon which wins the battle.\n",
    "\n",
    "However, it might still be a little overwhelming to code all the rules in one go. So, let us break it up into several steps, and implement the function over the next several questions."
   ]
  },
  {
   "cell_type": "code",
   "execution_count": 37,
   "id": "b6df0ef2",
   "metadata": {
    "tags": []
   },
   "outputs": [],
   "source": [
    "def battle(pkmn1, pkmn2):\n",
    "     # TODO: replace with your code\n",
    "    # TODO: let us ignore the rules that have to do with Speed \n",
    "    #       and Pokémon running away for now\n",
    "    # TODO: implement code to check whether pkmn1 or pkmn2 can take more \n",
    "    #       hits from the other before fainting\n",
    "    # TODO: the Pokémon which can take more hits before fainting should be the winner\n",
    "    # TODO: if the two Pokémon can take the same number of hits from \n",
    "    #       the other, your output should be 'Draw'\n",
    "    \n",
    "    num_can_take_pkmn1=num_hits(pkmn1,pkmn2)\n",
    "    num_can_take_pkmn2=num_hits(pkmn2,pkmn1)\n",
    "    \n",
    "    if ((num_can_take_pkmn1-num_can_take_pkmn2)>=10):\n",
    "        return (pkmn1+\" ran away\")\n",
    "    elif ((num_can_take_pkmn1-num_can_take_pkmn2)<= -10):\n",
    "        return (pkmn2+\" ran away\")\n",
    "    else:\n",
    "        if (num_can_take_pkmn1>num_can_take_pkmn2):\n",
    "            return pkmn2\n",
    "        elif (num_can_take_pkmn1<num_can_take_pkmn2):\n",
    "            return pkmn1\n",
    "        else:\n",
    "            if(project.get_speed(pkmn1)>project.get_speed(pkmn2)):\n",
    "                return pkmn1\n",
    "            elif(project.get_speed(pkmn1)<project.get_speed(pkmn2)):\n",
    "                return pkmn2\n",
    "            else:\n",
    "                return \"Draw\"\n",
    "\n",
    "# print(num_hits('Bulbasaur', 'Flareon'))\n",
    "# print(num_hits( 'Flareon','Bulbasaur'))\n"
   ]
  },
  {
   "cell_type": "markdown",
   "id": "46e268ca",
   "metadata": {},
   "source": [
    "Use the `battle()` function to answer the next two questions"
   ]
  },
  {
   "cell_type": "markdown",
   "id": "353e529d",
   "metadata": {},
   "source": [
    "**Question 10**: What is the output of `battle('Bulbasaur', 'Flareon')`?"
   ]
  },
  {
   "cell_type": "code",
   "execution_count": 38,
   "id": "563a71eb",
   "metadata": {
    "scrolled": true,
    "tags": []
   },
   "outputs": [
    {
     "data": {
      "text/plain": [
       "'Flareon'"
      ]
     },
     "execution_count": 38,
     "metadata": {},
     "output_type": "execute_result"
    }
   ],
   "source": [
    "battle_bulbasaur_flareon = battle('Bulbasaur', 'Flareon')\n",
    "battle_bulbasaur_flareon"
   ]
  },
  {
   "cell_type": "code",
   "execution_count": 39,
   "id": "deade753",
   "metadata": {
    "deletable": false,
    "editable": false
   },
   "outputs": [
    {
     "data": {
      "text/html": [
       "<p><strong><pre style='display: inline;'>q10</pre></strong> passed!</p>"
      ],
      "text/plain": [
       "q10 results: All test cases passed!"
      ]
     },
     "execution_count": 39,
     "metadata": {},
     "output_type": "execute_result"
    }
   ],
   "source": [
    "grader.check(\"q10\")"
   ]
  },
  {
   "cell_type": "markdown",
   "id": "38afdd35",
   "metadata": {},
   "source": [
    "**Question 11**: What is the output of `battle('Blastoise', 'Charizard')`??"
   ]
  },
  {
   "cell_type": "code",
   "execution_count": 40,
   "id": "acb7b968",
   "metadata": {
    "scrolled": true,
    "tags": []
   },
   "outputs": [
    {
     "data": {
      "text/plain": [
       "'Blastoise'"
      ]
     },
     "execution_count": 40,
     "metadata": {},
     "output_type": "execute_result"
    }
   ],
   "source": [
    "battle_blastoise_charizard = battle('Blastoise', 'Charizard')\n",
    "battle_blastoise_charizard"
   ]
  },
  {
   "cell_type": "code",
   "execution_count": 41,
   "id": "e002f7aa",
   "metadata": {
    "deletable": false,
    "editable": false
   },
   "outputs": [
    {
     "data": {
      "text/html": [
       "<p><strong><pre style='display: inline;'>q11</pre></strong> passed!</p>"
      ],
      "text/plain": [
       "q11 results: All test cases passed!"
      ]
     },
     "execution_count": 41,
     "metadata": {},
     "output_type": "execute_result"
    }
   ],
   "source": [
    "grader.check(\"q11\")"
   ]
  },
  {
   "cell_type": "markdown",
   "id": "6b5423b5",
   "metadata": {},
   "source": [
    "The function `battle` seems to be working well so far, but it does not quite follow all the rules that we laid out at the beginning. The function currently returns `\"Draw\"` if both Pokémon can take the same number of hits from each other. However, when we look at the rules from above, we notice that the Pokémon with **higher speed attacks first**. This means that even if both Pokémon go down in the same number of hits, the Pokémon with the higher **speed** stat will attack first, and will therefore land its last hit before the other Pokémon can hit back.\n",
    "\n",
    "In other words, if both Pokémon faint within the same number of moves, the Pokémon with the higher **speed** stat should win the battle. Go back and modify `battle` so that if both Pokémon faint in the same number of moves, the Pokémon with the higher **speed** wins. If they both have the same **speed**, then the battle should be a `'Draw'`.\n",
    "\n",
    "**Warning:** Do **not** redefine `battle`. You may make a *copy* of the function as it is when you start working on updating its definition, but the notebook you turn in should only have *one* definition of `battle`. So, you should **delete** any older versions of the function after your new code demonstrably works."
   ]
  },
  {
   "cell_type": "markdown",
   "id": "6766101a",
   "metadata": {},
   "source": [
    "**Question 12**: What is the output of `battle('Pidgey', 'Starly')`?"
   ]
  },
  {
   "cell_type": "code",
   "execution_count": 42,
   "id": "b0ac6cb2",
   "metadata": {
    "scrolled": true,
    "tags": []
   },
   "outputs": [
    {
     "data": {
      "text/plain": [
       "'Starly'"
      ]
     },
     "execution_count": 42,
     "metadata": {},
     "output_type": "execute_result"
    }
   ],
   "source": [
    "battle_pidgey_starly = battle('Pidgey', 'Starly')\n",
    "battle_pidgey_starly"
   ]
  },
  {
   "cell_type": "code",
   "execution_count": 43,
   "id": "adff787d",
   "metadata": {
    "deletable": false,
    "editable": false
   },
   "outputs": [
    {
     "data": {
      "text/html": [
       "<p><strong><pre style='display: inline;'>q12</pre></strong> passed!</p>"
      ],
      "text/plain": [
       "q12 results: All test cases passed!"
      ]
     },
     "execution_count": 43,
     "metadata": {},
     "output_type": "execute_result"
    }
   ],
   "source": [
    "grader.check(\"q12\")"
   ]
  },
  {
   "cell_type": "markdown",
   "id": "be90a4db",
   "metadata": {},
   "source": [
    "**Question 13**: What is the output of `battle('Mudkip', 'Gulpin')`?"
   ]
  },
  {
   "cell_type": "code",
   "execution_count": 44,
   "id": "235500c4",
   "metadata": {
    "scrolled": true,
    "tags": []
   },
   "outputs": [
    {
     "data": {
      "text/plain": [
       "'Draw'"
      ]
     },
     "execution_count": 44,
     "metadata": {},
     "output_type": "execute_result"
    }
   ],
   "source": [
    "battle_mudkip_gulpin = battle('Mudkip', 'Gulpin')\n",
    "battle_mudkip_gulpin"
   ]
  },
  {
   "cell_type": "code",
   "execution_count": 45,
   "id": "d8787c57",
   "metadata": {
    "deletable": false,
    "editable": false
   },
   "outputs": [
    {
     "data": {
      "text/html": [
       "<p><strong><pre style='display: inline;'>q13</pre></strong> passed!</p>"
      ],
      "text/plain": [
       "q13 results: All test cases passed!"
      ]
     },
     "execution_count": 45,
     "metadata": {},
     "output_type": "execute_result"
    }
   ],
   "source": [
    "grader.check(\"q13\")"
   ]
  },
  {
   "cell_type": "markdown",
   "id": "bbdc7400",
   "metadata": {},
   "source": [
    "One last rule we need to implement is the **runaway** feature. For example, consider a battle between `Pikachu` and `Glaceon`. `Glaceon` can take `13` hits from `Pikachu`, but `Pikachu` can only take `2` hits from `Glaceon`. Because of this massive difference, `Pikachu` should choose to **run away** from this battle rather than attempt to fight.\n",
    "\n",
    "Modify `battle` so that if one Pokémon can take **at least** 10 more hits than the other, the weaker one runs away. The function should return `\"<pkmn_name> ran away\"`. Make sure the function says the Pokémon that can take fewer hits ran away.\n",
    "\n",
    "**Hint:** Even though this is the *last* rule to implement, it is the *first* thing that the battle function should check. Also, here's another reminder to *not* redefine `battle`."
   ]
  },
  {
   "cell_type": "markdown",
   "id": "000cba63",
   "metadata": {},
   "source": [
    "**Question 14**: What is the output of `battle('Rayquaza', 'Pikachu')`?"
   ]
  },
  {
   "cell_type": "code",
   "execution_count": 46,
   "id": "51ad95d6",
   "metadata": {
    "scrolled": true,
    "tags": []
   },
   "outputs": [
    {
     "data": {
      "text/plain": [
       "'Pikachu ran away'"
      ]
     },
     "execution_count": 46,
     "metadata": {},
     "output_type": "execute_result"
    }
   ],
   "source": [
    "battle_rayquaza_pikachu = battle('Rayquaza', 'Pikachu')\n",
    "battle_rayquaza_pikachu"
   ]
  },
  {
   "cell_type": "code",
   "execution_count": 47,
   "id": "b8e754ff",
   "metadata": {
    "deletable": false,
    "editable": false
   },
   "outputs": [
    {
     "data": {
      "text/html": [
       "<p><strong><pre style='display: inline;'>q14</pre></strong> passed!</p>"
      ],
      "text/plain": [
       "q14 results: All test cases passed!"
      ]
     },
     "execution_count": 47,
     "metadata": {},
     "output_type": "execute_result"
    }
   ],
   "source": [
    "grader.check(\"q14\")"
   ]
  },
  {
   "cell_type": "markdown",
   "id": "3359a6fc",
   "metadata": {},
   "source": [
    "**Question 15**: What is the output of `battle('Lucario', 'Jigglypuff')`?"
   ]
  },
  {
   "cell_type": "code",
   "execution_count": 48,
   "id": "43d3a142",
   "metadata": {
    "scrolled": true,
    "tags": []
   },
   "outputs": [
    {
     "data": {
      "text/plain": [
       "'Lucario'"
      ]
     },
     "execution_count": 48,
     "metadata": {},
     "output_type": "execute_result"
    }
   ],
   "source": [
    "battle_lucario_jigglypuff = battle('Lucario', 'Jigglypuff')\n",
    "battle_lucario_jigglypuff"
   ]
  },
  {
   "cell_type": "code",
   "execution_count": 49,
   "id": "049101e3",
   "metadata": {
    "deletable": false,
    "editable": false
   },
   "outputs": [
    {
     "data": {
      "text/html": [
       "<p><strong><pre style='display: inline;'>q15</pre></strong> passed!</p>"
      ],
      "text/plain": [
       "q15 results: All test cases passed!"
      ]
     },
     "execution_count": 49,
     "metadata": {},
     "output_type": "execute_result"
    }
   ],
   "source": [
    "grader.check(\"q15\")"
   ]
  },
  {
   "cell_type": "markdown",
   "id": "d5bed4af",
   "metadata": {},
   "source": [
    "**Question 16**: What is the output of `battle('Mew', 'Celebi')`?"
   ]
  },
  {
   "cell_type": "code",
   "execution_count": 50,
   "id": "685fcdc2",
   "metadata": {
    "tags": []
   },
   "outputs": [
    {
     "data": {
      "text/plain": [
       "'Mew ran away'"
      ]
     },
     "execution_count": 50,
     "metadata": {},
     "output_type": "execute_result"
    }
   ],
   "source": [
    "battle_mew_celebi = battle('Mew', 'Celebi')\n",
    "battle_mew_celebi"
   ]
  },
  {
   "cell_type": "code",
   "execution_count": 51,
   "id": "341b38c5",
   "metadata": {
    "deletable": false,
    "editable": false
   },
   "outputs": [
    {
     "data": {
      "text/html": [
       "<p><strong><pre style='display: inline;'>q16</pre></strong> passed!</p>"
      ],
      "text/plain": [
       "q16 results: All test cases passed!"
      ]
     },
     "execution_count": 51,
     "metadata": {},
     "output_type": "execute_result"
    }
   ],
   "source": [
    "grader.check(\"q16\")"
   ]
  },
  {
   "cell_type": "markdown",
   "id": "71004a50",
   "metadata": {},
   "source": [
    "## Function 6: `friendship_score(pkmn1, pkmn2)`\n",
    "\n",
    "Pokémon aren't always violent. They are at most times quite friendly. However, some Pokémon are more friendly with some than they are with others. Trainers need to know which Pokémon get along well and which do not, to avoid unnecessary conflict. Thankfully for trainers, there is an almost scientific way to determine how well two different Pokémon can get along with each other.\n",
    "\n",
    "Given two Pokémon `pkmn1` and `pkmn2`, we can compute the **friendship score** between them. A high friendship score (5) means the two Pokémon will get along really well, while a low friendship score (0) means they won't.\n",
    "\n",
    "We can check whether a pair of Pokémon has a high friendship score based on the below rules:\n",
    "\n",
    "1. Pokémon from the **same region** gain a friendship point.\n",
    "\n",
    "2. Pokémon gain a  friendship point if their **difference** in **stat total** is **at most** 20 points. The **stat total** of a Pokémon is the sum of its Attack, Defense, HP, Sp. Atk., Sp. Def., and Speed stats. \n",
    "   \n",
    "3. Pokémon gain a friendship point if they have the **same `type1`**.\n",
    "    \n",
    "4. Pokémon gain a friendship point if they have the **same `type2`**, provided that this common `type2` is **not** `None`.\n",
    "    \n",
    "5. If a Pokémon's `type1` is the same as another Pokémon's `type2` (or vice versa), they do **not** gain any friendship points for it. They only gain points if the **corresponding** types are the same (and not `None`).\n",
    "    \n",
    "6. Additionally, if the two Pokémon share **both** types in common (and their `type2` is **not** `None`), they get **another** point for synergy. For example, if two Pokémon have both their corresponding types in common they will get a total of `3` points (2 for the common types and 1 for synergy).\n",
    "\n",
    "\n",
    "Define the function `friendship_score` that takes in two Pokémon as its arguments and returns their friendship score.\n",
    "\n",
    "**Hint:** You might also want to define another *helper* function to compute the **stat total** of a Pokémon. You may also *reuse* other helper functions you wrote in lab-p4 (remember to copy/paste them into this notebook before you try to use them)."
   ]
  },
  {
   "cell_type": "code",
   "execution_count": 52,
   "id": "fa81527d",
   "metadata": {},
   "outputs": [],
   "source": [
    "def stat_total(pkmn):\n",
    "#     stat_total=0\n",
    "    stat_total=project.get_attack(pkmn)+project.get_defense(pkmn)+project.get_sp_atk(pkmn)+project.get_sp_def(pkmn)+project.get_speed(pkmn)+project.get_hp(pkmn)\n",
    "    return stat_total"
   ]
  },
  {
   "cell_type": "code",
   "execution_count": 53,
   "id": "dabc4fd7",
   "metadata": {},
   "outputs": [],
   "source": [
    "# for personal test only \n",
    "# stat_total(\"Squirtle\")"
   ]
  },
  {
   "cell_type": "code",
   "execution_count": 54,
   "id": "3d7bb58c",
   "metadata": {
    "tags": []
   },
   "outputs": [],
   "source": [
    "# define friendship_score() here\n",
    "def friendship_score(pkmn1, pkmn2):\n",
    "    friendship_score=0 #default\n",
    "    \n",
    "    if(project.get_region(pkmn1)==project.get_region(pkmn2)):\n",
    "        friendship_score+=1\n",
    "        \n",
    "    diff_in_stat_total=abs(stat_total(pkmn1)-stat_total(pkmn2))\n",
    "    if(diff_in_stat_total<=20):\n",
    "        friendship_score+=1\n",
    "        \n",
    "    if(project.get_type1(pkmn1)==project.get_type1(pkmn2)):\n",
    "        friendship_score+=1\n",
    "        \n",
    "    if(project.get_type2(pkmn1)!=\"None\" and project.get_type2(pkmn2)!=\"None\" and project.get_type2(pkmn1)==project.get_type2(pkmn2)):\n",
    "        friendship_score+=1\n",
    "        if(project.get_type1(pkmn1)==project.get_type1(pkmn2)): #synergy point check part under condition type2 same \n",
    "            friendship_score+=1\n",
    "    return friendship_score\n",
    "#     if((get_type2(pkmn1)!=\"None\" and get_type2(pkmn2)!=\"None\" and get_type2(pkmn1)==get_type2(pkmn2)) and (get_type1(pkmn1)==get_type1(pkmn2))):\n",
    "#         friendship_score+=1"
   ]
  },
  {
   "cell_type": "markdown",
   "id": "5beacc6b",
   "metadata": {},
   "source": [
    "**Question 17**: What is the output of `friendship_score('Pikachu', 'Squirtle')`?"
   ]
  },
  {
   "cell_type": "code",
   "execution_count": 55,
   "id": "fe9713a6",
   "metadata": {
    "tags": []
   },
   "outputs": [
    {
     "data": {
      "text/plain": [
       "2"
      ]
     },
     "execution_count": 55,
     "metadata": {},
     "output_type": "execute_result"
    }
   ],
   "source": [
    "friendship_pikachu_squirtle = friendship_score('Pikachu', 'Squirtle')\n",
    "friendship_pikachu_squirtle"
   ]
  },
  {
   "cell_type": "code",
   "execution_count": 56,
   "id": "48e0b1fa",
   "metadata": {
    "deletable": false,
    "editable": false
   },
   "outputs": [
    {
     "data": {
      "text/html": [
       "<p><strong><pre style='display: inline;'>q17</pre></strong> passed!</p>"
      ],
      "text/plain": [
       "q17 results: All test cases passed!"
      ]
     },
     "execution_count": 56,
     "metadata": {},
     "output_type": "execute_result"
    }
   ],
   "source": [
    "grader.check(\"q17\")"
   ]
  },
  {
   "cell_type": "markdown",
   "id": "c8c37108",
   "metadata": {},
   "source": [
    "**Question 18**: What is the output of `friendship_score('Growlithe', 'Umbreon')`?"
   ]
  },
  {
   "cell_type": "code",
   "execution_count": 57,
   "id": "8119a113",
   "metadata": {
    "tags": []
   },
   "outputs": [
    {
     "data": {
      "text/plain": [
       "0"
      ]
     },
     "execution_count": 57,
     "metadata": {},
     "output_type": "execute_result"
    }
   ],
   "source": [
    "friendship_growlithe_umbreon = friendship_score('Growlithe', 'Umbreon')\n",
    "friendship_growlithe_umbreon"
   ]
  },
  {
   "cell_type": "code",
   "execution_count": 58,
   "id": "71f789e0",
   "metadata": {
    "deletable": false,
    "editable": false
   },
   "outputs": [
    {
     "data": {
      "text/html": [
       "<p><strong><pre style='display: inline;'>q18</pre></strong> passed!</p>"
      ],
      "text/plain": [
       "q18 results: All test cases passed!"
      ]
     },
     "execution_count": 58,
     "metadata": {},
     "output_type": "execute_result"
    }
   ],
   "source": [
    "grader.check(\"q18\")"
   ]
  },
  {
   "cell_type": "markdown",
   "id": "4327bfbf",
   "metadata": {},
   "source": [
    "**Question 19**: What is the output of `friendship_score('Nidoking', 'Nidoqueen')`?"
   ]
  },
  {
   "cell_type": "code",
   "execution_count": 59,
   "id": "eb058d56",
   "metadata": {
    "tags": []
   },
   "outputs": [
    {
     "data": {
      "text/plain": [
       "5"
      ]
     },
     "execution_count": 59,
     "metadata": {},
     "output_type": "execute_result"
    }
   ],
   "source": [
    "friendship_nidoking_nidoqueen = friendship_score('Nidoking', 'Nidoqueen')\n",
    "friendship_nidoking_nidoqueen"
   ]
  },
  {
   "cell_type": "code",
   "execution_count": 60,
   "id": "df78fa75",
   "metadata": {
    "deletable": false,
    "editable": false
   },
   "outputs": [
    {
     "data": {
      "text/html": [
       "<p><strong><pre style='display: inline;'>q19</pre></strong> passed!</p>"
      ],
      "text/plain": [
       "q19 results: All test cases passed!"
      ]
     },
     "execution_count": 60,
     "metadata": {},
     "output_type": "execute_result"
    }
   ],
   "source": [
    "grader.check(\"q19\")"
   ]
  },
  {
   "cell_type": "markdown",
   "id": "8ba77667",
   "metadata": {},
   "source": [
    "**Question 20**: What is the output of `friendship_score('Snivy', 'Snivy')`?"
   ]
  },
  {
   "cell_type": "code",
   "execution_count": 61,
   "id": "920569cd",
   "metadata": {
    "tags": []
   },
   "outputs": [
    {
     "data": {
      "text/plain": [
       "3"
      ]
     },
     "execution_count": 61,
     "metadata": {},
     "output_type": "execute_result"
    }
   ],
   "source": [
    "friendship_snivy_snivy = friendship_score('Snivy', 'Snivy')\n",
    "friendship_snivy_snivy"
   ]
  },
  {
   "cell_type": "code",
   "execution_count": 62,
   "id": "d09f1c82",
   "metadata": {
    "deletable": false,
    "editable": false
   },
   "outputs": [
    {
     "data": {
      "text/html": [
       "<p><strong><pre style='display: inline;'>q20</pre></strong> passed!</p>"
      ],
      "text/plain": [
       "q20 results: All test cases passed!"
      ]
     },
     "execution_count": 62,
     "metadata": {},
     "output_type": "execute_result"
    }
   ],
   "source": [
    "grader.check(\"q20\")"
   ]
  },
  {
   "cell_type": "markdown",
   "id": "1f5f6fa1",
   "metadata": {
    "deletable": false,
    "editable": false
   },
   "source": [
    "## Submission\n",
    "\n",
    "Make sure you have run all cells in your notebook in order before running the cell below, so that all images/graphs appear in the output. The cell below will generate a zip file for you to submit. **Please save before exporting!**\n",
    "\n",
    "**SUBMISSION INSTRUCTIONS**: 1. **Save** the notebook file **now (before you run the next cell of code)**. 2. **Upload** the zipfile to Gradescope. 3. Check **Gradescope otter** results as soon as the auto-grader execution gets completed. Don't worry about the score showing up as -/100.0. You only need to check that the test cases passed."
   ]
  },
  {
   "cell_type": "code",
   "execution_count": 63,
   "id": "49e522d2",
   "metadata": {
    "deletable": false,
    "editable": false
   },
   "outputs": [
    {
     "name": "stdout",
     "output_type": "stream",
     "text": [
      "Running your submission against local test cases...\n",
      "\n",
      "\n",
      "\n",
      "Your submission received the following results when run against available test cases:\n",
      "\n",
      "    q1 results: All test cases passed!\n",
      "\n",
      "    q2 results: All test cases passed!\n",
      "\n",
      "    q3 results: All test cases passed!\n",
      "\n",
      "    q4 results: All test cases passed!\n",
      "\n",
      "    q5 results: All test cases passed!\n",
      "\n",
      "    q6 results: All test cases passed!\n",
      "\n",
      "    q7 results: All test cases passed!\n",
      "\n",
      "    q8 results: All test cases passed!\n",
      "\n",
      "    q9 results: All test cases passed!\n",
      "\n",
      "    q10 results: All test cases passed!\n",
      "\n",
      "    q11 results: All test cases passed!\n",
      "\n",
      "    q12 results: All test cases passed!\n",
      "\n",
      "    q13 results: All test cases passed!\n",
      "\n",
      "    q14 results: All test cases passed!\n",
      "\n",
      "    q15 results: All test cases passed!\n",
      "\n",
      "    q16 results: All test cases passed!\n",
      "\n",
      "    q17 results: All test cases passed!\n",
      "\n",
      "    q18 results: All test cases passed!\n",
      "\n",
      "    q19 results: All test cases passed!\n",
      "\n",
      "    q20 results: All test cases passed!\n"
     ]
    },
    {
     "data": {
      "text/html": [
       "\n",
       "            <p>Your submission has been exported. Click <a href=\"p4_2022_10_07T11_05_02_922574.zip\" download=\"p4_2022_10_07T11_05_02_922574.zip\" target=\"_blank\">here</a>\n",
       "            to download the zip file.</p>\n",
       "            "
      ],
      "text/plain": [
       "<IPython.core.display.HTML object>"
      ]
     },
     "metadata": {},
     "output_type": "display_data"
    }
   ],
   "source": [
    "# Save your notebook first, then run this cell to export your submission.\n",
    "grader.export(pdf=False, run_tests=True)"
   ]
  },
  {
   "cell_type": "markdown",
   "id": "852f8933",
   "metadata": {},
   "source": [
    " "
   ]
  }
 ],
 "metadata": {
  "kernelspec": {
   "display_name": "Python 3 (ipykernel)",
   "language": "python",
   "name": "python3"
  },
  "language_info": {
   "codemirror_mode": {
    "name": "ipython",
    "version": 3
   },
   "file_extension": ".py",
   "mimetype": "text/x-python",
   "name": "python",
   "nbconvert_exporter": "python",
   "pygments_lexer": "ipython3",
   "version": "3.9.12"
  },
  "otter": {
   "OK_FORMAT": true,
   "tests": {
    "q1": {
     "name": "q1",
     "points": 5,
     "suites": [
      {
       "cases": [
        {
         "code": ">>> test.check('q1' , damage_zacian_mewtwo)\nTrue",
         "hidden": false,
         "locked": false
        }
       ],
       "scored": true,
       "setup": "",
       "teardown": "",
       "type": "doctest"
      }
     ]
    },
    "q10": {
     "name": "q10",
     "points": 5,
     "suites": [
      {
       "cases": [
        {
         "code": ">>> test.check('q10' , battle_bulbasaur_flareon)\nTrue",
         "hidden": false,
         "locked": false
        }
       ],
       "scored": true,
       "setup": "",
       "teardown": "",
       "type": "doctest"
      }
     ]
    },
    "q11": {
     "name": "q11",
     "points": 5,
     "suites": [
      {
       "cases": [
        {
         "code": ">>> test.check('q11' , battle_blastoise_charizard)\nTrue",
         "hidden": false,
         "locked": false
        }
       ],
       "scored": true,
       "setup": "",
       "teardown": "",
       "type": "doctest"
      }
     ]
    },
    "q12": {
     "name": "q12",
     "points": 5,
     "suites": [
      {
       "cases": [
        {
         "code": ">>> test.check('q12' , battle_pidgey_starly)\nTrue",
         "hidden": false,
         "locked": false
        }
       ],
       "scored": true,
       "setup": "",
       "teardown": "",
       "type": "doctest"
      }
     ]
    },
    "q13": {
     "name": "q13",
     "points": 5,
     "suites": [
      {
       "cases": [
        {
         "code": ">>> test.check('q13' , battle_mudkip_gulpin)\nTrue",
         "hidden": false,
         "locked": false
        }
       ],
       "scored": true,
       "setup": "",
       "teardown": "",
       "type": "doctest"
      }
     ]
    },
    "q14": {
     "name": "q14",
     "points": 5,
     "suites": [
      {
       "cases": [
        {
         "code": ">>> test.check('q14' , battle_rayquaza_pikachu)\nTrue",
         "hidden": false,
         "locked": false
        }
       ],
       "scored": true,
       "setup": "",
       "teardown": "",
       "type": "doctest"
      }
     ]
    },
    "q15": {
     "name": "q15",
     "points": 5,
     "suites": [
      {
       "cases": [
        {
         "code": ">>> test.check('q15' , battle_lucario_jigglypuff)\nTrue",
         "hidden": false,
         "locked": false
        }
       ],
       "scored": true,
       "setup": "",
       "teardown": "",
       "type": "doctest"
      }
     ]
    },
    "q16": {
     "name": "q16",
     "points": 5,
     "suites": [
      {
       "cases": [
        {
         "code": ">>> test.check('q16' , battle_mew_celebi)\nTrue",
         "hidden": false,
         "locked": false
        }
       ],
       "scored": true,
       "setup": "",
       "teardown": "",
       "type": "doctest"
      }
     ]
    },
    "q17": {
     "name": "q17",
     "points": 5,
     "suites": [
      {
       "cases": [
        {
         "code": ">>> test.check('q17' , friendship_pikachu_squirtle)\nTrue",
         "hidden": false,
         "locked": false
        }
       ],
       "scored": true,
       "setup": "",
       "teardown": "",
       "type": "doctest"
      }
     ]
    },
    "q18": {
     "name": "q18",
     "points": 5,
     "suites": [
      {
       "cases": [
        {
         "code": ">>> test.check('q18' , friendship_growlithe_umbreon)\nTrue",
         "hidden": false,
         "locked": false
        }
       ],
       "scored": true,
       "setup": "",
       "teardown": "",
       "type": "doctest"
      }
     ]
    },
    "q19": {
     "name": "q19",
     "points": 5,
     "suites": [
      {
       "cases": [
        {
         "code": ">>> test.check('q19' , friendship_nidoking_nidoqueen)\nTrue",
         "hidden": false,
         "locked": false
        }
       ],
       "scored": true,
       "setup": "",
       "teardown": "",
       "type": "doctest"
      }
     ]
    },
    "q2": {
     "name": "q2",
     "points": 5,
     "suites": [
      {
       "cases": [
        {
         "code": ">>> test.check('q2' , damage_slowbro_slowpoke)\nTrue",
         "hidden": false,
         "locked": false
        }
       ],
       "scored": true,
       "setup": "",
       "teardown": "",
       "type": "doctest"
      }
     ]
    },
    "q20": {
     "name": "q20",
     "points": 5,
     "suites": [
      {
       "cases": [
        {
         "code": ">>> test.check('q20' , friendship_snivy_snivy)\nTrue",
         "hidden": false,
         "locked": false
        }
       ],
       "scored": true,
       "setup": "",
       "teardown": "",
       "type": "doctest"
      }
     ]
    },
    "q3": {
     "name": "q3",
     "points": 5,
     "suites": [
      {
       "cases": [
        {
         "code": ">>> test.check('q3' , bonus_water_charmander)\nTrue",
         "hidden": false,
         "locked": false
        }
       ],
       "scored": true,
       "setup": "",
       "teardown": "",
       "type": "doctest"
      }
     ]
    },
    "q4": {
     "name": "q4",
     "points": 5,
     "suites": [
      {
       "cases": [
        {
         "code": ">>> test.check('q4' , bonus_poison_roserade)\nTrue",
         "hidden": false,
         "locked": false
        }
       ],
       "scored": true,
       "setup": "",
       "teardown": "",
       "type": "doctest"
      }
     ]
    },
    "q5": {
     "name": "q5",
     "points": 5,
     "suites": [
      {
       "cases": [
        {
         "code": ">>> test.check('q5' , eff_damage_garchomp_gligar)\nTrue",
         "hidden": false,
         "locked": false
        }
       ],
       "scored": true,
       "setup": "",
       "teardown": "",
       "type": "doctest"
      }
     ]
    },
    "q6": {
     "name": "q6",
     "points": 5,
     "suites": [
      {
       "cases": [
        {
         "code": ">>> test.check('q6' , eff_damage_sceptile_umbreon)\nTrue",
         "hidden": false,
         "locked": false
        }
       ],
       "scored": true,
       "setup": "",
       "teardown": "",
       "type": "doctest"
      }
     ]
    },
    "q7": {
     "name": "q7",
     "points": 5,
     "suites": [
      {
       "cases": [
        {
         "code": ">>> test.check('q7' , eff_damage_infernape_starly)\nTrue",
         "hidden": false,
         "locked": false
        }
       ],
       "scored": true,
       "setup": "",
       "teardown": "",
       "type": "doctest"
      }
     ]
    },
    "q8": {
     "name": "q8",
     "points": 5,
     "suites": [
      {
       "cases": [
        {
         "code": ">>> test.check('q8' , hits_bellsprout_mewtwo)\nTrue",
         "hidden": false,
         "locked": false
        }
       ],
       "scored": true,
       "setup": "",
       "teardown": "",
       "type": "doctest"
      }
     ]
    },
    "q9": {
     "name": "q9",
     "points": 5,
     "suites": [
      {
       "cases": [
        {
         "code": ">>> test.check('q9' , hits_metapod_torterra)\nTrue",
         "hidden": false,
         "locked": false
        }
       ],
       "scored": true,
       "setup": "",
       "teardown": "",
       "type": "doctest"
      }
     ]
    }
   }
  },
  "vscode": {
   "interpreter": {
    "hash": "f08154012ddadd8e950e6e9e035c7a7b32c136e7647e9b7c77e02eb723a8bedb"
   }
  }
 },
 "nbformat": 4,
 "nbformat_minor": 5
}
